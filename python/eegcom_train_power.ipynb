{
  "cells": [
    {
      "cell_type": "code",
      "execution_count": null,
      "id": "de275c24-3b61-45b0-a807-3d4a8b8fa233",
      "metadata": {
        "id": "de275c24-3b61-45b0-a807-3d4a8b8fa233"
      },
      "outputs": [],
      "source": [
        "import pandas as pd\n",
        "import keras as keras\n",
        "import os\n",
        "import librosa\n",
        "import librosa.display\n",
        "import matplotlib.pyplot as plt\n",
        "from sklearn.model_selection import train_test_split\n",
        "from sklearn.preprocessing import normalize\n",
        "import warnings\n",
        "warnings.filterwarnings('ignore')\n",
        "from sklearn.model_selection import train_test_split\n",
        "import tensorflow\n",
        "from tensorflow.keras.layers import LSTM, Dense\n",
        "import tensorflow as tf\n",
        "import glob\n",
        "import numpy as np\n",
        "import matplotlib.pyplot as plt\n",
        "import csv\n",
        "from sklearn.preprocessing import MinMaxScaler\n"
      ]
    },
    {
      "cell_type": "code",
      "source": [
        "from google.colab import drive\n",
        "drive.mount('/content/drive')\n",
        "!cd '/content/drive/MyDrive/OKN/Master IA/Master IA/TFM/mindwave/FASE3' && pwd\n",
        "prefix= '/drive/MyDrive/OKN/Master IA/Master IA/TFM/mindwave/FASE3'\n"
      ],
      "metadata": {
        "colab": {
          "base_uri": "https://localhost:8080/"
        },
        "id": "IyJmW31PLIXx",
        "outputId": "0ff0a6c4-6bfd-49c5-afb0-b1b24185bcfa"
      },
      "id": "IyJmW31PLIXx",
      "execution_count": null,
      "outputs": [
        {
          "output_type": "stream",
          "name": "stdout",
          "text": [
            "Mounted at /content/drive\n",
            "/content/drive/MyDrive/OKN/Master IA/Master IA/TFM/mindwave/FASE3\n"
          ]
        }
      ]
    },
    {
      "cell_type": "code",
      "execution_count": null,
      "id": "8526fc1b-74bd-41b6-b2f3-46c79d24040b",
      "metadata": {
        "colab": {
          "base_uri": "https://localhost:8080/"
        },
        "id": "8526fc1b-74bd-41b6-b2f3-46c79d24040b",
        "outputId": "438548c6-3171-45c5-8a3d-29711e9bd671"
      },
      "outputs": [
        {
          "output_type": "execute_result",
          "data": {
            "text/plain": [
              "((225, 2, 5), (225, 1))"
            ]
          },
          "metadata": {},
          "execution_count": 3
        }
      ],
      "source": [
        "# 3 y 4\n",
        "paths = [\n",
        "           str(os.getcwd() +prefix +\"/pruebas/preguntas_01-50/javier/ses01/\"),\n",
        "               str(os.getcwd() +prefix+\"/pruebas/preguntas_01-50/javier/ses02/\"),\n",
        "             str(os.getcwd() +prefix+\"/pruebas/preguntas_01-50/javier/ses03/\") ,\n",
        "     str(os.getcwd() +prefix+\"/pruebas/preguntas_01-50/javier/ses04/\") ,\n",
        "     str(os.getcwd() +prefix+\"/pruebas/preguntas_01-50/javier/ses05/\") ,\n",
        "    str(os.getcwd() +prefix+\"/pruebas/preguntas_01-50/javier/ses06/\") ,\n",
        "    str(os.getcwd() +prefix+\"/pruebas/preguntas_01-50/javier/ses07/\") ,\n",
        "    str(os.getcwd() +prefix+\"/pruebas/fase1_si/javier/ses_test01/\") ,\n",
        "    str(os.getcwd() +prefix+\"/pruebas/fase1_si/javier/ses_test02/\") ,\n",
        "    str(os.getcwd() +prefix+\"/pruebas/fase1_si/javier/ses_test03/\") ,\n",
        "    str(os.getcwd() +prefix+\"/pruebas/fase1_si/javier/ses_train01/\") ,\n",
        "\n",
        "           str(os.getcwd() +prefix+\"/pruebas/test/javier/ses01/\"),  #90\n",
        "              str(os.getcwd() +prefix+\"/pruebas/test/javier/ses02/\"), #62\n",
        "           str(os.getcwd() +prefix+\"/pruebas/test/javier/ses03/\"),\n",
        "                str(os.getcwd() +prefix+\"/pruebas/test/javier/ses04/\"),\n",
        "                  str(os.getcwd() +prefix+\"/pruebas/test/javier/ses05/\"), #100\n",
        "                 str(os.getcwd() +prefix+\"/pruebas/test/javier/ses06/\"),\n",
        "             str(os.getcwd() +prefix+\"/pruebas/test/javier/ses07/\"),\n",
        "            str(os.getcwd() +prefix+\"/pruebas/test/javier/ses08/\"),      #60\n",
        "           str(os.getcwd()+prefix +\"/pruebas/test/javier/ses09/\")   ,\n",
        "                 str(os.getcwd()+prefix +\"/pruebas/test/javier/ses10/\")   ,\n",
        "                str(os.getcwd()+prefix +\"/pruebas/test/javier/ses11/\")   , #60\n",
        "                  str(os.getcwd() +prefix+\"/pruebas/test/javier/ses12/\")   ,\n",
        "\n",
        "\n",
        "    #  str(os.getcwd() +\"/pruebas/preguntas_01-50/silvia/ses01/\")     ,\n",
        "    #  str(os.getcwd() +\"/pruebas/preguntas_01-50/silvia/ses02/\")     ,\n",
        "    #   str(os.getcwd() +\"/pruebas/preguntas_01-50/silvia/ses03/\")     ,\n",
        "    #   str(os.getcwd() +\"/pruebas/preguntas_01-50/silvia/ses04/\")     ,\n",
        "\n",
        "        ]\n",
        "\n",
        "def load_data(paths):\n",
        "    dfRaw = []\n",
        "    X_emot_train = []\n",
        "    y_emot_train =[]\n",
        "    filter=[]\n",
        "    filterLastRows = 2\n",
        "    i=0\n",
        "    # print (paths)\n",
        "    for path in paths:\n",
        "        dfHead = pd.read_csv(path + 'head.csv')\n",
        "        all_emot_files = glob.glob(os.path.join(path , \"*_emotion*.csv\"))\n",
        "        # print(dfHead[dfHead['questionCode']==24].iloc[0]['response'])\n",
        "\n",
        "        for filename in all_emot_files:\n",
        "            dfRaw = pd.read_csv(filename, index_col=None, header=0, delimiter=',')\n",
        "            # dfRaw = dfRaw[:,5:]\n",
        "            # print(np.array(dfRaw))\n",
        "            if len(dfRaw)>=filterLastRows:\n",
        "                qCode = dfRaw['questionCode'].iloc[[0]][0]\n",
        "                # print(dfRaw[3:])\n",
        "                X_emot_train.append([])\n",
        "                # X = np.array(dfRaw.tail(filterLastRows)['rawEeg'])\n",
        "                # print(qCode)\n",
        "                X = np.array(dfRaw.tail(filterLastRows))\n",
        "                scaler = MinMaxScaler()\n",
        "                # transform data\n",
        "                X = X[:,5:]\n",
        "                # X = np.array((X-np.min(X))/(np.max(X)-np.min(X)))\n",
        "                # X = X/np.std(X)\n",
        "                for idx, it in enumerate(X):\n",
        "                    # print(X[idx][5:])\n",
        "                    X_emot_train[i].append([])\n",
        "                    X_emot_train[i][idx] =X[idx][5:]\n",
        "                    # X_emot_train[i][idx].append([])\n",
        "                    # X_emot_train[i][idx][0] = X[idx]\n",
        "\n",
        "\n",
        "                y_emot_train.append([])\n",
        "                y_emot_train[i].append([])\n",
        "                y_emot_train[i][0] = dfHead[dfHead['questionCode']==qCode].iloc[0]['response']\n",
        "                i=i+1\n",
        "    return X_emot_train,y_emot_train\n",
        "\n",
        "\n",
        "X_emot_train = []\n",
        "y_emot_train =[]\n",
        "X_emot_train,y_emot_train= load_data(paths)\n",
        "X = np.array(X_emot_train)\n",
        "y = np.array(y_emot_train)\n",
        "X.shape, y.shape\n",
        "# X_emot_train"
      ]
    },
    {
      "cell_type": "code",
      "execution_count": null,
      "id": "0c0bec32-6f18-4b4a-b950-3a56b2587934",
      "metadata": {
        "id": "0c0bec32-6f18-4b4a-b950-3a56b2587934",
        "outputId": "7db2ae0b-ed28-4a71-98e2-0bfa536ceaec"
      },
      "outputs": [
        {
          "data": {
            "text/plain": [
              "(37, 2, 5)"
            ]
          },
          "execution_count": 1964,
          "metadata": {},
          "output_type": "execute_result"
        }
      ],
      "source": [
        "# 1,2 funcionan bien\n",
        "test_paths = [\n",
        "           # str(os.getcwd() +\"/pruebas/test/javier/ses01/\"),  #90\n",
        "           #    str(os.getcwd() +\"/pruebas/test/javier/ses02/\"), #62\n",
        "           # str(os.getcwd() +\"/pruebas/test/javier/ses03/\"),\n",
        "           #      str(os.getcwd() +\"/pruebas/test/javier/ses04/\"),\n",
        "           #        str(os.getcwd() +\"/pruebas/test/javier/ses05/\"), #100\n",
        "           #       str(os.getcwd() +\"/pruebas/test/javier/ses06/\"),\n",
        "           #   str(os.getcwd() +\"/pruebas/test/javier/ses07/\"),\n",
        "           #  str(os.getcwd() +\"/pruebas/test/javier/ses08/\"),      #60\n",
        "           # str(os.getcwd() +\"/pruebas/test/javier/ses09/\")   ,\n",
        "           #       str(os.getcwd() +\"/pruebas/test/javier/ses10/\")   ,\n",
        "           #      str(os.getcwd() +\"/pruebas/test/javier/ses11/\")   , #60\n",
        "           #        str(os.getcwd() +\"/pruebas/test/javier/ses12/\")   ,\n",
        "\n",
        "\n",
        "    str(os.getcwd() +\"/pruebas/test/silvia/ses01/\")   ,\n",
        "    str(os.getcwd() +\"/pruebas/test/silvia/ses02/\")      ,\n",
        "    str(os.getcwd() +\"/pruebas/test/silvia/ses03/\")     ,\n",
        "     str(os.getcwd() +\"/pruebas/test/silvia/ses04/\")     ,\n",
        "        str(os.getcwd() +\"/pruebas/test/silvia/sesbal/\")     ,\n",
        "\n",
        "\n",
        "]\n",
        "\n",
        "# paths = [\n",
        "#          # str(os.getcwd() +\"/pruebas/preguntas_01-30/javier/ses01/\")\n",
        "#           # str(os.getcwd() +\"/pruebas/preguntas_01-30/javier/ses02/\")\n",
        "#          # str(os.getcwd() +\"/pruebas/preguntas_01-30/javier/ses03/\")\n",
        "#         ]\n",
        "x_test_raw, y_test_raw = load_data(test_paths)\n",
        "x_test = np.array(x_test_raw)\n",
        "y_test = np.array(y_test_raw)\n",
        "\n",
        "# y_test_raw\n",
        "# x_test_raw\n",
        "x_test.shape"
      ]
    },
    {
      "cell_type": "code",
      "execution_count": null,
      "id": "302286a8-12a4-4012-a1f0-4fd043e983f0",
      "metadata": {
        "id": "302286a8-12a4-4012-a1f0-4fd043e983f0"
      },
      "outputs": [],
      "source": [
        "from sklearn.metrics import confusion_matrix, classification_report\n",
        "import seaborn as sns\n",
        "\n",
        "def show_results(y_test, pred_y):\n",
        "    conf_matrix = confusion_matrix(y_test,pred_y)\n",
        "    plt.figure(figsize=(2,2))\n",
        "    labels = ['0: No', '1: Si']\n",
        "    sns.heatmap(conf_matrix, xticklabels=labels, yticklabels=labels, annot=True, fmt='d')\n",
        "    plt.title('Confusion matrix')\n",
        "    plt.ylabel('True class')\n",
        "    plt.xlabel('Predicted class')\n",
        "    plt.show()\n",
        "\n",
        "    print(classification_report(y_test,pred_y))\n"
      ]
    },
    {
      "cell_type": "code",
      "execution_count": null,
      "id": "58c89702-0084-4af5-b70a-cd1773e67035",
      "metadata": {
        "id": "58c89702-0084-4af5-b70a-cd1773e67035",
        "outputId": "14da47f5-ccbc-4dc4-b5d6-42e0996b4932"
      },
      "outputs": [
        {
          "name": "stdout",
          "output_type": "stream",
          "text": [
            "5\n",
            "(5, 26)\n"
          ]
        },
        {
          "data": {
            "image/png": "[encoded data removed]",
            "text/plain": [
              "<Figure size 1000x600 with 1 Axes>"
            ]
          },
          "metadata": {},
          "output_type": "display_data"
        },
        {
          "data": {
            "image/png": "[encoded data removed]",
            "text/plain": [
              "<Figure size 1000x1500 with 1 Axes>"
            ]
          },
          "metadata": {},
          "output_type": "display_data"
        }
      ],
      "source": [
        "import matplotlib.pyplot as plt\n",
        "import numpy as np\n",
        "import scipy.signal as signal\n",
        "from python_speech_features import mfcc\n",
        "\n",
        "def plot_series(time, series, format=\"-\", start=0, end=None):\n",
        "    plt.plot(time[start:end], series[start:end], format)\n",
        "    plt.xlabel(\"Time\")\n",
        "    plt.ylabel(\"Value\")\n",
        "    plt.grid(True)\n",
        "\n",
        "\n",
        "def get_timed_series(dataArr):\n",
        "    time_step = []\n",
        "    data = []\n",
        "    step=0\n",
        "    for row in dataArr:\n",
        "        data.append(float(row))\n",
        "        # print(row[3])\n",
        "        time_step.append(step)\n",
        "        step = step + 1\n",
        "    return np.array(time_step),np.array(data)\n",
        "\n",
        "\n",
        "\n",
        "input_signal =X[0][0]\n",
        "\n",
        "time,series = get_timed_series(input_signal)\n",
        "plt.figure(figsize=(10, 6))\n",
        "plot_series(time, series)\n",
        "\n",
        "\n",
        "\n",
        "\n",
        "\n",
        "fig, ax_list = plt.subplots(nrows=1, figsize=(10, 15), gridspec_kw={'wspace': 0, 'hspace': 0.2}, dpi=100)\n",
        "\n",
        "window = 1\n",
        "step = 1\n",
        "\n",
        "\n",
        "# Pot MFCC spectrogram of input signal\n",
        "ax = ax_list\n",
        "def convert_to_mfccs(wav):\n",
        "    return mfcc(wav, 1, winstep=step, winlen=window, numcep=26)\n",
        "\n",
        "data = convert_to_mfccs(input_signal)\n",
        "print(len(data))\n",
        "print(data.shape)\n",
        "\n",
        "\n",
        "presentation_steps = np.arange(data.shape[0])\n",
        "ax.imshow(data.T, aspect=\"auto\", interpolation=\"nearest\")\n",
        "ax.set_ylabel(\"MFCC features\")\n",
        "\n",
        "\n",
        "plt.show()\n",
        "\n"
      ]
    },
    {
      "cell_type": "code",
      "execution_count": null,
      "id": "8176e63e-bc31-46ca-9add-1b7944df3840",
      "metadata": {
        "id": "8176e63e-bc31-46ca-9add-1b7944df3840"
      },
      "outputs": [],
      "source": [
        "\n",
        "#Split twice to get the validation set\n",
        "# X_train, X_test, y_train, y_test = train_test_split(X, y, test_size=0.25, random_state=123, stratify=y)\n",
        "# X = np.asarray(X).astype(np.float32)\n",
        "# # X_train, X_val, y_train, y_val = train_test_split(X, y, test_size=0.25, shuffle=True)\n",
        "\n",
        "# y_val_cat = y_train_cat =keras.utils.to_categorical(y_val,2)\n",
        "# y_train_cat =keras.utils.to_categorical(y_train,2)\n",
        "\n",
        "\n",
        "# X_train.shape,  y_train.shape, X_val.shape, y_val.shape, len(y_train),  len(y_val), y_val\n",
        "# y_val_cat,\n",
        "# # X_train\n"
      ]
    },
    {
      "cell_type": "code",
      "source": [
        "X = np.asarray(X).astype(np.float32)\n",
        "\n",
        "X_train, X_test, y_train, y_test = train_test_split(X, y, test_size=0.2)\n",
        "X_train, X_val, y_train, y_val  = train_test_split(X_train, y_train, test_size=0.25) # 0.25 x 0.8 = 0.2\n",
        "\n",
        "y_val_cat =keras.utils.to_categorical(y_val,2)\n",
        "y_train_cat =keras.utils.to_categorical(y_train,2)\n",
        "y_test_cat =keras.utils.to_categorical(y_test,2)\n",
        "\n",
        "X_train.shape, y_train.shape,X_test.shape,y_test.shape,X_val.shape, y_val.shape"
      ],
      "metadata": {
        "colab": {
          "base_uri": "https://localhost:8080/"
        },
        "id": "--wSaHOYLcTa",
        "outputId": "e0b6af79-7cf7-47e4-ebb5-b37b0e2fdaad"
      },
      "id": "--wSaHOYLcTa",
      "execution_count": null,
      "outputs": [
        {
          "output_type": "execute_result",
          "data": {
            "text/plain": [
              "((135, 2, 5), (135, 1), (45, 2, 5), (45, 1), (45, 2, 5), (45, 1))"
            ]
          },
          "metadata": {},
          "execution_count": 5
        }
      ]
    },
    {
      "cell_type": "code",
      "execution_count": null,
      "id": "fd937c1c-b75d-49c5-b1a3-d01442669981",
      "metadata": {
        "id": "fd937c1c-b75d-49c5-b1a3-d01442669981",
        "outputId": "60ea6c56-d9b2-49bb-ac37-7466f791f370"
      },
      "outputs": [
        {
          "data": {
            "text/plain": [
              "(35, 3, 5)"
            ]
          },
          "execution_count": 25,
          "metadata": {},
          "output_type": "execute_result"
        }
      ],
      "source": [
        "X_train,y_train,y_train_cat\n",
        "X_train.shape"
      ]
    },
    {
      "cell_type": "code",
      "execution_count": null,
      "id": "52b705cb-2e74-4b30-93f2-0617e6614189",
      "metadata": {
        "colab": {
          "base_uri": "https://localhost:8080/"
        },
        "id": "52b705cb-2e74-4b30-93f2-0617e6614189",
        "outputId": "d6f633d9-c229-4a68-d240-ce55249e7e62"
      },
      "outputs": [
        {
          "output_type": "stream",
          "name": "stdout",
          "text": [
            "Model: \"sequential\"\n",
            "_________________________________________________________________\n",
            " Layer (type)                Output Shape              Param #   \n",
            "=================================================================\n",
            " lstm (LSTM)                 (None, 2, 64)             17920     \n",
            "                                                                 \n",
            " lstm_1 (LSTM)               (None, 2, 64)             33024     \n",
            "                                                                 \n",
            " lstm_2 (LSTM)               (None, 64)                33024     \n",
            "                                                                 \n",
            " batch_normalization (Batch  (None, 64)                256       \n",
            " Normalization)                                                  \n",
            "                                                                 \n",
            " dense (Dense)               (None, 32)                2080      \n",
            "                                                                 \n",
            " dense_1 (Dense)             (None, 128)               4224      \n",
            "                                                                 \n",
            " dense_2 (Dense)             (None, 128)               16512     \n",
            "                                                                 \n",
            " dense_3 (Dense)             (None, 2)                 258       \n",
            "                                                                 \n",
            "=================================================================\n",
            "Total params: 107298 (419.13 KB)\n",
            "Trainable params: 107170 (418.63 KB)\n",
            "Non-trainable params: 128 (512.00 Byte)\n",
            "_________________________________________________________________\n"
          ]
        }
      ],
      "source": [
        "#modelo 0\n",
        "keras.backend.clear_session()\n",
        "tf.random.set_seed(51)\n",
        "np.random.seed(51)\n",
        "\n",
        "model = keras.Sequential()\n",
        "\n",
        "# model.add(keras.layers.Conv1D(filters=32,kernel_size=5,strides=1,padding=\"causal\", activation=\"relu\",input_shape=(X_train.shape[1], 1)))\n",
        "# input_shape=(None,1)\n",
        "input_shape=(X_train.shape[1],X_train.shape[2])\n",
        "# model.add(keras.layers.Conv1D(filters=32,kernel_size=5,strides=1,padding=\"causal\", activation=\"relu\",input_shape=input_shape))\n",
        "model.add(LSTM(64, return_sequences=True,input_shape=input_shape))\n",
        "model.add(LSTM(64, return_sequences=True,input_shape=input_shape))\n",
        "model.add(LSTM(64))\n",
        "# model.add(LSTM(100, input_shape=(1, 1), return_sequences=True))\n",
        "model.add(keras.layers.BatchNormalization())\n",
        "# model.add(Dense(32, input_shape=input_shape, activation='tanh'))\n",
        "model.add(Dense(32, activation='relu'))\n",
        "# model.add(keras.layers.BatchNormalization())\n",
        "model.add(Dense(128, activation='relu'))\n",
        "# model.add(keras.layers.BatchNormalization())\n",
        "model.add(Dense(128, activation='relu'))\n",
        "# model.add(Dense(2, activation='softmax'))\n",
        "model.add(Dense(2, activation='sigmoid'))\n",
        "model.summary()\n",
        "\n",
        "model.compile(loss='binary_crossentropy', optimizer='adam', metrics=['accuracy'])\n"
      ]
    },
    {
      "cell_type": "code",
      "execution_count": null,
      "id": "84507489-3b94-4d5f-9d1a-547f3ac24daf",
      "metadata": {
        "colab": {
          "base_uri": "https://localhost:8080/",
          "height": 1000
        },
        "id": "84507489-3b94-4d5f-9d1a-547f3ac24daf",
        "outputId": "17644d8b-ead7-4f2b-8c75-9e7012f23e6c"
      },
      "outputs": [
        {
          "output_type": "stream",
          "name": "stdout",
          "text": [
            "Epoch 1/100\n",
            "5/5 [==============================] - 0s 36ms/step - loss: 0.0385 - accuracy: 0.9852 - val_loss: 1.7269 - val_accuracy: 0.5333\n",
            "Epoch 2/100\n",
            "5/5 [==============================] - 0s 17ms/step - loss: 0.0658 - accuracy: 0.9704 - val_loss: 1.7574 - val_accuracy: 0.5556\n",
            "Epoch 3/100\n",
            "5/5 [==============================] - 0s 19ms/step - loss: 0.0727 - accuracy: 0.9630 - val_loss: 1.7586 - val_accuracy: 0.5556\n",
            "Epoch 4/100\n",
            "5/5 [==============================] - 0s 20ms/step - loss: 0.0453 - accuracy: 0.9704 - val_loss: 1.7728 - val_accuracy: 0.5111\n",
            "Epoch 5/100\n",
            "5/5 [==============================] - 0s 19ms/step - loss: 0.0442 - accuracy: 0.9852 - val_loss: 1.8088 - val_accuracy: 0.5333\n",
            "Epoch 6/100\n",
            "5/5 [==============================] - 0s 20ms/step - loss: 0.0420 - accuracy: 0.9852 - val_loss: 1.8527 - val_accuracy: 0.4889\n",
            "Epoch 7/100\n",
            "5/5 [==============================] - 0s 17ms/step - loss: 0.0381 - accuracy: 0.9852 - val_loss: 1.8680 - val_accuracy: 0.4889\n",
            "Epoch 8/100\n",
            "5/5 [==============================] - 0s 18ms/step - loss: 0.0568 - accuracy: 0.9704 - val_loss: 1.8896 - val_accuracy: 0.5556\n",
            "Epoch 9/100\n",
            "5/5 [==============================] - 0s 17ms/step - loss: 0.0383 - accuracy: 0.9852 - val_loss: 1.9301 - val_accuracy: 0.5778\n",
            "Epoch 10/100\n",
            "5/5 [==============================] - 0s 22ms/step - loss: 0.0317 - accuracy: 0.9926 - val_loss: 1.9845 - val_accuracy: 0.5333\n",
            "Epoch 11/100\n",
            "5/5 [==============================] - 0s 17ms/step - loss: 0.0453 - accuracy: 0.9852 - val_loss: 2.0339 - val_accuracy: 0.5778\n",
            "Epoch 12/100\n",
            "5/5 [==============================] - 0s 20ms/step - loss: 0.0385 - accuracy: 0.9704 - val_loss: 2.0785 - val_accuracy: 0.5333\n",
            "Epoch 13/100\n",
            "5/5 [==============================] - 0s 20ms/step - loss: 0.0508 - accuracy: 0.9704 - val_loss: 2.1115 - val_accuracy: 0.5556\n",
            "Epoch 14/100\n",
            "5/5 [==============================] - 0s 20ms/step - loss: 0.0362 - accuracy: 0.9778 - val_loss: 2.1598 - val_accuracy: 0.5111\n",
            "Epoch 15/100\n",
            "5/5 [==============================] - 0s 17ms/step - loss: 0.0363 - accuracy: 0.9852 - val_loss: 2.2018 - val_accuracy: 0.4889\n",
            "Epoch 16/100\n",
            "5/5 [==============================] - 0s 24ms/step - loss: 0.0397 - accuracy: 0.9852 - val_loss: 2.2520 - val_accuracy: 0.5556\n",
            "Epoch 17/100\n",
            "5/5 [==============================] - 0s 19ms/step - loss: 0.0425 - accuracy: 0.9778 - val_loss: 2.3141 - val_accuracy: 0.4444\n",
            "Epoch 18/100\n",
            "5/5 [==============================] - 0s 16ms/step - loss: 0.0475 - accuracy: 0.9778 - val_loss: 2.3950 - val_accuracy: 0.5111\n",
            "Epoch 19/100\n",
            "5/5 [==============================] - 0s 17ms/step - loss: 0.0426 - accuracy: 0.9778 - val_loss: 2.4407 - val_accuracy: 0.4889\n",
            "Epoch 20/100\n",
            "5/5 [==============================] - 0s 17ms/step - loss: 0.0400 - accuracy: 0.9852 - val_loss: 2.4778 - val_accuracy: 0.4667\n",
            "Epoch 21/100\n",
            "5/5 [==============================] - 0s 17ms/step - loss: 0.0466 - accuracy: 0.9852 - val_loss: 2.5170 - val_accuracy: 0.4889\n",
            "Epoch 22/100\n",
            "5/5 [==============================] - 0s 17ms/step - loss: 0.0364 - accuracy: 0.9852 - val_loss: 2.5023 - val_accuracy: 0.4444\n",
            "Epoch 23/100\n",
            "5/5 [==============================] - 0s 16ms/step - loss: 0.0484 - accuracy: 0.9778 - val_loss: 2.5514 - val_accuracy: 0.4444\n",
            "Epoch 24/100\n",
            "5/5 [==============================] - 0s 17ms/step - loss: 0.0284 - accuracy: 0.9852 - val_loss: 2.6462 - val_accuracy: 0.4444\n",
            "Epoch 25/100\n",
            "5/5 [==============================] - 0s 20ms/step - loss: 0.0474 - accuracy: 0.9704 - val_loss: 2.6763 - val_accuracy: 0.4444\n",
            "Epoch 26/100\n",
            "5/5 [==============================] - 0s 20ms/step - loss: 0.0489 - accuracy: 0.9778 - val_loss: 2.6105 - val_accuracy: 0.4889\n",
            "Epoch 27/100\n",
            "5/5 [==============================] - 0s 22ms/step - loss: 0.0463 - accuracy: 0.9852 - val_loss: 2.6098 - val_accuracy: 0.5111\n",
            "Epoch 28/100\n",
            "5/5 [==============================] - 0s 16ms/step - loss: 0.0429 - accuracy: 0.9704 - val_loss: 2.5709 - val_accuracy: 0.5556\n",
            "Epoch 29/100\n",
            "5/5 [==============================] - 0s 16ms/step - loss: 0.0622 - accuracy: 0.9704 - val_loss: 2.7039 - val_accuracy: 0.5111\n",
            "Epoch 30/100\n",
            "5/5 [==============================] - 0s 19ms/step - loss: 0.0639 - accuracy: 0.9630 - val_loss: 2.8705 - val_accuracy: 0.4667\n",
            "Epoch 31/100\n",
            "5/5 [==============================] - 0s 16ms/step - loss: 0.0423 - accuracy: 0.9778 - val_loss: 2.8434 - val_accuracy: 0.5333\n",
            "Epoch 32/100\n",
            "5/5 [==============================] - 0s 18ms/step - loss: 0.0438 - accuracy: 0.9778 - val_loss: 2.8524 - val_accuracy: 0.5778\n",
            "Epoch 33/100\n",
            "5/5 [==============================] - 0s 27ms/step - loss: 0.0682 - accuracy: 0.9704 - val_loss: 2.7084 - val_accuracy: 0.5333\n",
            "Epoch 34/100\n",
            "5/5 [==============================] - ETA: 0s - loss: 0.0504 - accuracy: 0.9704\n",
            "Alcanzado el 85% de precisión, se cancela el entrenamiento!!\n",
            "5/5 [==============================] - 0s 28ms/step - loss: 0.0504 - accuracy: 0.9704 - val_loss: 3.1318 - val_accuracy: 0.6889\n",
            "2/2 [==============================] - 0s 7ms/step\n"
          ]
        },
        {
          "output_type": "display_data",
          "data": {
            "text/plain": [
              "<Figure size 200x200 with 2 Axes>"
            ],
            "image/png": "[encoded data removed]"
          },
          "metadata": {}
        },
        {
          "output_type": "stream",
          "name": "stdout",
          "text": [
            "              precision    recall  f1-score   support\n",
            "\n",
            "           0       0.41      0.61      0.49        18\n",
            "           1       0.61      0.41      0.49        27\n",
            "\n",
            "    accuracy                           0.49        45\n",
            "   macro avg       0.51      0.51      0.49        45\n",
            "weighted avg       0.53      0.49      0.49        45\n",
            "\n"
          ]
        }
      ],
      "source": [
        "class myCallback(tf.keras.callbacks.Callback):\n",
        "      def on_epoch_end(self, epoch, logs={}):\n",
        "        if(logs.get('val_accuracy')> 0.6 and logs.get('accuracy')> 0.9):\n",
        "              print(\"\\nAlcanzado el 85% de precisión, se cancela el entrenamiento!!\")\n",
        "              self.model.stop_training = True\n",
        "callbacks0 =myCallback()\n",
        "\n",
        "# history = model.fit(X_train, y_train_cat, epochs=14, batch_size=2, validation_data=(X_val, y_val_cat), shuffle=True)\n",
        "# y_train_cat_b = [[1., 0.],[0., 1.],[1., 0.],[0., 1.],[1., 0.],[1., 0.],[0., 1.], [1., 0.],[1., 0.]]\n",
        "history = model.fit(X_train, np.array(y_train_cat), epochs=100, batch_size=32,  validation_data=(X_val, y_val_cat), shuffle=True, callbacks=[callbacks0])\n",
        "# model.fit(train_set, epochs=2)\n",
        "\n",
        "x_test = np.asarray(X_test).astype(np.float32)\n",
        "y_test_pred = model.predict(x_test)\n",
        "y_test_pred2 = [np.argmax(i) for i in y_test_pred]\n",
        "show_results(y_test,y_test_pred2)"
      ]
    },
    {
      "cell_type": "code",
      "execution_count": null,
      "id": "27604e7a-616e-4fb1-8005-56b35f9bb29b",
      "metadata": {
        "id": "27604e7a-616e-4fb1-8005-56b35f9bb29b"
      },
      "outputs": [],
      "source": [
        "model.save('model_javier_emot_22_model1_mixtraintest67.keras')"
      ]
    },
    {
      "cell_type": "code",
      "execution_count": null,
      "id": "006f8838-6d8c-4800-bfe1-5b75df7bc4f6",
      "metadata": {
        "colab": {
          "base_uri": "https://localhost:8080/"
        },
        "id": "006f8838-6d8c-4800-bfe1-5b75df7bc4f6",
        "outputId": "36f050ce-3e94-4531-921b-3ff839efb918"
      },
      "outputs": [
        {
          "output_type": "stream",
          "name": "stdout",
          "text": [
            "Model: \"sequential\"\n",
            "_________________________________________________________________\n",
            " Layer (type)                Output Shape              Param #   \n",
            "=================================================================\n",
            " lstm (LSTM)                 (None, 2, 64)             17920     \n",
            "                                                                 \n",
            " batch_normalization (Batch  (None, 2, 64)             256       \n",
            " Normalization)                                                  \n",
            "                                                                 \n",
            " dropout (Dropout)           (None, 2, 64)             0         \n",
            "                                                                 \n",
            " lstm_1 (LSTM)               (None, 64)                33024     \n",
            "                                                                 \n",
            " dense (Dense)               (None, 2)                 130       \n",
            "                                                                 \n",
            "=================================================================\n",
            "Total params: 51330 (200.51 KB)\n",
            "Trainable params: 51202 (200.01 KB)\n",
            "Non-trainable params: 128 (512.00 Byte)\n",
            "_________________________________________________________________\n"
          ]
        }
      ],
      "source": [
        "#modelo 1\n",
        "from keras.layers import Conv2D, LeakyReLU\n",
        "\n",
        "keras.backend.clear_session()\n",
        "tf.random.set_seed(51)\n",
        "np.random.seed(51)\n",
        "\n",
        "model = keras.Sequential()\n",
        "\n",
        "input_shape=(X_train.shape[1],X_train.shape[2])\n",
        "# model.add(LSTM(64, input_shape=input_shape))\n",
        "model.add(LSTM(64, return_sequences=True,input_shape=input_shape))\n",
        "model.add(keras.layers.BatchNormalization())\n",
        "model.add(keras.layers.Dropout(0.2))\n",
        "\n",
        "model.add(LSTM(64, input_shape=input_shape))\n",
        "# model.add(keras.layers.BatchNormalization())\n",
        "# model.add(keras.layers.Dropout(0.2))\n",
        "\n",
        "# model.add(Dense(32, activation='relu'))\n",
        "# model.add(keras.layers.BatchNormalization())\n",
        "# model.add(keras.layers.Dropout(0.2))\n",
        "\n",
        "\n",
        "# model.add(Dense(2, activation='softmax'))\n",
        "model.add(Dense(2, activation='sigmoid'))\n",
        "model.summary()\n",
        "\n",
        "# model.compile(loss='binary_crossentropy', optimizer='adam', metrics=['accuracy'])\n",
        "opt = keras.optimizers.Adam()\n",
        "# opt = keras.optimizers.Adam(learning_rate=0.01)\n",
        "# opt = keras.optimizers.SGD(learning_rate=0.01)\n",
        "model.compile(loss='categorical_crossentropy', optimizer=opt, metrics=['accuracy'])\n"
      ]
    },
    {
      "cell_type": "code",
      "execution_count": null,
      "id": "1f61d61c-6acb-4f13-9783-d1cd78514874",
      "metadata": {
        "colab": {
          "base_uri": "https://localhost:8080/",
          "height": 1000
        },
        "id": "1f61d61c-6acb-4f13-9783-d1cd78514874",
        "outputId": "1d443a2b-af7d-485c-f715-b768ee42cec7"
      },
      "outputs": [
        {
          "output_type": "stream",
          "name": "stdout",
          "text": [
            "Epoch 1/200\n",
            "5/5 [==============================] - 0s 31ms/step - loss: 0.0360 - accuracy: 0.9852 - val_loss: 2.8240 - val_accuracy: 0.4667\n",
            "Epoch 2/200\n",
            "5/5 [==============================] - 0s 18ms/step - loss: 0.0082 - accuracy: 1.0000 - val_loss: 2.8189 - val_accuracy: 0.4667\n",
            "Epoch 3/200\n",
            "5/5 [==============================] - 0s 17ms/step - loss: 0.0078 - accuracy: 1.0000 - val_loss: 2.8114 - val_accuracy: 0.4667\n",
            "Epoch 4/200\n",
            "5/5 [==============================] - 0s 19ms/step - loss: 0.0164 - accuracy: 1.0000 - val_loss: 2.8085 - val_accuracy: 0.4667\n",
            "Epoch 5/200\n",
            "5/5 [==============================] - 0s 16ms/step - loss: 0.0047 - accuracy: 1.0000 - val_loss: 2.8120 - val_accuracy: 0.4667\n",
            "Epoch 6/200\n",
            "5/5 [==============================] - 0s 18ms/step - loss: 0.0097 - accuracy: 1.0000 - val_loss: 2.8028 - val_accuracy: 0.4667\n",
            "Epoch 7/200\n",
            "5/5 [==============================] - 0s 14ms/step - loss: 0.0113 - accuracy: 0.9926 - val_loss: 2.8273 - val_accuracy: 0.4667\n",
            "Epoch 8/200\n",
            "5/5 [==============================] - 0s 16ms/step - loss: 0.0106 - accuracy: 1.0000 - val_loss: 2.8321 - val_accuracy: 0.4667\n",
            "Epoch 9/200\n",
            "5/5 [==============================] - 0s 14ms/step - loss: 0.0034 - accuracy: 1.0000 - val_loss: 2.8339 - val_accuracy: 0.4667\n",
            "Epoch 10/200\n",
            "5/5 [==============================] - 0s 18ms/step - loss: 0.0284 - accuracy: 0.9926 - val_loss: 2.8388 - val_accuracy: 0.4667\n",
            "Epoch 11/200\n",
            "5/5 [==============================] - 0s 17ms/step - loss: 0.0092 - accuracy: 0.9926 - val_loss: 2.8519 - val_accuracy: 0.4667\n",
            "Epoch 12/200\n",
            "5/5 [==============================] - 0s 18ms/step - loss: 0.0171 - accuracy: 0.9926 - val_loss: 2.8678 - val_accuracy: 0.4667\n",
            "Epoch 13/200\n",
            "5/5 [==============================] - 0s 14ms/step - loss: 0.0047 - accuracy: 1.0000 - val_loss: 2.8538 - val_accuracy: 0.4667\n",
            "Epoch 14/200\n",
            "5/5 [==============================] - 0s 15ms/step - loss: 0.0224 - accuracy: 0.9852 - val_loss: 2.8461 - val_accuracy: 0.4667\n",
            "Epoch 15/200\n",
            "5/5 [==============================] - 0s 18ms/step - loss: 0.0183 - accuracy: 0.9926 - val_loss: 2.8553 - val_accuracy: 0.4667\n",
            "Epoch 16/200\n",
            "5/5 [==============================] - 0s 19ms/step - loss: 0.0039 - accuracy: 1.0000 - val_loss: 2.8650 - val_accuracy: 0.4667\n",
            "Epoch 17/200\n",
            "5/5 [==============================] - 0s 19ms/step - loss: 0.0021 - accuracy: 1.0000 - val_loss: 2.8797 - val_accuracy: 0.4667\n",
            "Epoch 18/200\n",
            "5/5 [==============================] - 0s 17ms/step - loss: 0.0023 - accuracy: 1.0000 - val_loss: 2.8846 - val_accuracy: 0.4667\n",
            "Epoch 19/200\n",
            "5/5 [==============================] - 0s 14ms/step - loss: 0.0137 - accuracy: 0.9926 - val_loss: 2.8927 - val_accuracy: 0.4667\n",
            "Epoch 20/200\n",
            "5/5 [==============================] - 0s 16ms/step - loss: 0.0164 - accuracy: 0.9926 - val_loss: 2.8966 - val_accuracy: 0.4667\n",
            "Epoch 21/200\n",
            "5/5 [==============================] - 0s 23ms/step - loss: 0.0283 - accuracy: 0.9852 - val_loss: 2.9024 - val_accuracy: 0.4667\n",
            "Epoch 22/200\n",
            "5/5 [==============================] - 0s 24ms/step - loss: 0.0166 - accuracy: 0.9926 - val_loss: 2.8975 - val_accuracy: 0.4667\n",
            "Epoch 23/200\n",
            "5/5 [==============================] - 0s 24ms/step - loss: 0.0020 - accuracy: 1.0000 - val_loss: 2.9037 - val_accuracy: 0.4667\n",
            "Epoch 24/200\n",
            "5/5 [==============================] - 0s 23ms/step - loss: 0.0197 - accuracy: 0.9926 - val_loss: 2.9201 - val_accuracy: 0.4667\n",
            "Epoch 25/200\n",
            "5/5 [==============================] - 0s 24ms/step - loss: 0.0140 - accuracy: 0.9926 - val_loss: 2.9517 - val_accuracy: 0.4667\n",
            "Epoch 26/200\n",
            "5/5 [==============================] - 0s 21ms/step - loss: 0.0065 - accuracy: 1.0000 - val_loss: 2.9244 - val_accuracy: 0.4667\n",
            "Epoch 27/200\n",
            "5/5 [==============================] - 0s 23ms/step - loss: 0.0053 - accuracy: 1.0000 - val_loss: 2.9056 - val_accuracy: 0.4667\n",
            "Epoch 28/200\n",
            "5/5 [==============================] - 0s 23ms/step - loss: 0.0209 - accuracy: 0.9926 - val_loss: 2.9018 - val_accuracy: 0.4667\n",
            "Epoch 29/200\n",
            "5/5 [==============================] - 0s 19ms/step - loss: 0.0028 - accuracy: 1.0000 - val_loss: 2.9198 - val_accuracy: 0.4667\n",
            "Epoch 30/200\n",
            "5/5 [==============================] - 0s 22ms/step - loss: 0.0192 - accuracy: 0.9926 - val_loss: 2.9494 - val_accuracy: 0.4667\n",
            "Epoch 31/200\n",
            "5/5 [==============================] - 0s 20ms/step - loss: 0.0152 - accuracy: 0.9926 - val_loss: 2.9807 - val_accuracy: 0.4667\n",
            "Epoch 32/200\n",
            "5/5 [==============================] - 0s 23ms/step - loss: 0.0211 - accuracy: 0.9926 - val_loss: 2.9967 - val_accuracy: 0.4667\n",
            "Epoch 33/200\n",
            "5/5 [==============================] - 0s 24ms/step - loss: 0.0236 - accuracy: 0.9926 - val_loss: 2.9944 - val_accuracy: 0.4667\n",
            "Epoch 34/200\n",
            "5/5 [==============================] - 0s 20ms/step - loss: 0.0102 - accuracy: 1.0000 - val_loss: 2.9852 - val_accuracy: 0.4667\n",
            "Epoch 35/200\n",
            "5/5 [==============================] - 0s 23ms/step - loss: 0.0048 - accuracy: 1.0000 - val_loss: 2.9498 - val_accuracy: 0.4667\n",
            "Epoch 36/200\n",
            "5/5 [==============================] - 0s 28ms/step - loss: 0.0306 - accuracy: 0.9926 - val_loss: 2.9436 - val_accuracy: 0.4667\n",
            "Epoch 37/200\n",
            "5/5 [==============================] - 0s 25ms/step - loss: 0.0031 - accuracy: 1.0000 - val_loss: 2.9523 - val_accuracy: 0.4667\n",
            "Epoch 38/200\n",
            "5/5 [==============================] - 0s 23ms/step - loss: 0.0069 - accuracy: 1.0000 - val_loss: 2.9676 - val_accuracy: 0.4667\n",
            "Epoch 39/200\n",
            "5/5 [==============================] - 0s 24ms/step - loss: 0.0022 - accuracy: 1.0000 - val_loss: 2.9993 - val_accuracy: 0.4667\n",
            "Epoch 40/200\n",
            "5/5 [==============================] - 0s 22ms/step - loss: 0.0280 - accuracy: 0.9926 - val_loss: 3.0121 - val_accuracy: 0.4667\n",
            "Epoch 41/200\n",
            "5/5 [==============================] - 0s 22ms/step - loss: 0.0027 - accuracy: 1.0000 - val_loss: 3.0239 - val_accuracy: 0.4667\n",
            "Epoch 42/200\n",
            "5/5 [==============================] - 0s 21ms/step - loss: 0.0145 - accuracy: 0.9926 - val_loss: 3.0326 - val_accuracy: 0.4667\n",
            "Epoch 43/200\n",
            "5/5 [==============================] - 0s 21ms/step - loss: 0.0048 - accuracy: 1.0000 - val_loss: 3.0234 - val_accuracy: 0.4667\n",
            "Epoch 44/200\n",
            "5/5 [==============================] - 0s 24ms/step - loss: 0.0047 - accuracy: 1.0000 - val_loss: 3.0178 - val_accuracy: 0.4667\n",
            "Epoch 45/200\n",
            "5/5 [==============================] - 0s 25ms/step - loss: 0.0018 - accuracy: 1.0000 - val_loss: 3.0126 - val_accuracy: 0.4667\n",
            "Epoch 46/200\n",
            "5/5 [==============================] - 0s 22ms/step - loss: 0.0185 - accuracy: 0.9926 - val_loss: 3.0158 - val_accuracy: 0.4667\n",
            "Epoch 47/200\n",
            "5/5 [==============================] - 0s 20ms/step - loss: 0.0357 - accuracy: 0.9926 - val_loss: 3.0371 - val_accuracy: 0.4444\n",
            "Epoch 48/200\n",
            "5/5 [==============================] - 0s 20ms/step - loss: 0.0140 - accuracy: 0.9926 - val_loss: 3.0369 - val_accuracy: 0.4444\n",
            "Epoch 49/200\n",
            "5/5 [==============================] - 0s 24ms/step - loss: 0.0289 - accuracy: 0.9852 - val_loss: 3.0372 - val_accuracy: 0.4667\n",
            "Epoch 50/200\n",
            "5/5 [==============================] - 0s 19ms/step - loss: 0.0064 - accuracy: 1.0000 - val_loss: 3.0389 - val_accuracy: 0.4667\n",
            "Epoch 51/200\n",
            "5/5 [==============================] - 0s 23ms/step - loss: 0.0054 - accuracy: 1.0000 - val_loss: 3.0403 - val_accuracy: 0.4667\n",
            "Epoch 52/200\n",
            "5/5 [==============================] - 0s 26ms/step - loss: 0.0189 - accuracy: 0.9926 - val_loss: 3.0623 - val_accuracy: 0.4667\n",
            "Epoch 53/200\n",
            "5/5 [==============================] - 0s 24ms/step - loss: 0.0070 - accuracy: 1.0000 - val_loss: 3.0736 - val_accuracy: 0.4667\n",
            "Epoch 54/200\n",
            "5/5 [==============================] - 0s 24ms/step - loss: 0.0119 - accuracy: 0.9926 - val_loss: 3.0792 - val_accuracy: 0.4667\n",
            "Epoch 55/200\n",
            "5/5 [==============================] - 0s 23ms/step - loss: 0.0026 - accuracy: 1.0000 - val_loss: 3.0885 - val_accuracy: 0.4667\n",
            "Epoch 56/200\n",
            "5/5 [==============================] - 0s 22ms/step - loss: 0.0036 - accuracy: 1.0000 - val_loss: 3.0943 - val_accuracy: 0.4667\n",
            "Epoch 57/200\n",
            "5/5 [==============================] - 0s 24ms/step - loss: 0.0122 - accuracy: 0.9926 - val_loss: 3.1402 - val_accuracy: 0.4667\n",
            "Epoch 58/200\n",
            "5/5 [==============================] - 0s 22ms/step - loss: 0.0178 - accuracy: 0.9926 - val_loss: 3.2806 - val_accuracy: 0.4667\n",
            "Epoch 59/200\n",
            "5/5 [==============================] - 0s 20ms/step - loss: 0.0061 - accuracy: 1.0000 - val_loss: 3.3614 - val_accuracy: 0.4667\n",
            "Epoch 60/200\n",
            "5/5 [==============================] - 0s 25ms/step - loss: 0.0083 - accuracy: 0.9926 - val_loss: 3.4060 - val_accuracy: 0.4667\n",
            "Epoch 61/200\n",
            "5/5 [==============================] - 0s 21ms/step - loss: 0.0055 - accuracy: 1.0000 - val_loss: 3.4165 - val_accuracy: 0.4667\n",
            "Epoch 62/200\n",
            "5/5 [==============================] - 0s 20ms/step - loss: 0.0227 - accuracy: 0.9926 - val_loss: 3.3970 - val_accuracy: 0.4667\n",
            "Epoch 63/200\n",
            "5/5 [==============================] - 0s 20ms/step - loss: 0.0500 - accuracy: 0.9778 - val_loss: 3.3235 - val_accuracy: 0.4667\n",
            "Epoch 64/200\n",
            "5/5 [==============================] - 0s 25ms/step - loss: 0.0120 - accuracy: 0.9926 - val_loss: 3.2365 - val_accuracy: 0.4667\n",
            "Epoch 65/200\n",
            "5/5 [==============================] - 0s 25ms/step - loss: 0.0039 - accuracy: 1.0000 - val_loss: 3.1901 - val_accuracy: 0.4667\n",
            "Epoch 66/200\n",
            "5/5 [==============================] - 0s 24ms/step - loss: 0.0084 - accuracy: 1.0000 - val_loss: 3.1660 - val_accuracy: 0.4667\n",
            "Epoch 67/200\n",
            "5/5 [==============================] - 0s 24ms/step - loss: 0.0042 - accuracy: 1.0000 - val_loss: 3.1390 - val_accuracy: 0.4667\n",
            "Epoch 68/200\n",
            "5/5 [==============================] - 0s 24ms/step - loss: 0.0057 - accuracy: 1.0000 - val_loss: 3.1229 - val_accuracy: 0.4667\n",
            "Epoch 69/200\n",
            "5/5 [==============================] - 0s 21ms/step - loss: 0.0449 - accuracy: 0.9852 - val_loss: 3.1068 - val_accuracy: 0.4667\n",
            "Epoch 70/200\n",
            "5/5 [==============================] - 0s 21ms/step - loss: 0.0122 - accuracy: 1.0000 - val_loss: 3.0778 - val_accuracy: 0.4444\n",
            "Epoch 71/200\n",
            "5/5 [==============================] - 0s 25ms/step - loss: 0.0178 - accuracy: 0.9926 - val_loss: 3.0668 - val_accuracy: 0.4444\n",
            "Epoch 72/200\n",
            "5/5 [==============================] - 0s 18ms/step - loss: 0.0149 - accuracy: 0.9926 - val_loss: 3.0832 - val_accuracy: 0.4444\n",
            "Epoch 73/200\n",
            "5/5 [==============================] - 0s 16ms/step - loss: 0.0069 - accuracy: 1.0000 - val_loss: 3.0891 - val_accuracy: 0.4444\n",
            "Epoch 74/200\n",
            "5/5 [==============================] - 0s 14ms/step - loss: 0.0289 - accuracy: 0.9852 - val_loss: 3.1295 - val_accuracy: 0.4444\n",
            "Epoch 75/200\n",
            "5/5 [==============================] - 0s 17ms/step - loss: 0.0160 - accuracy: 0.9926 - val_loss: 3.1582 - val_accuracy: 0.4444\n",
            "Epoch 76/200\n",
            "5/5 [==============================] - 0s 20ms/step - loss: 0.0250 - accuracy: 0.9926 - val_loss: 3.1533 - val_accuracy: 0.4444\n",
            "Epoch 77/200\n",
            "5/5 [==============================] - 0s 18ms/step - loss: 0.0052 - accuracy: 1.0000 - val_loss: 3.1484 - val_accuracy: 0.4444\n",
            "Epoch 78/200\n",
            "5/5 [==============================] - 0s 14ms/step - loss: 0.0249 - accuracy: 0.9852 - val_loss: 3.1500 - val_accuracy: 0.4444\n",
            "Epoch 79/200\n",
            "5/5 [==============================] - 0s 18ms/step - loss: 0.0206 - accuracy: 0.9926 - val_loss: 3.1513 - val_accuracy: 0.4444\n",
            "Epoch 80/200\n",
            "5/5 [==============================] - 0s 15ms/step - loss: 0.0098 - accuracy: 0.9926 - val_loss: 3.1179 - val_accuracy: 0.4444\n",
            "Epoch 81/200\n",
            "5/5 [==============================] - 0s 15ms/step - loss: 0.0023 - accuracy: 1.0000 - val_loss: 3.0900 - val_accuracy: 0.4444\n",
            "Epoch 82/200\n",
            "5/5 [==============================] - 0s 20ms/step - loss: 0.0047 - accuracy: 1.0000 - val_loss: 3.0762 - val_accuracy: 0.4444\n",
            "Epoch 83/200\n",
            "5/5 [==============================] - 0s 15ms/step - loss: 0.0194 - accuracy: 1.0000 - val_loss: 3.0875 - val_accuracy: 0.4444\n",
            "Epoch 84/200\n",
            "5/5 [==============================] - 0s 18ms/step - loss: 0.0057 - accuracy: 1.0000 - val_loss: 3.1713 - val_accuracy: 0.4444\n",
            "Epoch 85/200\n",
            "5/5 [==============================] - 0s 19ms/step - loss: 0.0088 - accuracy: 1.0000 - val_loss: 3.2152 - val_accuracy: 0.4444\n",
            "Epoch 86/200\n",
            "5/5 [==============================] - 0s 14ms/step - loss: 0.0034 - accuracy: 1.0000 - val_loss: 3.2315 - val_accuracy: 0.4444\n",
            "Epoch 87/200\n",
            "5/5 [==============================] - 0s 14ms/step - loss: 0.0121 - accuracy: 0.9926 - val_loss: 3.2261 - val_accuracy: 0.4444\n",
            "Epoch 88/200\n",
            "5/5 [==============================] - 0s 16ms/step - loss: 0.0059 - accuracy: 1.0000 - val_loss: 3.1946 - val_accuracy: 0.4444\n",
            "Epoch 89/200\n",
            "5/5 [==============================] - 0s 16ms/step - loss: 0.0174 - accuracy: 0.9926 - val_loss: 3.2036 - val_accuracy: 0.4667\n",
            "Epoch 90/200\n",
            "5/5 [==============================] - 0s 18ms/step - loss: 0.0375 - accuracy: 0.9926 - val_loss: 3.2438 - val_accuracy: 0.4889\n",
            "Epoch 91/200\n",
            "5/5 [==============================] - 0s 18ms/step - loss: 0.0218 - accuracy: 0.9926 - val_loss: 3.2929 - val_accuracy: 0.4667\n",
            "Epoch 92/200\n",
            "5/5 [==============================] - 0s 19ms/step - loss: 0.0070 - accuracy: 1.0000 - val_loss: 3.3673 - val_accuracy: 0.4222\n",
            "Epoch 93/200\n",
            "5/5 [==============================] - 0s 18ms/step - loss: 0.0229 - accuracy: 0.9926 - val_loss: 3.3873 - val_accuracy: 0.4444\n",
            "Epoch 94/200\n",
            "5/5 [==============================] - 0s 18ms/step - loss: 0.0098 - accuracy: 1.0000 - val_loss: 3.3982 - val_accuracy: 0.4444\n",
            "Epoch 95/200\n",
            "5/5 [==============================] - 0s 14ms/step - loss: 0.0194 - accuracy: 0.9926 - val_loss: 3.4220 - val_accuracy: 0.4222\n",
            "Epoch 96/200\n",
            "5/5 [==============================] - 0s 18ms/step - loss: 0.0079 - accuracy: 1.0000 - val_loss: 3.4336 - val_accuracy: 0.4222\n",
            "Epoch 97/200\n",
            "5/5 [==============================] - 0s 16ms/step - loss: 0.0053 - accuracy: 1.0000 - val_loss: 3.4350 - val_accuracy: 0.4222\n",
            "Epoch 98/200\n",
            "5/5 [==============================] - 0s 14ms/step - loss: 0.0364 - accuracy: 0.9852 - val_loss: 3.4238 - val_accuracy: 0.4222\n",
            "Epoch 99/200\n",
            "5/5 [==============================] - 0s 18ms/step - loss: 0.0141 - accuracy: 1.0000 - val_loss: 3.4016 - val_accuracy: 0.4222\n",
            "Epoch 100/200\n",
            "5/5 [==============================] - 0s 18ms/step - loss: 0.0307 - accuracy: 0.9852 - val_loss: 3.3754 - val_accuracy: 0.4000\n",
            "Epoch 101/200\n",
            "5/5 [==============================] - 0s 15ms/step - loss: 0.0088 - accuracy: 1.0000 - val_loss: 3.3690 - val_accuracy: 0.4222\n",
            "Epoch 102/200\n",
            "5/5 [==============================] - 0s 14ms/step - loss: 0.0431 - accuracy: 0.9778 - val_loss: 3.3338 - val_accuracy: 0.4222\n",
            "Epoch 103/200\n",
            "5/5 [==============================] - 0s 18ms/step - loss: 0.0296 - accuracy: 0.9852 - val_loss: 3.2926 - val_accuracy: 0.4222\n",
            "Epoch 104/200\n",
            "5/5 [==============================] - 0s 19ms/step - loss: 0.0174 - accuracy: 0.9926 - val_loss: 3.2707 - val_accuracy: 0.4222\n",
            "Epoch 105/200\n",
            "5/5 [==============================] - 0s 18ms/step - loss: 0.0070 - accuracy: 1.0000 - val_loss: 3.2532 - val_accuracy: 0.4222\n",
            "Epoch 106/200\n",
            "5/5 [==============================] - 0s 20ms/step - loss: 0.0032 - accuracy: 1.0000 - val_loss: 3.2493 - val_accuracy: 0.4222\n",
            "Epoch 107/200\n",
            "5/5 [==============================] - 0s 15ms/step - loss: 0.0182 - accuracy: 1.0000 - val_loss: 3.2667 - val_accuracy: 0.4222\n",
            "Epoch 108/200\n",
            "5/5 [==============================] - 0s 19ms/step - loss: 0.0115 - accuracy: 1.0000 - val_loss: 3.2875 - val_accuracy: 0.4222\n",
            "Epoch 109/200\n",
            "5/5 [==============================] - 0s 17ms/step - loss: 0.0042 - accuracy: 1.0000 - val_loss: 3.3017 - val_accuracy: 0.4444\n",
            "Epoch 110/200\n",
            "5/5 [==============================] - 0s 20ms/step - loss: 0.0078 - accuracy: 1.0000 - val_loss: 3.3103 - val_accuracy: 0.4222\n",
            "Epoch 111/200\n",
            "5/5 [==============================] - 0s 15ms/step - loss: 0.0108 - accuracy: 0.9926 - val_loss: 3.3088 - val_accuracy: 0.4444\n",
            "Epoch 112/200\n",
            "5/5 [==============================] - 0s 18ms/step - loss: 0.0112 - accuracy: 0.9926 - val_loss: 3.3056 - val_accuracy: 0.4444\n",
            "Epoch 113/200\n",
            "5/5 [==============================] - 0s 18ms/step - loss: 0.0069 - accuracy: 1.0000 - val_loss: 3.2862 - val_accuracy: 0.4444\n",
            "Epoch 114/200\n",
            "5/5 [==============================] - 0s 16ms/step - loss: 0.0023 - accuracy: 1.0000 - val_loss: 3.2699 - val_accuracy: 0.4444\n",
            "Epoch 115/200\n",
            "5/5 [==============================] - 0s 18ms/step - loss: 0.0196 - accuracy: 0.9926 - val_loss: 3.2643 - val_accuracy: 0.4444\n",
            "Epoch 116/200\n",
            "5/5 [==============================] - 0s 15ms/step - loss: 0.0258 - accuracy: 0.9926 - val_loss: 3.2572 - val_accuracy: 0.4444\n",
            "Epoch 117/200\n",
            "5/5 [==============================] - 0s 15ms/step - loss: 0.0224 - accuracy: 0.9926 - val_loss: 3.2560 - val_accuracy: 0.4444\n",
            "Epoch 118/200\n",
            "5/5 [==============================] - 0s 16ms/step - loss: 0.0075 - accuracy: 1.0000 - val_loss: 3.2548 - val_accuracy: 0.4444\n",
            "Epoch 119/200\n",
            "5/5 [==============================] - 0s 15ms/step - loss: 0.0156 - accuracy: 0.9926 - val_loss: 3.2354 - val_accuracy: 0.4444\n",
            "Epoch 120/200\n",
            "5/5 [==============================] - 0s 15ms/step - loss: 0.0104 - accuracy: 1.0000 - val_loss: 3.2340 - val_accuracy: 0.4444\n",
            "Epoch 121/200\n",
            "5/5 [==============================] - 0s 15ms/step - loss: 0.0452 - accuracy: 0.9852 - val_loss: 3.2678 - val_accuracy: 0.4444\n",
            "Epoch 122/200\n",
            "5/5 [==============================] - 0s 16ms/step - loss: 0.0119 - accuracy: 0.9926 - val_loss: 3.3212 - val_accuracy: 0.4222\n",
            "Epoch 123/200\n",
            "5/5 [==============================] - 0s 19ms/step - loss: 0.0230 - accuracy: 0.9926 - val_loss: 3.3599 - val_accuracy: 0.4444\n",
            "Epoch 124/200\n",
            "5/5 [==============================] - 0s 18ms/step - loss: 0.0092 - accuracy: 1.0000 - val_loss: 3.3861 - val_accuracy: 0.4444\n",
            "Epoch 125/200\n",
            "5/5 [==============================] - 0s 17ms/step - loss: 0.0209 - accuracy: 0.9852 - val_loss: 3.3982 - val_accuracy: 0.4444\n",
            "Epoch 126/200\n",
            "5/5 [==============================] - 0s 14ms/step - loss: 0.0302 - accuracy: 0.9852 - val_loss: 3.3710 - val_accuracy: 0.4444\n",
            "Epoch 127/200\n",
            "5/5 [==============================] - 0s 14ms/step - loss: 0.0077 - accuracy: 1.0000 - val_loss: 3.3196 - val_accuracy: 0.4444\n",
            "Epoch 128/200\n",
            "5/5 [==============================] - 0s 19ms/step - loss: 0.0082 - accuracy: 1.0000 - val_loss: 3.2748 - val_accuracy: 0.4444\n",
            "Epoch 129/200\n",
            "5/5 [==============================] - 0s 15ms/step - loss: 0.0046 - accuracy: 1.0000 - val_loss: 3.2543 - val_accuracy: 0.4667\n",
            "Epoch 130/200\n",
            "5/5 [==============================] - 0s 15ms/step - loss: 0.0275 - accuracy: 0.9926 - val_loss: 3.2774 - val_accuracy: 0.4444\n",
            "Epoch 131/200\n",
            "5/5 [==============================] - 0s 19ms/step - loss: 0.0060 - accuracy: 1.0000 - val_loss: 3.2973 - val_accuracy: 0.4444\n",
            "Epoch 132/200\n",
            "5/5 [==============================] - 0s 15ms/step - loss: 0.0709 - accuracy: 0.9926 - val_loss: 3.3166 - val_accuracy: 0.4444\n",
            "Epoch 133/200\n",
            "5/5 [==============================] - 0s 16ms/step - loss: 0.0115 - accuracy: 1.0000 - val_loss: 3.3124 - val_accuracy: 0.4444\n",
            "Epoch 134/200\n",
            "5/5 [==============================] - 0s 17ms/step - loss: 0.0073 - accuracy: 1.0000 - val_loss: 3.3038 - val_accuracy: 0.4444\n",
            "Epoch 135/200\n",
            "5/5 [==============================] - 0s 19ms/step - loss: 0.0029 - accuracy: 1.0000 - val_loss: 3.3139 - val_accuracy: 0.4444\n",
            "Epoch 136/200\n",
            "5/5 [==============================] - 0s 15ms/step - loss: 0.0246 - accuracy: 0.9926 - val_loss: 3.3235 - val_accuracy: 0.4444\n",
            "Epoch 137/200\n",
            "5/5 [==============================] - 0s 16ms/step - loss: 0.0306 - accuracy: 0.9926 - val_loss: 3.3386 - val_accuracy: 0.4444\n",
            "Epoch 138/200\n",
            "5/5 [==============================] - 0s 16ms/step - loss: 0.0029 - accuracy: 1.0000 - val_loss: 3.3467 - val_accuracy: 0.4444\n",
            "Epoch 139/200\n",
            "5/5 [==============================] - 0s 15ms/step - loss: 0.0093 - accuracy: 1.0000 - val_loss: 3.3417 - val_accuracy: 0.4444\n",
            "Epoch 140/200\n",
            "5/5 [==============================] - 0s 15ms/step - loss: 0.0028 - accuracy: 1.0000 - val_loss: 3.3401 - val_accuracy: 0.4444\n",
            "Epoch 141/200\n",
            "5/5 [==============================] - 0s 15ms/step - loss: 0.0059 - accuracy: 1.0000 - val_loss: 3.3473 - val_accuracy: 0.4444\n",
            "Epoch 142/200\n",
            "5/5 [==============================] - 0s 19ms/step - loss: 0.0191 - accuracy: 0.9926 - val_loss: 3.3438 - val_accuracy: 0.4444\n",
            "Epoch 143/200\n",
            "5/5 [==============================] - 0s 15ms/step - loss: 0.0118 - accuracy: 0.9926 - val_loss: 3.2860 - val_accuracy: 0.4444\n",
            "Epoch 144/200\n",
            "5/5 [==============================] - 0s 15ms/step - loss: 0.0108 - accuracy: 0.9926 - val_loss: 3.2557 - val_accuracy: 0.4444\n",
            "Epoch 145/200\n",
            "5/5 [==============================] - 0s 18ms/step - loss: 0.0036 - accuracy: 1.0000 - val_loss: 3.2475 - val_accuracy: 0.4444\n",
            "Epoch 146/200\n",
            "5/5 [==============================] - 0s 16ms/step - loss: 0.0208 - accuracy: 0.9926 - val_loss: 3.2793 - val_accuracy: 0.4222\n",
            "Epoch 147/200\n",
            "5/5 [==============================] - 0s 19ms/step - loss: 0.0165 - accuracy: 0.9926 - val_loss: 3.3885 - val_accuracy: 0.4222\n",
            "Epoch 148/200\n",
            "5/5 [==============================] - 0s 14ms/step - loss: 0.0165 - accuracy: 0.9852 - val_loss: 3.4348 - val_accuracy: 0.4222\n",
            "Epoch 149/200\n",
            "5/5 [==============================] - 0s 19ms/step - loss: 0.0038 - accuracy: 1.0000 - val_loss: 3.4569 - val_accuracy: 0.4000\n",
            "Epoch 150/200\n",
            "5/5 [==============================] - 0s 22ms/step - loss: 0.0150 - accuracy: 0.9926 - val_loss: 3.4844 - val_accuracy: 0.4000\n",
            "Epoch 151/200\n",
            "5/5 [==============================] - 0s 15ms/step - loss: 0.0210 - accuracy: 0.9852 - val_loss: 3.4296 - val_accuracy: 0.4000\n",
            "Epoch 152/200\n",
            "5/5 [==============================] - 0s 18ms/step - loss: 0.0485 - accuracy: 0.9852 - val_loss: 3.3874 - val_accuracy: 0.4222\n",
            "Epoch 153/200\n",
            "5/5 [==============================] - 0s 18ms/step - loss: 0.0291 - accuracy: 0.9926 - val_loss: 3.3709 - val_accuracy: 0.4222\n",
            "Epoch 154/200\n",
            "5/5 [==============================] - 0s 19ms/step - loss: 0.0215 - accuracy: 0.9926 - val_loss: 3.3904 - val_accuracy: 0.4222\n",
            "Epoch 155/200\n",
            "5/5 [==============================] - 0s 15ms/step - loss: 0.0259 - accuracy: 0.9926 - val_loss: 3.3844 - val_accuracy: 0.4222\n",
            "Epoch 156/200\n",
            "5/5 [==============================] - 0s 19ms/step - loss: 0.0084 - accuracy: 1.0000 - val_loss: 3.3427 - val_accuracy: 0.4222\n",
            "Epoch 157/200\n",
            "5/5 [==============================] - 0s 16ms/step - loss: 0.0087 - accuracy: 1.0000 - val_loss: 3.3086 - val_accuracy: 0.4222\n",
            "Epoch 158/200\n",
            "5/5 [==============================] - 0s 19ms/step - loss: 0.0232 - accuracy: 0.9926 - val_loss: 3.2796 - val_accuracy: 0.4222\n",
            "Epoch 159/200\n",
            "5/5 [==============================] - 0s 14ms/step - loss: 0.0355 - accuracy: 0.9852 - val_loss: 3.2663 - val_accuracy: 0.4222\n",
            "Epoch 160/200\n",
            "5/5 [==============================] - 0s 18ms/step - loss: 0.0290 - accuracy: 0.9778 - val_loss: 3.2721 - val_accuracy: 0.4222\n",
            "Epoch 161/200\n",
            "5/5 [==============================] - 0s 20ms/step - loss: 0.0465 - accuracy: 0.9778 - val_loss: 3.2707 - val_accuracy: 0.4222\n",
            "Epoch 162/200\n",
            "5/5 [==============================] - 0s 18ms/step - loss: 0.0306 - accuracy: 0.9852 - val_loss: 3.2690 - val_accuracy: 0.4222\n",
            "Epoch 163/200\n",
            "5/5 [==============================] - 0s 17ms/step - loss: 0.0025 - accuracy: 1.0000 - val_loss: 3.2590 - val_accuracy: 0.4222\n",
            "Epoch 164/200\n",
            "5/5 [==============================] - 0s 15ms/step - loss: 0.0084 - accuracy: 1.0000 - val_loss: 3.2507 - val_accuracy: 0.4444\n",
            "Epoch 165/200\n",
            "5/5 [==============================] - 0s 18ms/step - loss: 0.0142 - accuracy: 1.0000 - val_loss: 3.2521 - val_accuracy: 0.4667\n",
            "Epoch 166/200\n",
            "5/5 [==============================] - 0s 20ms/step - loss: 0.0191 - accuracy: 0.9926 - val_loss: 3.2542 - val_accuracy: 0.4667\n",
            "Epoch 167/200\n",
            "5/5 [==============================] - 0s 14ms/step - loss: 0.0087 - accuracy: 1.0000 - val_loss: 3.2578 - val_accuracy: 0.4444\n",
            "Epoch 168/200\n",
            "5/5 [==============================] - 0s 15ms/step - loss: 0.0090 - accuracy: 1.0000 - val_loss: 3.2699 - val_accuracy: 0.4444\n",
            "Epoch 169/200\n",
            "5/5 [==============================] - 0s 16ms/step - loss: 0.0037 - accuracy: 1.0000 - val_loss: 3.2783 - val_accuracy: 0.4444\n",
            "Epoch 170/200\n",
            "5/5 [==============================] - 0s 18ms/step - loss: 0.0028 - accuracy: 1.0000 - val_loss: 3.2823 - val_accuracy: 0.4444\n",
            "Epoch 171/200\n",
            "5/5 [==============================] - 0s 14ms/step - loss: 0.0061 - accuracy: 1.0000 - val_loss: 3.2859 - val_accuracy: 0.4444\n",
            "Epoch 172/200\n",
            "5/5 [==============================] - 0s 18ms/step - loss: 0.0048 - accuracy: 1.0000 - val_loss: 3.2835 - val_accuracy: 0.4444\n",
            "Epoch 173/200\n",
            "5/5 [==============================] - 0s 19ms/step - loss: 0.0036 - accuracy: 1.0000 - val_loss: 3.2842 - val_accuracy: 0.4444\n",
            "Epoch 174/200\n",
            "5/5 [==============================] - 0s 21ms/step - loss: 0.0189 - accuracy: 0.9926 - val_loss: 3.2859 - val_accuracy: 0.4444\n",
            "Epoch 175/200\n",
            "5/5 [==============================] - 0s 14ms/step - loss: 0.0285 - accuracy: 0.9926 - val_loss: 3.2909 - val_accuracy: 0.4222\n",
            "Epoch 176/200\n",
            "5/5 [==============================] - 0s 20ms/step - loss: 0.0031 - accuracy: 1.0000 - val_loss: 3.2976 - val_accuracy: 0.4222\n",
            "Epoch 177/200\n",
            "5/5 [==============================] - 0s 14ms/step - loss: 0.0037 - accuracy: 1.0000 - val_loss: 3.2883 - val_accuracy: 0.4222\n",
            "Epoch 178/200\n",
            "5/5 [==============================] - 0s 15ms/step - loss: 0.0167 - accuracy: 0.9926 - val_loss: 3.2707 - val_accuracy: 0.4222\n",
            "Epoch 179/200\n",
            "5/5 [==============================] - 0s 20ms/step - loss: 0.0073 - accuracy: 1.0000 - val_loss: 3.2708 - val_accuracy: 0.4222\n",
            "Epoch 180/200\n",
            "5/5 [==============================] - 0s 19ms/step - loss: 0.0056 - accuracy: 1.0000 - val_loss: 3.2701 - val_accuracy: 0.4444\n",
            "Epoch 181/200\n",
            "5/5 [==============================] - 0s 15ms/step - loss: 0.0033 - accuracy: 1.0000 - val_loss: 3.2689 - val_accuracy: 0.4667\n",
            "Epoch 182/200\n",
            "5/5 [==============================] - 0s 19ms/step - loss: 0.0061 - accuracy: 1.0000 - val_loss: 3.2634 - val_accuracy: 0.4667\n",
            "Epoch 183/200\n",
            "5/5 [==============================] - 0s 19ms/step - loss: 0.0047 - accuracy: 1.0000 - val_loss: 3.2554 - val_accuracy: 0.4667\n",
            "Epoch 184/200\n",
            "5/5 [==============================] - 0s 15ms/step - loss: 0.0014 - accuracy: 1.0000 - val_loss: 3.2498 - val_accuracy: 0.4667\n",
            "Epoch 185/200\n",
            "5/5 [==============================] - 0s 15ms/step - loss: 0.0175 - accuracy: 0.9926 - val_loss: 3.2578 - val_accuracy: 0.4667\n",
            "Epoch 186/200\n",
            "5/5 [==============================] - 0s 18ms/step - loss: 0.0093 - accuracy: 0.9926 - val_loss: 3.2605 - val_accuracy: 0.4667\n",
            "Epoch 187/200\n",
            "5/5 [==============================] - 0s 15ms/step - loss: 0.0102 - accuracy: 0.9926 - val_loss: 3.2605 - val_accuracy: 0.4444\n",
            "Epoch 188/200\n",
            "5/5 [==============================] - 0s 18ms/step - loss: 0.0037 - accuracy: 1.0000 - val_loss: 3.2703 - val_accuracy: 0.4444\n",
            "Epoch 189/200\n",
            "5/5 [==============================] - 0s 16ms/step - loss: 0.0096 - accuracy: 1.0000 - val_loss: 3.2907 - val_accuracy: 0.4444\n",
            "Epoch 190/200\n",
            "5/5 [==============================] - 0s 19ms/step - loss: 0.0017 - accuracy: 1.0000 - val_loss: 3.2943 - val_accuracy: 0.4444\n",
            "Epoch 191/200\n",
            "5/5 [==============================] - 0s 22ms/step - loss: 0.0317 - accuracy: 0.9926 - val_loss: 3.3097 - val_accuracy: 0.4222\n",
            "Epoch 192/200\n",
            "5/5 [==============================] - 0s 25ms/step - loss: 0.0035 - accuracy: 1.0000 - val_loss: 3.3174 - val_accuracy: 0.4222\n",
            "Epoch 193/200\n",
            "5/5 [==============================] - 0s 38ms/step - loss: 0.0157 - accuracy: 0.9926 - val_loss: 3.3148 - val_accuracy: 0.4222\n",
            "Epoch 194/200\n",
            "5/5 [==============================] - 0s 79ms/step - loss: 0.0031 - accuracy: 1.0000 - val_loss: 3.3089 - val_accuracy: 0.4222\n",
            "Epoch 195/200\n",
            "5/5 [==============================] - 0s 89ms/step - loss: 0.0140 - accuracy: 0.9926 - val_loss: 3.2810 - val_accuracy: 0.4444\n",
            "Epoch 196/200\n",
            "5/5 [==============================] - 0s 98ms/step - loss: 0.0054 - accuracy: 1.0000 - val_loss: 3.2538 - val_accuracy: 0.4444\n",
            "Epoch 197/200\n",
            "5/5 [==============================] - 0s 73ms/step - loss: 0.0215 - accuracy: 0.9926 - val_loss: 3.2591 - val_accuracy: 0.4889\n",
            "Epoch 198/200\n",
            "5/5 [==============================] - 0s 52ms/step - loss: 0.0035 - accuracy: 1.0000 - val_loss: 3.2636 - val_accuracy: 0.4889\n",
            "Epoch 199/200\n",
            "5/5 [==============================] - 0s 25ms/step - loss: 0.0020 - accuracy: 1.0000 - val_loss: 3.2624 - val_accuracy: 0.4889\n",
            "Epoch 200/200\n",
            "5/5 [==============================] - 0s 24ms/step - loss: 0.0010 - accuracy: 1.0000 - val_loss: 3.2547 - val_accuracy: 0.4889\n",
            "2/2 [==============================] - 0s 6ms/step\n"
          ]
        },
        {
          "output_type": "display_data",
          "data": {
            "text/plain": [
              "<Figure size 200x200 with 2 Axes>"
            ],
            "image/png": "[encoded data removed]"
          },
          "metadata": {}
        },
        {
          "output_type": "stream",
          "name": "stdout",
          "text": [
            "              precision    recall  f1-score   support\n",
            "\n",
            "           0       0.52      0.83      0.64        18\n",
            "           1       0.81      0.48      0.60        27\n",
            "\n",
            "    accuracy                           0.62        45\n",
            "   macro avg       0.66      0.66      0.62        45\n",
            "weighted avg       0.69      0.62      0.62        45\n",
            "\n"
          ]
        }
      ],
      "source": [
        "class myCallback(tf.keras.callbacks.Callback):\n",
        "      def on_epoch_end(self, epoch, logs={}):\n",
        "        if(logs.get('val_accuracy')> 0.55 and logs.get('accuracy')> 0.8):\n",
        "              print(\"\\nAlcanzado el 85% de precisión, se cancela el entrenamiento!!\")\n",
        "              self.model.stop_training = True\n",
        "callbacks1 =myCallback()\n",
        "\n",
        "# history = model.fit(X_train, y_train_cat, epochs=14, batch_size=2, validation_data=(X_val, y_va l_cat), shuffle=True)\n",
        "# y_train_cat_b = [[1., 0.],[0., 1.],[1., 0.],[0., 1.],[1., 0.],[1., 0.],[0., 1.], [1., 0.],[1., 0.]]\n",
        "history = model.fit(X_train, np.array(y_train_cat), epochs=200, batch_size=32,  validation_data=(X_val, y_val_cat), shuffle=True, callbacks=[callbacks1])\n",
        "# model.fit(train_set, epochs=2)\n",
        "\n",
        "x_test = np.asarray(x_test).astype(np.float32)\n",
        "y_test_pred = model.predict(x_test)\n",
        "y_test_pred2 = [np.argmax(i) for i in y_test_pred]\n",
        "show_results(y_test,y_test_pred2)\n"
      ]
    },
    {
      "cell_type": "code",
      "execution_count": null,
      "id": "775d4772-cf46-4b11-813d-8e741d785ceb",
      "metadata": {
        "id": "775d4772-cf46-4b11-813d-8e741d785ceb"
      },
      "outputs": [],
      "source": []
    },
    {
      "cell_type": "code",
      "execution_count": null,
      "id": "6b5358d2-2e12-496c-bddc-1e0143e6d08b",
      "metadata": {
        "id": "6b5358d2-2e12-496c-bddc-1e0143e6d08b",
        "outputId": "78b85629-4113-4532-a903-034551aa83bf"
      },
      "outputs": [
        {
          "data": {
            "text/plain": [
              "((150, 2, 5), (37, 2, 5))"
            ]
          },
          "execution_count": 1563,
          "metadata": {},
          "output_type": "execute_result"
        }
      ],
      "source": [
        "\n",
        "x_flat\n",
        "X.shape, x_test.shape\n"
      ]
    },
    {
      "cell_type": "code",
      "execution_count": null,
      "id": "7fdf95ec-1402-4fca-b124-0b6c6dd5c15d",
      "metadata": {
        "colab": {
          "base_uri": "https://localhost:8080/",
          "height": 499
        },
        "id": "7fdf95ec-1402-4fca-b124-0b6c6dd5c15d",
        "outputId": "036b9b94-f5bd-4421-bf4f-81b9cb815cf4"
      },
      "outputs": [
        {
          "output_type": "stream",
          "name": "stdout",
          "text": [
            "135\n",
            "45\n",
            "(135, 10)\n",
            "(135, 1)\n",
            "0.5555555555555556\n"
          ]
        },
        {
          "output_type": "display_data",
          "data": {
            "text/plain": [
              "<Figure size 200x200 with 2 Axes>"
            ],
            "image/png": "[encoded data removed]"
          },
          "metadata": {}
        },
        {
          "output_type": "stream",
          "name": "stdout",
          "text": [
            "              precision    recall  f1-score   support\n",
            "\n",
            "           0       0.47      0.78      0.58        18\n",
            "           1       0.73      0.41      0.52        27\n",
            "\n",
            "    accuracy                           0.56        45\n",
            "   macro avg       0.60      0.59      0.55        45\n",
            "weighted avg       0.63      0.56      0.55        45\n",
            "\n"
          ]
        }
      ],
      "source": [
        "from sklearn.preprocessing import MinMaxScaler\n",
        "from pandas import DataFrame\n",
        "from sklearn.preprocessing import StandardScaler\n",
        "from sklearn import svm\n",
        "from sklearn.svm import SVC\n",
        "\n",
        "def get_flat(X1,Y1):\n",
        "    x_flat =[]\n",
        "    y_flat =[]\n",
        "    # x_flat =np.array\n",
        "    # y_flat =np.array\n",
        "    print(str(len(X1)))\n",
        "    for idx, itx in enumerate(X1):\n",
        "    # for idx in range(0, len(X1), 2):\n",
        "        # print(idx)\n",
        "        # itx= X1[idx]\n",
        "        x = []\n",
        "        for idy, ity in enumerate(X1[idx]):\n",
        "            # x = []\n",
        "            # x.append(idx)\n",
        "            # x.append(idy)\n",
        "\n",
        "            for idz, itz in enumerate(X1[idx][idy]):\n",
        "                x.append(itz)\n",
        "\n",
        "        if (len(x)>14):\n",
        "            print(\"len big:\" + str(itx))\n",
        "        x_flat.append(x)\n",
        "        y_flat.append(Y1[idx])\n",
        "\n",
        "        # itx= X1[idx+1]\n",
        "        # for idy, ity in enumerate(X1[idx+1]):\n",
        "        #     x = []\n",
        "        #     # x.append(idx)\n",
        "        #     # x.append(idy)\n",
        "        #     for idz, itz in enumerate(X1[idx+1][idy]):\n",
        "        #         x.append(itz)\n",
        "        #     if (len(x)>14):\n",
        "        #         print(\"len big:\" + str(itx))\n",
        "        #     x_flat.append(x)\n",
        "        #     y_flat.append(Y1[idx+1])\n",
        "\n",
        "\n",
        "    x_flat = pd.DataFrame(x_flat)\n",
        "    scaler = StandardScaler()\n",
        "    x_flat = DataFrame(scaler.fit_transform(x_flat))\n",
        "    y_flat = pd.DataFrame(y_flat)\n",
        "    return x_flat,y_flat\n",
        "\n",
        "\n",
        "X_train_flat,y_train_flat = get_flat(X_train,y_train)\n",
        "\n",
        "X_test_flat, y_test_flat = get_flat(X_test,y_test)\n",
        "# X_train_flat, X_test_flat, y_train_flat, y_test_flat = train_test_split(x_flat, y_flat, test_size=0.25)\n",
        "# X_train_flat.shape, y_train_flat.shape\n",
        "# print(X)\n",
        "# print(X_train_flat)\n",
        "X.shape, X_train_flat.shape ,y_train_flat.shape\n",
        "# X.shape, y.shape\n",
        "\n",
        "print(X_train_flat.shape)\n",
        "print(y_train_flat.shape)\n",
        "# defatul: C=1, gamma=scale, kernel=rbf\n",
        "# model_svc = SVC()\n",
        "# model_svc = SVC(C=0.1, kernel='rbf', gamma='scale')  #javier 2 row 54\n",
        "# model_svc = SVC(C=1, kernel='rbf', gamma='auto')\n",
        "# model_svc = SVC(C=0.7, kernel='linear')  # silvia 1 row 59\n",
        "\n",
        "# model_svc = SVC(gamma=0.03)\n",
        "# model_svc = SVC(C=0.12, kernel='linear') #javier 1 row 54\n",
        "# model_svc = SVC(C=0.10, kernel='linear')\n",
        "model_svc = SVC(C=12, kernel='sigmoid') #jav 55\n",
        "\n",
        "\n",
        "model_svc.fit(X_train_flat, y_train_flat)\n",
        "\n",
        "score = model_svc.score(X_test_flat, y_test_flat)\n",
        "print(score)\n",
        "\n",
        "pred = model_svc.predict(X_test_flat)\n",
        "show_results(y_test_flat,pred)"
      ]
    },
    {
      "cell_type": "code",
      "execution_count": null,
      "id": "ae0cb226-df9d-4618-944c-4adbc40dc60f",
      "metadata": {
        "colab": {
          "base_uri": "https://localhost:8080/"
        },
        "id": "ae0cb226-df9d-4618-944c-4adbc40dc60f",
        "outputId": "cbbf56fa-f14c-4c48-8d8e-7613c604f112"
      },
      "outputs": [
        {
          "output_type": "execute_result",
          "data": {
            "text/plain": [
              "['model_javier_emot_svc_07_c500linear_60alltraintestmixed.svc']"
            ]
          },
          "metadata": {},
          "execution_count": 16
        }
      ],
      "source": [
        "from joblib import dump, load\n",
        "dump(model_svc, 'model_javier_emot_svc_07_c500linear_60alltraintestmixed.svc')"
      ]
    },
    {
      "cell_type": "code",
      "execution_count": null,
      "id": "b7768c1f-0b07-472f-8bbf-043890e8bd9d",
      "metadata": {
        "id": "b7768c1f-0b07-472f-8bbf-043890e8bd9d",
        "outputId": "e713c097-5ad2-4ef4-8311-36bcc14d32c5"
      },
      "outputs": [
        {
          "ename": "ValueError",
          "evalue": "X has 5 features, but SVC is expecting 7 features as input.",
          "output_type": "error",
          "traceback": [
            "\u001b[1;31m---------------------------------------------------------------------------\u001b[0m",
            "\u001b[1;31mValueError\u001b[0m                                Traceback (most recent call last)",
            "\u001b[1;32m~\\AppData\\Local\\Temp\\ipykernel_2632\\2798732374.py\u001b[0m in \u001b[0;36m<module>\u001b[1;34m\u001b[0m\n\u001b[0;32m      1\u001b[0m \u001b[0mmodel_svc\u001b[0m \u001b[1;33m=\u001b[0m \u001b[0mload\u001b[0m\u001b[1;33m(\u001b[0m\u001b[1;34m'model_javier_emot_svc_03_c10linear_80alltest.svc'\u001b[0m\u001b[1;33m)\u001b[0m\u001b[1;33m\u001b[0m\u001b[1;33m\u001b[0m\u001b[0m\n\u001b[0;32m      2\u001b[0m \u001b[1;33m\u001b[0m\u001b[0m\n\u001b[1;32m----> 3\u001b[1;33m \u001b[0mpred\u001b[0m \u001b[1;33m=\u001b[0m \u001b[0mmodel_svc\u001b[0m\u001b[1;33m.\u001b[0m\u001b[0mpredict\u001b[0m\u001b[1;33m(\u001b[0m\u001b[0mX_test_flat\u001b[0m\u001b[1;33m)\u001b[0m\u001b[1;33m\u001b[0m\u001b[1;33m\u001b[0m\u001b[0m\n\u001b[0m\u001b[0;32m      4\u001b[0m \u001b[0mshow_results\u001b[0m\u001b[1;33m(\u001b[0m\u001b[0my_test_flat\u001b[0m\u001b[1;33m,\u001b[0m\u001b[0mpred\u001b[0m\u001b[1;33m)\u001b[0m\u001b[1;33m\u001b[0m\u001b[1;33m\u001b[0m\u001b[0m\n",
            "\u001b[1;32m~\\anaconda3\\lib\\site-packages\\sklearn\\svm\\_base.py\u001b[0m in \u001b[0;36mpredict\u001b[1;34m(self, X)\u001b[0m\n\u001b[0;32m    789\u001b[0m             \u001b[0my\u001b[0m \u001b[1;33m=\u001b[0m \u001b[0mnp\u001b[0m\u001b[1;33m.\u001b[0m\u001b[0margmax\u001b[0m\u001b[1;33m(\u001b[0m\u001b[0mself\u001b[0m\u001b[1;33m.\u001b[0m\u001b[0mdecision_function\u001b[0m\u001b[1;33m(\u001b[0m\u001b[0mX\u001b[0m\u001b[1;33m)\u001b[0m\u001b[1;33m,\u001b[0m \u001b[0maxis\u001b[0m\u001b[1;33m=\u001b[0m\u001b[1;36m1\u001b[0m\u001b[1;33m)\u001b[0m\u001b[1;33m\u001b[0m\u001b[1;33m\u001b[0m\u001b[0m\n\u001b[0;32m    790\u001b[0m         \u001b[1;32melse\u001b[0m\u001b[1;33m:\u001b[0m\u001b[1;33m\u001b[0m\u001b[1;33m\u001b[0m\u001b[0m\n\u001b[1;32m--> 791\u001b[1;33m             \u001b[0my\u001b[0m \u001b[1;33m=\u001b[0m \u001b[0msuper\u001b[0m\u001b[1;33m(\u001b[0m\u001b[1;33m)\u001b[0m\u001b[1;33m.\u001b[0m\u001b[0mpredict\u001b[0m\u001b[1;33m(\u001b[0m\u001b[0mX\u001b[0m\u001b[1;33m)\u001b[0m\u001b[1;33m\u001b[0m\u001b[1;33m\u001b[0m\u001b[0m\n\u001b[0m\u001b[0;32m    792\u001b[0m         \u001b[1;32mreturn\u001b[0m \u001b[0mself\u001b[0m\u001b[1;33m.\u001b[0m\u001b[0mclasses_\u001b[0m\u001b[1;33m.\u001b[0m\u001b[0mtake\u001b[0m\u001b[1;33m(\u001b[0m\u001b[0mnp\u001b[0m\u001b[1;33m.\u001b[0m\u001b[0masarray\u001b[0m\u001b[1;33m(\u001b[0m\u001b[0my\u001b[0m\u001b[1;33m,\u001b[0m \u001b[0mdtype\u001b[0m\u001b[1;33m=\u001b[0m\u001b[0mnp\u001b[0m\u001b[1;33m.\u001b[0m\u001b[0mintp\u001b[0m\u001b[1;33m)\u001b[0m\u001b[1;33m)\u001b[0m\u001b[1;33m\u001b[0m\u001b[1;33m\u001b[0m\u001b[0m\n\u001b[0;32m    793\u001b[0m \u001b[1;33m\u001b[0m\u001b[0m\n",
            "\u001b[1;32m~\\anaconda3\\lib\\site-packages\\sklearn\\svm\\_base.py\u001b[0m in \u001b[0;36mpredict\u001b[1;34m(self, X)\u001b[0m\n\u001b[0;32m    412\u001b[0m             \u001b[0mThe\u001b[0m \u001b[0mpredicted\u001b[0m \u001b[0mvalues\u001b[0m\u001b[1;33m.\u001b[0m\u001b[1;33m\u001b[0m\u001b[1;33m\u001b[0m\u001b[0m\n\u001b[0;32m    413\u001b[0m         \"\"\"\n\u001b[1;32m--> 414\u001b[1;33m         \u001b[0mX\u001b[0m \u001b[1;33m=\u001b[0m \u001b[0mself\u001b[0m\u001b[1;33m.\u001b[0m\u001b[0m_validate_for_predict\u001b[0m\u001b[1;33m(\u001b[0m\u001b[0mX\u001b[0m\u001b[1;33m)\u001b[0m\u001b[1;33m\u001b[0m\u001b[1;33m\u001b[0m\u001b[0m\n\u001b[0m\u001b[0;32m    415\u001b[0m         \u001b[0mpredict\u001b[0m \u001b[1;33m=\u001b[0m \u001b[0mself\u001b[0m\u001b[1;33m.\u001b[0m\u001b[0m_sparse_predict\u001b[0m \u001b[1;32mif\u001b[0m \u001b[0mself\u001b[0m\u001b[1;33m.\u001b[0m\u001b[0m_sparse\u001b[0m \u001b[1;32melse\u001b[0m \u001b[0mself\u001b[0m\u001b[1;33m.\u001b[0m\u001b[0m_dense_predict\u001b[0m\u001b[1;33m\u001b[0m\u001b[1;33m\u001b[0m\u001b[0m\n\u001b[0;32m    416\u001b[0m         \u001b[1;32mreturn\u001b[0m \u001b[0mpredict\u001b[0m\u001b[1;33m(\u001b[0m\u001b[0mX\u001b[0m\u001b[1;33m)\u001b[0m\u001b[1;33m\u001b[0m\u001b[1;33m\u001b[0m\u001b[0m\n",
            "\u001b[1;32m~\\anaconda3\\lib\\site-packages\\sklearn\\svm\\_base.py\u001b[0m in \u001b[0;36m_validate_for_predict\u001b[1;34m(self, X)\u001b[0m\n\u001b[0;32m    590\u001b[0m \u001b[1;33m\u001b[0m\u001b[0m\n\u001b[0;32m    591\u001b[0m         \u001b[1;32mif\u001b[0m \u001b[1;32mnot\u001b[0m \u001b[0mcallable\u001b[0m\u001b[1;33m(\u001b[0m\u001b[0mself\u001b[0m\u001b[1;33m.\u001b[0m\u001b[0mkernel\u001b[0m\u001b[1;33m)\u001b[0m\u001b[1;33m:\u001b[0m\u001b[1;33m\u001b[0m\u001b[1;33m\u001b[0m\u001b[0m\n\u001b[1;32m--> 592\u001b[1;33m             X = self._validate_data(\n\u001b[0m\u001b[0;32m    593\u001b[0m                 \u001b[0mX\u001b[0m\u001b[1;33m,\u001b[0m\u001b[1;33m\u001b[0m\u001b[1;33m\u001b[0m\u001b[0m\n\u001b[0;32m    594\u001b[0m                 \u001b[0maccept_sparse\u001b[0m\u001b[1;33m=\u001b[0m\u001b[1;34m\"csr\"\u001b[0m\u001b[1;33m,\u001b[0m\u001b[1;33m\u001b[0m\u001b[1;33m\u001b[0m\u001b[0m\n",
            "\u001b[1;32m~\\anaconda3\\lib\\site-packages\\sklearn\\base.py\u001b[0m in \u001b[0;36m_validate_data\u001b[1;34m(self, X, y, reset, validate_separately, **check_params)\u001b[0m\n\u001b[0;32m    583\u001b[0m \u001b[1;33m\u001b[0m\u001b[0m\n\u001b[0;32m    584\u001b[0m         \u001b[1;32mif\u001b[0m \u001b[1;32mnot\u001b[0m \u001b[0mno_val_X\u001b[0m \u001b[1;32mand\u001b[0m \u001b[0mcheck_params\u001b[0m\u001b[1;33m.\u001b[0m\u001b[0mget\u001b[0m\u001b[1;33m(\u001b[0m\u001b[1;34m\"ensure_2d\"\u001b[0m\u001b[1;33m,\u001b[0m \u001b[1;32mTrue\u001b[0m\u001b[1;33m)\u001b[0m\u001b[1;33m:\u001b[0m\u001b[1;33m\u001b[0m\u001b[1;33m\u001b[0m\u001b[0m\n\u001b[1;32m--> 585\u001b[1;33m             \u001b[0mself\u001b[0m\u001b[1;33m.\u001b[0m\u001b[0m_check_n_features\u001b[0m\u001b[1;33m(\u001b[0m\u001b[0mX\u001b[0m\u001b[1;33m,\u001b[0m \u001b[0mreset\u001b[0m\u001b[1;33m=\u001b[0m\u001b[0mreset\u001b[0m\u001b[1;33m)\u001b[0m\u001b[1;33m\u001b[0m\u001b[1;33m\u001b[0m\u001b[0m\n\u001b[0m\u001b[0;32m    586\u001b[0m \u001b[1;33m\u001b[0m\u001b[0m\n\u001b[0;32m    587\u001b[0m         \u001b[1;32mreturn\u001b[0m \u001b[0mout\u001b[0m\u001b[1;33m\u001b[0m\u001b[1;33m\u001b[0m\u001b[0m\n",
            "\u001b[1;32m~\\anaconda3\\lib\\site-packages\\sklearn\\base.py\u001b[0m in \u001b[0;36m_check_n_features\u001b[1;34m(self, X, reset)\u001b[0m\n\u001b[0;32m    398\u001b[0m \u001b[1;33m\u001b[0m\u001b[0m\n\u001b[0;32m    399\u001b[0m         \u001b[1;32mif\u001b[0m \u001b[0mn_features\u001b[0m \u001b[1;33m!=\u001b[0m \u001b[0mself\u001b[0m\u001b[1;33m.\u001b[0m\u001b[0mn_features_in_\u001b[0m\u001b[1;33m:\u001b[0m\u001b[1;33m\u001b[0m\u001b[1;33m\u001b[0m\u001b[0m\n\u001b[1;32m--> 400\u001b[1;33m             raise ValueError(\n\u001b[0m\u001b[0;32m    401\u001b[0m                 \u001b[1;34mf\"X has {n_features} features, but {self.__class__.__name__} \"\u001b[0m\u001b[1;33m\u001b[0m\u001b[1;33m\u001b[0m\u001b[0m\n\u001b[0;32m    402\u001b[0m                 \u001b[1;34mf\"is expecting {self.n_features_in_} features as input.\"\u001b[0m\u001b[1;33m\u001b[0m\u001b[1;33m\u001b[0m\u001b[0m\n",
            "\u001b[1;31mValueError\u001b[0m: X has 5 features, but SVC is expecting 7 features as input."
          ]
        }
      ],
      "source": [
        "# model_svc = load('model_javier_emot_svc_07_c500linear_60alltraintestmixed.svc')\n",
        "\n",
        "pred = model_svc.predict(X_test_flat)\n",
        "show_results(y_test_flat,pred)"
      ]
    },
    {
      "cell_type": "code",
      "execution_count": null,
      "id": "43a0156b-496d-472b-a7f5-159a65706a91",
      "metadata": {
        "id": "43a0156b-496d-472b-a7f5-159a65706a91",
        "outputId": "17fb137c-6810-4aa8-ddf7-13fc3f05ca6e"
      },
      "outputs": [
        {
          "data": {
            "text/plain": [
              "['model_silvia_emot_svc_15_ses04_scvc10linear_79alltestbal.sv']"
            ]
          },
          "execution_count": 1482,
          "metadata": {},
          "output_type": "execute_result"
        }
      ],
      "source": [
        "from joblib import dump, load\n",
        "# dump(model_svc, 'model_silvia_emot_svc_15_ses04_scvc10linear_79alltestbal.sv')\n",
        "# dump(model_svc, 'model_javier_emot_svc_03_c10linear_80alltest.svc')"
      ]
    },
    {
      "cell_type": "code",
      "execution_count": null,
      "id": "73ff3ef0-b43a-4f54-829f-aba32c7f1fda",
      "metadata": {
        "id": "73ff3ef0-b43a-4f54-829f-aba32c7f1fda",
        "outputId": "120f8ff7-1258-4101-d5d7-80f5d34dc78d"
      },
      "outputs": [
        {
          "data": {
            "image/png": "[encoded data removed]",
            "text/plain": [
              "<Figure size 200x200 with 2 Axes>"
            ]
          },
          "metadata": {},
          "output_type": "display_data"
        },
        {
          "name": "stdout",
          "output_type": "stream",
          "text": [
            "              precision    recall  f1-score   support\n",
            "\n",
            "           0       0.72      0.92      0.80        36\n",
            "           1       0.83      0.54      0.65        28\n",
            "\n",
            "    accuracy                           0.75        64\n",
            "   macro avg       0.78      0.73      0.73        64\n",
            "weighted avg       0.77      0.75      0.74        64\n",
            "\n"
          ]
        }
      ],
      "source": []
    },
    {
      "cell_type": "code",
      "execution_count": null,
      "id": "83767274-d5b1-4b5b-8bb1-cb97704ab6bc",
      "metadata": {
        "id": "83767274-d5b1-4b5b-8bb1-cb97704ab6bc",
        "outputId": "ac281806-c58d-43b8-ad34-bdaf3593563a"
      },
      "outputs": [
        {
          "data": {
            "text/plain": [
              "['model_silvia_raw_cep_svc_02_70alltest.sv']"
            ]
          },
          "execution_count": 567,
          "metadata": {},
          "output_type": "execute_result"
        }
      ],
      "source": [
        "from joblib import dump, load\n",
        "# dump(model_svc, 'model_silvia_emot_svc_02_70alltest.sv')\n",
        "# dump(model_svc, 'model_silvia_emot_svc_02_70alltest.sv')\n",
        "# model_svc.save('model_silvia_raw_cep_svc_65alltest.svc')\n",
        "# model_svc = load('model_javier_raw_cep_svc.svc')"
      ]
    },
    {
      "cell_type": "code",
      "execution_count": null,
      "id": "d2f8b686-4787-441b-9f64-358530267ac5",
      "metadata": {
        "id": "d2f8b686-4787-441b-9f64-358530267ac5"
      },
      "outputs": [],
      "source": [
        "# model.save('model_javier_emot_11_alltest62.keras')\n",
        "# model.save('model_silvia_emot_01_alltest72.keras')\n",
        "# model = keras.models.load_model('model_javier_emot_06.keras')\n",
        "# np.asarray(X).astype(np.float32)\n"
      ]
    },
    {
      "cell_type": "code",
      "execution_count": null,
      "id": "b8f17aad-0419-4a5a-841e-074c3fa6e90d",
      "metadata": {
        "id": "b8f17aad-0419-4a5a-841e-074c3fa6e90d",
        "outputId": "f6c33205-f24e-4856-89ba-790e24da5c08"
      },
      "outputs": [
        {
          "name": "stdout",
          "output_type": "stream",
          "text": [
            "(None, 2, 5) <dtype: 'float32'>\n",
            "(None, 2) <dtype: 'float32'>\n",
            "lstm (None, 2, 5) float32\n",
            "dense (None, 25) float32\n",
            "dense_1 (None, 32) float32\n",
            "dense_2 (None, 128) float32\n",
            "dense_3 (None, 128) float32\n"
          ]
        },
        {
          "data": {
            "text/plain": [
              "[None, None, None, None, None]"
            ]
          },
          "execution_count": 342,
          "metadata": {},
          "output_type": "execute_result"
        }
      ],
      "source": [
        "[print(i.shape, i.dtype) for i in model.inputs]\n",
        "[print(o.shape, o.dtype) for o in model.outputs]\n",
        "[print(l.name, l.input_shape, l.dtype) for l in model.layers]"
      ]
    },
    {
      "cell_type": "code",
      "execution_count": null,
      "id": "c3fc4491-ac1e-4b5b-9fc8-a3745da93d0e",
      "metadata": {
        "id": "c3fc4491-ac1e-4b5b-9fc8-a3745da93d0e"
      },
      "outputs": [],
      "source": []
    },
    {
      "cell_type": "code",
      "execution_count": null,
      "id": "5cd01030-a036-450d-8dd0-c2175733fe64",
      "metadata": {
        "id": "5cd01030-a036-450d-8dd0-c2175733fe64",
        "outputId": "990d3b3a-a0cc-4c21-9660-59d4ac607fe9"
      },
      "outputs": [
        {
          "name": "stdout",
          "output_type": "stream",
          "text": [
            "1/1 [==============================] - 0s 417ms/step\n"
          ]
        }
      ],
      "source": []
    },
    {
      "cell_type": "code",
      "execution_count": null,
      "id": "5fb46f06-b0f1-4e23-92ad-76ae0a879f2b",
      "metadata": {
        "id": "5fb46f06-b0f1-4e23-92ad-76ae0a879f2b"
      },
      "outputs": [],
      "source": []
    },
    {
      "cell_type": "code",
      "execution_count": null,
      "id": "5e5e41db-0230-495a-ba94-f2944271031f",
      "metadata": {
        "id": "5e5e41db-0230-495a-ba94-f2944271031f"
      },
      "outputs": [],
      "source": []
    },
    {
      "cell_type": "code",
      "execution_count": null,
      "id": "30418b70-1c35-42c4-89a1-1aac472a7866",
      "metadata": {
        "id": "30418b70-1c35-42c4-89a1-1aac472a7866",
        "outputId": "17f2acac-e876-4ee6-d8ff-fec62724e22f"
      },
      "outputs": [
        {
          "name": "stdout",
          "output_type": "stream",
          "text": [
            "1/1 [==============================] - 1s 941ms/step\n"
          ]
        },
        {
          "data": {
            "image/png": "[encoded data removed]",
            "text/plain": [
              "<Figure size 200x200 with 2 Axes>"
            ]
          },
          "metadata": {},
          "output_type": "display_data"
        },
        {
          "name": "stdout",
          "output_type": "stream",
          "text": [
            "              precision    recall  f1-score   support\n",
            "\n",
            "           0       0.64      0.80      0.71        20\n",
            "           1       0.43      0.25      0.32        12\n",
            "\n",
            "    accuracy                           0.59        32\n",
            "   macro avg       0.53      0.53      0.51        32\n",
            "weighted avg       0.56      0.59      0.56        32\n",
            "\n"
          ]
        }
      ],
      "source": [
        "y_pred = model.predict(X_val)\n",
        "y_pred2 = [np.argmax(i) for i in y_pred]\n",
        "# y_val_cat\n",
        "# y_val\n",
        "y_val2=  [np.argmax(i) for i in y_val_cat]\n",
        "# X_val.shape,y_val2, y_pred2\n",
        "\n",
        "\n",
        "show_results(y_val,y_pred2)"
      ]
    },
    {
      "cell_type": "code",
      "execution_count": null,
      "id": "c2cc8cbc-e898-4660-9d1d-0aa69c77a7c5",
      "metadata": {
        "id": "c2cc8cbc-e898-4660-9d1d-0aa69c77a7c5"
      },
      "outputs": [],
      "source": []
    },
    {
      "cell_type": "code",
      "execution_count": null,
      "id": "062af493-6a8c-4634-9f28-17a1080ed9f8",
      "metadata": {
        "id": "062af493-6a8c-4634-9f28-17a1080ed9f8"
      },
      "outputs": [],
      "source": [
        "# def load_test_data(paths):\n",
        "#     dfRaw = []\n",
        "#     X_emot_train = []\n",
        "#     y_emot_train =[]\n",
        "#     filter=[]\n",
        "#     filterLastRows = 2\n",
        "#     i=0\n",
        "#     # print (paths)\n",
        "#     for path in paths:\n",
        "#         dfHead = pd.read_csv(path + 'head.csv')\n",
        "#         all_emot_files = glob.glob(os.path.join(path , \"*_emoti*.csv\"))\n",
        "#         # print(dfHead[dfHead['questionCode']==24].iloc[0]['response'])\n",
        "\n",
        "#         for filename in all_emot_files:\n",
        "#             dfRaw = pd.read_csv(filename, index_col=None, header=0, delimiter=',')\n",
        "#             # dfRaw = dfRaw[:,5:]\n",
        "#             # print(filename)\n",
        "#             if len(dfRaw)>=filterLastRows:\n",
        "#                 qCode = dfRaw['questionCode'].iloc[[0]][0]\n",
        "#                 # print(dfRaw[3:])\n",
        "#                 X_emot_train.append([])\n",
        "#                 # X = np.array(dfRaw.tail(filterLastRows)['rawEeg'])\n",
        "#                 # print(qCode)\n",
        "#                 X = np.array(dfRaw.tail(filterLastRows))\n",
        "#                 # scaler = MinMaxScaler()\n",
        "#                 # transform data\n",
        "#                 X = X[:,5:]\n",
        "#                 # X = np.array((X-np.min(X))/(np.max(X)-np.min(X)))\n",
        "#                 # X = X/np.std(X)\n",
        "#                 for idx, it in enumerate(X):\n",
        "#                     # print(X[idx][5:])\n",
        "#                     X_emot_train[i].append([])\n",
        "#                     X_emot_train[i][idx] =X[idx][5:]\n",
        "#                     # X_emot_train[i][idx].append([])\n",
        "#                     # X_emot_train[i][idx][0] = X[idx]\n",
        "\n",
        "\n",
        "#                 y_emot_train.append([])\n",
        "#                 y_emot_train[i].append([])\n",
        "#                 y_emot_train[i][0] = dfHead[dfHead['questionCode']==qCode].iloc[0]['response']\n",
        "#                 i=i+1\n",
        "#     return X_emot_train,y_emot_train\n"
      ]
    },
    {
      "cell_type": "code",
      "execution_count": null,
      "id": "99e6d21b-1628-46d4-bec9-1c6c701018ec",
      "metadata": {
        "id": "99e6d21b-1628-46d4-bec9-1c6c701018ec"
      },
      "outputs": [],
      "source": []
    },
    {
      "cell_type": "code",
      "execution_count": null,
      "id": "dc02a427-e16b-4326-80ec-86d785a8789a",
      "metadata": {
        "id": "dc02a427-e16b-4326-80ec-86d785a8789a",
        "outputId": "ed7cb638-eb46-470c-a7e8-caebfae3334e"
      },
      "outputs": [
        {
          "data": {
            "image/png": "[encoded data removed]",
            "text/plain": [
              "<Figure size 200x200 with 2 Axes>"
            ]
          },
          "metadata": {},
          "output_type": "display_data"
        },
        {
          "name": "stdout",
          "output_type": "stream",
          "text": [
            "              precision    recall  f1-score   support\n",
            "\n",
            "           0       0.47      0.56      0.51        16\n",
            "           1       0.61      0.52      0.56        21\n",
            "\n",
            "    accuracy                           0.54        37\n",
            "   macro avg       0.54      0.54      0.54        37\n",
            "weighted avg       0.55      0.54      0.54        37\n",
            "\n"
          ]
        }
      ],
      "source": [
        "# model = history.model\n",
        "# model.save('model_javier_emot_02.keras')\n",
        "model = load('model_silvia_emot_svc_15_ses04_scvc10linear_79alltestbal.sv')\n",
        "pred = model_svc.predict(X_test_flat)\n",
        "show_results(y_test_flat,pred)\n",
        "\n"
      ]
    },
    {
      "cell_type": "code",
      "execution_count": null,
      "id": "d2230869-3696-4bb2-8621-29574b696df6",
      "metadata": {
        "id": "d2230869-3696-4bb2-8621-29574b696df6"
      },
      "outputs": [],
      "source": [
        "# model = keras.models.load_model('model_silvia_emot_02_4ses_alltest70.keras')\n",
        "x_test = np.asarray(x_test).astype(np.float32)\n",
        "y_test_pred = model.predict(x_test)\n",
        "y_test_pred2 = [np.argmax(i) for i in y_test_pred]\n",
        "show_results(y_test,y_test_pred2)"
      ]
    },
    {
      "cell_type": "code",
      "execution_count": null,
      "id": "cdf1db8f-14a1-41dd-bd58-f98a34e72cf3",
      "metadata": {
        "id": "cdf1db8f-14a1-41dd-bd58-f98a34e72cf3"
      },
      "outputs": [],
      "source": [
        "# y_test_pred\n",
        "# y_val2=  [np.argmax(i) for i in y_val_cat]\n",
        "# y_test_pred2\n",
        "# y_test,y_test_raw\n",
        "# [np.argmax(i) for i in y_test_raw]\n",
        "\n",
        "# y_test\n",
        "# y_test_pred2"
      ]
    },
    {
      "cell_type": "code",
      "execution_count": null,
      "id": "7bf687b1-34bf-4e24-830f-0bf7fff5db72",
      "metadata": {
        "id": "7bf687b1-34bf-4e24-830f-0bf7fff5db72"
      },
      "outputs": [],
      "source": []
    },
    {
      "cell_type": "code",
      "execution_count": null,
      "id": "a8c07b63-15d4-420a-bb14-2f84c1d21479",
      "metadata": {
        "id": "a8c07b63-15d4-420a-bb14-2f84c1d21479"
      },
      "outputs": [],
      "source": [
        "# y_test"
      ]
    },
    {
      "cell_type": "code",
      "execution_count": null,
      "id": "65167283-310e-4724-bfd9-089ab1d37764",
      "metadata": {
        "id": "65167283-310e-4724-bfd9-089ab1d37764"
      },
      "outputs": [],
      "source": []
    }
  ],
  "metadata": {
    "kernelspec": {
      "display_name": "Python 3 (ipykernel)",
      "language": "python",
      "name": "python3"
    },
    "language_info": {
      "codemirror_mode": {
        "name": "ipython",
        "version": 3
      },
      "file_extension": ".py",
      "mimetype": "text/x-python",
      "name": "python",
      "nbconvert_exporter": "python",
      "pygments_lexer": "ipython3",
      "version": "3.9.13"
    },
    "colab": {
      "provenance": []
    }
  },
  "nbformat": 4,
  "nbformat_minor": 5
}