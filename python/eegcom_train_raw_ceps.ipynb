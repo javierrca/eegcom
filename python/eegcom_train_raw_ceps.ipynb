{
  "cells": [
    {
      "cell_type": "code",
      "execution_count": null,
      "id": "de275c24-3b61-45b0-a807-3d4a8b8fa233",
      "metadata": {
        "id": "de275c24-3b61-45b0-a807-3d4a8b8fa233"
      },
      "outputs": [],
      "source": [
        "import pandas as pd\n",
        "import keras as keras\n",
        "import os\n",
        "import librosa\n",
        "import librosa.display\n",
        "import matplotlib.pyplot as plt\n",
        "from sklearn.model_selection import train_test_split\n",
        "from sklearn.preprocessing import normalize\n",
        "import warnings\n",
        "warnings.filterwarnings('ignore')\n",
        "from sklearn.model_selection import train_test_split\n",
        "import tensorflow\n",
        "from tensorflow.keras.layers import LSTM, Dense\n",
        "import tensorflow as tf\n",
        "import glob\n",
        "import numpy as np\n",
        "import matplotlib.pyplot as plt\n",
        "import csv\n",
        "from python_speech_features import mfcc"
      ]
    },
    {
      "cell_type": "code",
      "execution_count": null,
      "id": "8526fc1b-74bd-41b6-b2f3-46c79d24040b",
      "metadata": {
        "id": "8526fc1b-74bd-41b6-b2f3-46c79d24040b",
        "outputId": "0b3a9129-9f85-45fa-865f-9662b4e9d7fe"
      },
      "outputs": [
        {
          "data": {
            "text/plain": [
              "((127, 8, 12), (127, 1))"
            ]
          },
          "execution_count": 1701,
          "metadata": {},
          "output_type": "execute_result"
        }
      ],
      "source": [
        "#1,3,6 consiguen un 75% val\n",
        "paths = [\n",
        "\n",
        "\n",
        "            str(os.getcwd() +\"/pruebas/preguntas_01-50/javier/ses01/\"),  #train consigue 75% val\n",
        "               str(os.getcwd() +\"/pruebas/preguntas_01-50/javier/ses02/\"),  # train no pasa del 50% val / consigue 72% cambiando datos de validacion pero no repite\n",
        "               str(os.getcwd() +\"/pruebas/preguntas_01-50/javier/ses03/\") , #train consigue 75% val  cambiando datos val\n",
        "      str(os.getcwd() +\"/pruebas/preguntas_01-50/javier/ses04/\") ,  # no pasa del 0,66 normalmenmte 0,5\n",
        "      str(os.getcwd() +\"/pruebas/preguntas_01-50/javier/ses05/\") , # despues de varios intentos consigue el 75%\n",
        "     str(os.getcwd() +\"/pruebas/preguntas_01-50/javier/ses06/\") ,  # consigue hasta un 91% !! alcanza 75 varias veces\n",
        "         str(os.getcwd() +\"/pruebas/preguntas_01-50/javier/ses07/\") ,  # consigue hasta un 91% !! alcanza 75 varias veces\n",
        "        str(os.getcwd() +\"/pruebas/fase1_si/javier/ses_test01/\") ,\n",
        "    str(os.getcwd() +\"/pruebas/fase1_si/javier/ses_test02/\") ,\n",
        "    str(os.getcwd() +\"/pruebas/fase1_si/javier/ses_test03/\") ,\n",
        "    str(os.getcwd() +\"/pruebas/fase1_si/javier/ses_train01/\") ,\n",
        "\n",
        "\n",
        "     # str(os.getcwd() +\"/pruebas/preguntas_01-50/silvia/ses01/\")      ,\n",
        "     #     str(os.getcwd() +\"/pruebas/preguntas_01-50/silvia/ses02/\")  ,\n",
        "     #      str(os.getcwd() +\"/pruebas/preguntas_01-50/silvia/ses03/\")   ,\n",
        "     #      str(os.getcwd() +\"/pruebas/preguntas_01-50/silvia/ses03/\")\n",
        "\n",
        "\n",
        "\n",
        "\n",
        "        ]\n",
        "window = 350\n",
        "# window = 350\n",
        "# window = 250\n",
        "# window = 375\n",
        "step = 100\n",
        "# step = 125\n",
        "\n",
        "def convert_to_mfccs(wav):\n",
        "    return mfcc(wav, 1, winstep=step, winlen=window, numcep=12)\n",
        "     # return mfcc(wav, 1,winlen=25, winstep=1, numcep=26)\n",
        "\n",
        "\n",
        "\n",
        "def load_data(paths):\n",
        "    dfRaw = []\n",
        "    X_raw_train = []\n",
        "    y_raw_train =[]\n",
        "    filter=[]\n",
        "    filterLastRows = 1000\n",
        "    # filterLastRows = 500\n",
        "    # filterLastRows = 750\n",
        "\n",
        "    i=0\n",
        "    # print (paths)\n",
        "    for path in paths:\n",
        "        dfHead = pd.read_csv(path + 'head.csv')\n",
        "        all_raw_files = glob.glob(os.path.join(path , \"*_raw*.csv\"))\n",
        "        # print(dfHead[dfHead['questionCode']==24].iloc[0]['response'])\n",
        "\n",
        "        for filename in all_raw_files:\n",
        "            dfRaw = pd.read_csv(filename, index_col=None, header=0)\n",
        "            # print(filename)\n",
        "            if len(dfRaw)>filterLastRows:\n",
        "                qCode = dfRaw['questionCode'].iloc[[0]][0]\n",
        "                # print(qCode)\n",
        "                X_raw_train.append([])\n",
        "                X = np.array(dfRaw.tail(filterLastRows)['rawEeg'])\n",
        "                # Pot MFCC spectrogram of input signal\n",
        "                input_signal =X\n",
        "                # print(input_signal)\n",
        "                # ax = ax_list[0]\n",
        "                data = convert_to_mfccs(input_signal)\n",
        "                # X_raw_train[i].append([])\n",
        "                # X_raw_train[i][0] = data\n",
        "                X_raw_train[i] = data\n",
        "\n",
        "                # for idx, it in enumerate(X):\n",
        "                #     X_raw_train[i].append([])\n",
        "                #     X_raw_train[i][idx].append([])\n",
        "                #     X_raw_train[i][idx][0] = X[idx]\n",
        "                y_raw_train.append([])\n",
        "                y_raw_train[i].append([])\n",
        "                y_raw_train[i][0] = dfHead[dfHead['questionCode']==qCode].iloc[0]['response']\n",
        "                i=i+1\n",
        "    return X_raw_train,y_raw_train\n",
        "\n",
        "\n",
        "X_raw_train = []\n",
        "y_raw_train =[]\n",
        "X_raw_train,y_raw_train= load_data(paths)\n",
        "X = np.array(X_raw_train)\n",
        "# X = np.array((X-np.min(X))/(np.max(X)-np.min(X)))\n",
        "# X = X/np.std(X)\n",
        "y = np.array(y_raw_train)\n",
        "X.shape, y.shape\n"
      ]
    },
    {
      "cell_type": "code",
      "execution_count": null,
      "id": "e45210bb-84b6-49de-953f-723abfde1829",
      "metadata": {
        "id": "e45210bb-84b6-49de-953f-723abfde1829",
        "outputId": "dab12b6b-b442-4ab1-c9ed-7c9d3bf69176"
      },
      "outputs": [
        {
          "data": {
            "text/plain": [
              "(98, 8, 12)"
            ]
          },
          "execution_count": 1702,
          "metadata": {},
          "output_type": "execute_result"
        }
      ],
      "source": [
        "# 2 , 5, 8 funcionan bien\n",
        "# 5 y 5-F1\n",
        "# ses03 70% con entreno 1,3,6 nromalizando\n",
        "# ses02 89% con entreno 1,3,6 nromalizando\n",
        "# ses07  y FASE1/ses10 con entreno 1,3,6 bien\n",
        "paths_test = [\n",
        "          str(os.getcwd() +\"/pruebas/test/javier/ses01/\"),\n",
        "            str(os.getcwd() +\"/pruebas/test/javier/ses02/\"),\n",
        "         str(os.getcwd() +\"/pruebas/test/javier/ses03/\"),\n",
        "              str(os.getcwd() +\"/pruebas/test/javier/ses04/\"),\n",
        "                str(os.getcwd() +\"/pruebas/test/javier/ses05/\"),\n",
        "               str(os.getcwd() +\"/pruebas/test/javier/ses06/\"),\n",
        "           str(os.getcwd() +\"/pruebas/test/javier/ses07/\"),\n",
        "          str(os.getcwd() +\"/pruebas/test/javier/ses08/\"),\n",
        "          str(os.getcwd() +\"/pruebas/test/javier/ses09/\")   ,\n",
        "               str(os.getcwd() +\"/pruebas/test/javier/ses10/\")   ,\n",
        "              str(os.getcwd() +\"/pruebas/test/javier/ses11/\")   ,\n",
        "                  str(os.getcwd() +\"/pruebas/test/javier/ses12/\")   ,\n",
        "\n",
        "    # str(os.getcwd() +\"/pruebas/test/silvia/ses01/\")   ,\n",
        "    # str(os.getcwd() +\"/pruebas/test/silvia/ses02/\")      ,\n",
        "    # str(os.getcwd() +\"/pruebas/test/silvia/ses03/\")     ,\n",
        "    #  str(os.getcwd() +\"/pruebas/test/silvia/ses04/\")     ,\n",
        "    # str(os.getcwd() +\"/pruebas/test/silvia/sesbal/\")     ,\n",
        "\n",
        "        ]\n",
        "\n",
        "x_test_raw, y_test_raw = load_data(paths_test)\n",
        "x_test = np.array(x_test_raw)\n",
        "y_test = np.array(y_test_raw)\n",
        "x_test.shape"
      ]
    },
    {
      "cell_type": "code",
      "execution_count": null,
      "id": "4c238de1-67a6-4635-9aaf-7affa5fe2950",
      "metadata": {
        "id": "4c238de1-67a6-4635-9aaf-7affa5fe2950",
        "outputId": "23422353-9ef2-4bf8-e199-9fef6ba7b5af"
      },
      "outputs": [
        {
          "name": "stderr",
          "output_type": "stream",
          "text": [
            "C:\\Users\\javis\\anaconda3\\lib\\site-packages\\scipy\\__init__.py:155: UserWarning: A NumPy version >=1.18.5 and <1.25.0 is required for this version of SciPy (detected version 1.26.2\n",
            "  warnings.warn(f\"A NumPy version >={np_minversion} and <{np_maxversion}\"\n"
          ]
        }
      ],
      "source": [
        "from sklearn.metrics import confusion_matrix, classification_report\n",
        "import seaborn as sns\n",
        "\n",
        "def show_results(y_test, pred_y):\n",
        "    conf_matrix = confusion_matrix(y_test,pred_y)\n",
        "    plt.figure(figsize=(2,2))\n",
        "    labels = ['0: No', '1: Si']\n",
        "    sns.heatmap(conf_matrix, xticklabels=labels, yticklabels=labels, annot=True, fmt='d')\n",
        "    plt.title('Confusion matrix')\n",
        "    plt.ylabel('True class')\n",
        "    plt.xlabel('Predicted class')\n",
        "    plt.show()\n",
        "\n",
        "    print(classification_report(y_test,pred_y))\n",
        ""
      ]
    },
    {
      "cell_type": "code",
      "execution_count": null,
      "id": "58c89702-0084-4af5-b70a-cd1773e67035",
      "metadata": {
        "id": "58c89702-0084-4af5-b70a-cd1773e67035"
      },
      "outputs": [],
      "source": [
        "\n",
        "\n",
        "def plot_series(time, series, format=\"-\", start=0, end=None):\n",
        "    plt.plot(time[start:end], series[start:end], format)\n",
        "    plt.xlabel(\"Time\")\n",
        "    plt.ylabel(\"Value\")\n",
        "    plt.grid(True)\n",
        "\n",
        "\n",
        "def get_timed_series(dataArr):\n",
        "    time_step = []\n",
        "    data = []\n",
        "    step=0\n",
        "    for row in dataArr:\n",
        "        data.append(float(row))\n",
        "        # print(row[3])\n",
        "        time_step.append(step)\n",
        "        step = step + 1\n",
        "    return np.array(time_step),np.array(data)\n",
        "\n",
        "\n",
        "# series = np.array(temps)\n",
        "# time = np.array(time_step)\n",
        "# time,series = get_timed_series(X_train[0])\n",
        "# plt.figure(figsize=(10, 6))\n",
        "# plot_series(time, series)\n",
        "\n",
        "# # print(y_train[0])\n",
        "\n",
        "# time,series = get_timed_series(np.array(dfRaw[dfRaw['questionCode']==22].iloc[:,3]))\n",
        "# plt.figure(figsize=(10, 6))\n",
        "# plot_series(time, series)\n",
        "\n",
        "\n",
        "\n",
        "# time,series = get_timed_series(np.array(dfEmot[dfEmot['questionCode']==22].iloc[:,10]))\n",
        "# plt.figure(figsize=(10, 6))\n",
        "# plot_series(time, series)\n",
        "\n",
        "\n",
        "import matplotlib.pyplot as plt\n",
        "import numpy as np\n",
        "import scipy.signal as signal\n",
        "from python_speech_features import mfcc\n",
        "\n",
        "fig, ax_list = plt.subplots(nrows=2, figsize=(10, 15), gridspec_kw={'wspace': 0, 'hspace': 0.2}, dpi=100)\n",
        "print(ax_list)\n",
        "window = 75\n",
        "step = 25\n",
        "input_signal =X[0]\n",
        "# print(input_signal)\n",
        "# Pot MFCC spectrogram of input signal\n",
        "ax = ax_list[0]\n",
        "def convert_to_mfccs(wav):\n",
        "    return mfcc(wav, 1, winstep=step, winlen=window, numcep=26)\n",
        "\n",
        "# data = convert_to_mfccs(input_signal)\n",
        "data = input_signal\n",
        "print(len(data))\n",
        "print(data.shape)\n",
        "\n",
        "presentation_steps = np.arange(data.shape[0])\n",
        "ax.imshow(data.T, aspect=\"auto\", interpolation=\"nearest\")\n",
        "ax.set_ylabel(\"MFCC features\")\n",
        "\n",
        "plt.show()"
      ]
    },
    {
      "cell_type": "code",
      "execution_count": null,
      "id": "11acb321-2013-4eb1-b94c-22c77131e7a5",
      "metadata": {
        "id": "11acb321-2013-4eb1-b94c-22c77131e7a5"
      },
      "outputs": [],
      "source": []
    },
    {
      "cell_type": "code",
      "execution_count": null,
      "id": "01514b03-918d-45f7-988e-c1e7e03e6a45",
      "metadata": {
        "id": "01514b03-918d-45f7-988e-c1e7e03e6a45"
      },
      "outputs": [],
      "source": []
    },
    {
      "cell_type": "code",
      "execution_count": null,
      "id": "8176e63e-bc31-46ca-9add-1b7944df3840",
      "metadata": {
        "id": "8176e63e-bc31-46ca-9add-1b7944df3840",
        "outputId": "f39645c9-8ebc-4eb8-af8f-17f0a34ff04c"
      },
      "outputs": [
        {
          "ename": "NameError",
          "evalue": "name 'train_test_split' is not defined",
          "output_type": "error",
          "traceback": [
            "\u001b[1;31m---------------------------------------------------------------------------\u001b[0m",
            "\u001b[1;31mNameError\u001b[0m                                 Traceback (most recent call last)",
            "\u001b[1;32m~\\AppData\\Local\\Temp\\ipykernel_9372\\3183729427.py\u001b[0m in \u001b[0;36m<module>\u001b[1;34m\u001b[0m\n\u001b[0;32m      2\u001b[0m \u001b[1;31m# X_train, X_test, y_train, y_test = train_test_split(X, y, test_size=0.25, random_state=123, stratify=y)\u001b[0m\u001b[1;33m\u001b[0m\u001b[1;33m\u001b[0m\u001b[0m\n\u001b[0;32m      3\u001b[0m \u001b[1;33m\u001b[0m\u001b[0m\n\u001b[1;32m----> 4\u001b[1;33m \u001b[0mX_train\u001b[0m\u001b[1;33m,\u001b[0m \u001b[0mX_val\u001b[0m\u001b[1;33m,\u001b[0m \u001b[0my_train\u001b[0m\u001b[1;33m,\u001b[0m \u001b[0my_val\u001b[0m \u001b[1;33m=\u001b[0m \u001b[0mtrain_test_split\u001b[0m\u001b[1;33m(\u001b[0m\u001b[0mX\u001b[0m\u001b[1;33m,\u001b[0m \u001b[0my\u001b[0m\u001b[1;33m,\u001b[0m \u001b[0mtest_size\u001b[0m\u001b[1;33m=\u001b[0m\u001b[1;36m0.25\u001b[0m\u001b[1;33m)\u001b[0m\u001b[1;33m\u001b[0m\u001b[1;33m\u001b[0m\u001b[0m\n\u001b[0m\u001b[0;32m      5\u001b[0m \u001b[1;33m\u001b[0m\u001b[0m\n\u001b[0;32m      6\u001b[0m \u001b[0my_val_cat\u001b[0m \u001b[1;33m=\u001b[0m \u001b[0my_train_cat\u001b[0m \u001b[1;33m=\u001b[0m\u001b[0mkeras\u001b[0m\u001b[1;33m.\u001b[0m\u001b[0mutils\u001b[0m\u001b[1;33m.\u001b[0m\u001b[0mto_categorical\u001b[0m\u001b[1;33m(\u001b[0m\u001b[0my_val\u001b[0m\u001b[1;33m,\u001b[0m\u001b[1;36m2\u001b[0m\u001b[1;33m)\u001b[0m\u001b[1;33m\u001b[0m\u001b[1;33m\u001b[0m\u001b[0m\n",
            "\u001b[1;31mNameError\u001b[0m: name 'train_test_split' is not defined"
          ]
        }
      ],
      "source": [
        "\n",
        "#Split twice to get the validation set\n",
        "# X_train, X_test, y_train, y_test = train_test_split(X, y, test_size=0.25, random_state=123, stratify=y)\n",
        "\n",
        "X_train, X_val, y_train, y_val = train_test_split(X, y, test_size=0.25)\n",
        "\n",
        "y_val_cat = y_train_cat =keras.utils.to_categorical(y_val,2)\n",
        "y_train_cat =keras.utils.to_categorical(y_train,2)\n",
        "\n",
        "\n",
        "X_train.shape,  y_train.shape, X_val.shape, y_val.shape, len(y_train),  len(y_val)\n",
        "#\n",
        "y_val_cat"
      ]
    },
    {
      "cell_type": "code",
      "execution_count": null,
      "id": "0b72b5e9-a5dc-45e4-876d-52f49beb6884",
      "metadata": {
        "id": "0b72b5e9-a5dc-45e4-876d-52f49beb6884"
      },
      "outputs": [],
      "source": [
        "y_val_cat, y_val"
      ]
    },
    {
      "cell_type": "code",
      "execution_count": null,
      "id": "ca58104d-45b9-49bb-838b-ff74a5ffec50",
      "metadata": {
        "id": "ca58104d-45b9-49bb-838b-ff74a5ffec50"
      },
      "outputs": [],
      "source": [
        "y_val, y_train,\n",
        "X_train.shape,y_train.shape"
      ]
    },
    {
      "cell_type": "code",
      "execution_count": null,
      "id": "2c0fef78-c88a-47a0-9a5d-978a3d20e74e",
      "metadata": {
        "id": "2c0fef78-c88a-47a0-9a5d-978a3d20e74e"
      },
      "outputs": [],
      "source": [
        "class myCallback(tf.keras.callbacks.Callback):\n",
        "      def on_epoch_end(self, epoch, logs={}):\n",
        "        if(logs.get('val_accuracy')> 0.66 and logs.get('val_accuracy')> 0.72 ):\n",
        "              print(\"\\nAlcanzado el 85% de precisión, se cancela el entrenamiento!!\")\n",
        "              self.model.stop_training = True\n",
        "callbacks =myCallback()"
      ]
    },
    {
      "cell_type": "code",
      "execution_count": null,
      "id": "52b705cb-2e74-4b30-93f2-0617e6614189",
      "metadata": {
        "id": "52b705cb-2e74-4b30-93f2-0617e6614189"
      },
      "outputs": [],
      "source": [
        "### MODEL - 1 ######\n",
        "\n",
        "keras.backend.clear_session()\n",
        "tf.random.set_seed(51)\n",
        "np.random.seed(51)\n",
        "\n",
        "# with tf.compat.v1.Session() as sess0:\n",
        "model = keras.Sequential()\n",
        "\n",
        "\n",
        "input_shape=(X_train.shape[1],X_train.shape[2])\n",
        "# model.add(keras.layers.Conv1D(filters=32,kernel_size=5,strides=1,padding=\"causal\", activation=\"relu\",input_shape=input_shape)) model.add(keras.layers.Flatten(input_shape=(X_train.shape[1],X_train.shape[2],1))) #transforma la matriz de 28x28 en un vector\n",
        "# model.add(tf.keras.layers.Dropout(0.25))\n",
        "model.add(keras.layers.Flatten(input_shape=input_shape)) #transforma la matriz de 28x28 en un vector\n",
        "# model.add(keras.layers.BatchNormalization())\n",
        "model.add(Dense(128, activation='relu'))\n",
        "model.add(keras.layers.BatchNormalization())\n",
        "# model.add(tf.keras.layers.Dropout(0.25))\n",
        "\n",
        "model.add(keras.layers.Dense(128, activation='relu'))\n",
        "model.add(keras.layers.BatchNormalization())\n",
        "# model.add(tf.keras.layers.Dropout(0.25))\n",
        "\n",
        "model.add(keras.layers.Dense(128, activation='relu'))\n",
        "model.add(keras.layers.BatchNormalization())\n",
        "# model.add(tf.keras.layers.Dropout(0.25))\n",
        "\n",
        "\n",
        "# model.add(keras.layers.Dense(2, activation=\"softmax\"))\n",
        "model.add(keras.layers.Dense(2, activation=\"sigmoid\"))\n",
        "\n",
        "\n",
        "\n",
        "# model.add(Dense(60, activation='relu'))\n",
        "# model.add(Dense(60, activation='relu'))\n",
        "# model.add(Dense(2, activation='sigmoid'))\n",
        "model.summary()\n",
        "\n",
        "\n",
        "\n",
        "\n",
        "# model.compile(optimizer='adam',loss='SparseCategoricalCrossentropy',metrics=['acc'])\n",
        "# model.compile(loss = 'categorical_crossentropy',optimizer='adam',metrics=['accuracy'])\n",
        "# model.compile(loss = 'sparse_categorical_crossentropy',optimizer='adam',metrics=['accuracy'])\n",
        "model.compile(loss='binary_crossentropy', optimizer='adam', metrics=['accuracy'])\n",
        "# model.compile(optimizer='sgd',loss='binary_crossentropy',metrics=['accuracy'])\n",
        "# model.compile(optimizer='adam',loss='categorical_crossentropy',metrics=['accuracy'])\n",
        "\n",
        "\n"
      ]
    },
    {
      "cell_type": "code",
      "execution_count": null,
      "id": "78c9e446-3048-4f09-936d-93770a543914",
      "metadata": {
        "id": "78c9e446-3048-4f09-936d-93770a543914"
      },
      "outputs": [],
      "source": [
        "# model.save('model_javier_raw_cep_08_3sets_72per.keras')\n"
      ]
    },
    {
      "cell_type": "code",
      "execution_count": null,
      "id": "fc54b712-5f9c-473f-94b8-3189522e8043",
      "metadata": {
        "id": "fc54b712-5f9c-473f-94b8-3189522e8043"
      },
      "outputs": [],
      "source": [
        "class myCallback(tf.keras.callbacks.Callback):\n",
        "      def on_epoch_end(self, epoch, logs={}):\n",
        "        if(logs.get('val_accuracy')> 0.66 and logs.get('accuracy')> 0.72 ):\n",
        "              print(\"\\nAlcanzado el 85% de precisión, se cancela el entrenamiento!!\")\n",
        "              self.model.stop_training = True\n",
        "callbacks1 =myCallback()\n",
        "\n",
        "\n",
        "history = model.fit(X_train, y_train_cat, epochs=50, batch_size=16, validation_data=(X_val, y_val_cat), shuffle=True, callbacks=[callbacks1])\n",
        "\n",
        "\n",
        "y_pred = model.predict(X_val)\n",
        "y_pred2 = [np.argmax(i) for i in y_pred]\n",
        "y_val2=  [np.argmax(i) for i in y_val_cat]\n",
        "show_results(y_val,y_pred2)\n",
        "\n",
        "\n",
        "x_test = np.array(x_test_raw)\n",
        "y_test = np.array(y_test_raw)\n",
        "y_test_pred = model.predict(x_test)\n",
        "y_test_pred2 = [np.argmax(i) for i in y_test_pred]\n",
        "show_results(y_test,y_test_pred2)"
      ]
    },
    {
      "cell_type": "code",
      "execution_count": null,
      "id": "66911943-990e-4b57-b5a1-e9d129eeafa6",
      "metadata": {
        "id": "66911943-990e-4b57-b5a1-e9d129eeafa6"
      },
      "outputs": [],
      "source": []
    },
    {
      "cell_type": "code",
      "execution_count": null,
      "id": "a259e204-a146-4b47-9b5f-c5f7c042685c",
      "metadata": {
        "id": "a259e204-a146-4b47-9b5f-c5f7c042685c"
      },
      "outputs": [],
      "source": [
        " # model.save('model_javier_raw_cep_05.keras')\n"
      ]
    },
    {
      "cell_type": "code",
      "execution_count": null,
      "id": "8194aec1-115f-4f62-b206-2423175f0658",
      "metadata": {
        "id": "8194aec1-115f-4f62-b206-2423175f0658"
      },
      "outputs": [],
      "source": [
        "import tensorflow as tf\n",
        "import tensorflow.keras\n",
        "import tensorflow.keras.layers\n",
        "from tensorflow.keras.layers import LSTM, Dense, Flatten,Activation\n",
        "\n",
        "keras.backend.clear_session()\n",
        "tf.random.set_seed(51)\n",
        "np.random.seed(51)\n",
        "\n",
        "input_shape=(X_train.shape[1],X_train.shape[2])\n",
        "\n",
        "# with tf.compat.v1.Session() as sess0:\n",
        "# assert not tf.executing_eagerly()\n",
        "model = keras.Sequential()\n",
        "\n",
        "model.add(Dense(32, input_shape=input_shape, activation='tanh'))\n",
        "model.add(Flatten())\n",
        "model.add(Dense(64, activation='tanh'))\n",
        "model.add(keras.layers.BatchNormalization())\n",
        "\n",
        "model.add(Dense(128, activation='tanh'))\n",
        "model.add(keras.layers.BatchNormalization())\n",
        "\n",
        "model.add(Dense(128, activation='relu'))\n",
        "model.add(keras.layers.BatchNormalization())\n",
        "\n",
        "model.add(Dense(2))\n",
        "model.add(Activation('sigmoid'))\n",
        "\n",
        "model.compile(loss='categorical_crossentropy', optimizer='adam', metrics=['accuracy'])\n",
        "#Adam, an algorithm for first-order gradient-based optimization of stochastic objective functions, based on adaptive estimates of lower-order moments.\n",
        "model.summary()\n",
        "\n",
        "#  history = model.fit(x=X_train_array, y=y_train_array, epochs=5, verbose=1, validation_split = 0.33, shuffle=True, class_weight=get_class_weights(pd.Series((list(set(labels))),dtype='category').cat.codes.values),batch_size=batch_size)\n",
        "history = model.fit(x=X_train, y=y_train_cat, epochs=100, verbose=1, validation_split = 0.1, shuffle=True,batch_size=32,validation_data=(X_val, y_val_cat), callbacks=[callbacks])\n",
        "                    # class_weight=get_class_weights(pd.Series(Y_train,dtype='category').cat.codes.values),batch_size=128,validation_data=(X_val, y_val_cat), callbacks=[callbacks])\n",
        "\n",
        "\n",
        "# sess0.close()"
      ]
    },
    {
      "cell_type": "code",
      "execution_count": null,
      "id": "4a587ae3-5b89-4501-8b4c-ca0deec24a20",
      "metadata": {
        "id": "4a587ae3-5b89-4501-8b4c-ca0deec24a20"
      },
      "outputs": [],
      "source": [
        "history = model.fit(X_train, y_train_cat, epochs=100, batch_size=16, validation_data=(X_val, y_val_cat), shuffle=True, callbacks=[callbacks])\n",
        "                    # class_weight=get_class_weights(pd.Series(Y_train,dtype='category').cat.codes.values),batch_size=128,validation_data=(X_val, y_val_cat), callbacks=[callbacks])\n"
      ]
    },
    {
      "cell_type": "code",
      "execution_count": null,
      "id": "a697db0d-9d23-4ee1-ae63-499e64261077",
      "metadata": {
        "id": "a697db0d-9d23-4ee1-ae63-499e64261077",
        "outputId": "c8bcbac9-2507-49ac-910d-5d70b96cbe24"
      },
      "outputs": [
        {
          "data": {
            "text/plain": [
              "(99, 3, 12)"
            ]
          },
          "execution_count": 1277,
          "metadata": {},
          "output_type": "execute_result"
        }
      ],
      "source": [
        "X_train.shape"
      ]
    },
    {
      "cell_type": "code",
      "execution_count": null,
      "id": "6364b3bd-60c0-4a1e-8973-d26b1673745c",
      "metadata": {
        "id": "6364b3bd-60c0-4a1e-8973-d26b1673745c",
        "outputId": "e30a0cca-1233-4c50-b478-563fa473368b"
      },
      "outputs": [
        {
          "name": "stdout",
          "output_type": "stream",
          "text": [
            "(8, 24, 1)\n",
            "Model: \"sequential\"\n",
            "_________________________________________________________________\n",
            " Layer (type)                Output Shape              Param #   \n",
            "=================================================================\n",
            " conv2d (Conv2D)             (None, 7, 23, 32)         160       \n",
            "                                                                 \n",
            " conv2d_1 (Conv2D)           (None, 6, 22, 48)         6192      \n",
            "                                                                 \n",
            " conv2d_2 (Conv2D)           (None, 5, 21, 120)        23160     \n",
            "                                                                 \n",
            " max_pooling2d (MaxPooling2  (None, 3, 11, 120)        0         \n",
            " D)                                                              \n",
            "                                                                 \n",
            " dropout (Dropout)           (None, 3, 11, 120)        0         \n",
            "                                                                 \n",
            " flatten (Flatten)           (None, 3960)              0         \n",
            "                                                                 \n",
            " dense (Dense)               (None, 128)               507008    \n",
            "                                                                 \n",
            " dropout_1 (Dropout)         (None, 128)               0         \n",
            "                                                                 \n",
            " dense_1 (Dense)             (None, 64)                8256      \n",
            "                                                                 \n",
            " dropout_2 (Dropout)         (None, 64)                0         \n",
            "                                                                 \n",
            " dense_2 (Dense)             (None, 2)                 130       \n",
            "                                                                 \n",
            "=================================================================\n",
            "Total params: 544906 (2.08 MB)\n",
            "Trainable params: 544906 (2.08 MB)\n",
            "Non-trainable params: 0 (0.00 Byte)\n",
            "_________________________________________________________________\n"
          ]
        }
      ],
      "source": [
        "#CONSERVAR 68 EN TEST\n",
        "keras.backend.clear_session()\n",
        "tf.random.set_seed(51)\n",
        "np.random.seed(51)\n",
        "\n",
        "input_shape=(X_train.shape[1],X_train.shape[2],1)\n",
        "print(input_shape)\n",
        "\n",
        "model = keras.Sequential()\n",
        "\n",
        "model.add(keras.layers.Conv2D(32, kernel_size=(2, 2), activation='relu', input_shape=(input_shape)))\n",
        "model.add(keras.layers.Conv2D(48, kernel_size=(2, 2), activation='relu'))\n",
        "model.add(keras.layers.Conv2D(120, kernel_size=(2, 2), activation='relu'))\n",
        "model.add(keras.layers.MaxPooling2D(pool_size=(2, 2), padding='same'))\n",
        "model.add(keras.layers.Dropout(0.25))\n",
        "model.add(keras.layers.Flatten())\n",
        "model.add(Dense(128, activation='relu'))\n",
        "model.add(keras.layers.Dropout(0.25))\n",
        "\n",
        "model.add(Dense(64, activation='relu'))\n",
        "model.add(keras.layers.Dropout(0.4))\n",
        "# model.add(Dense(num_classes, activation='softmax'))\n",
        "model.add(keras.layers.Dense(2, activation=\"sigmoid\"))\n",
        "\n",
        "\n",
        "model.compile(loss='categorical_crossentropy', optimizer='adam', metrics=['accuracy'])\n",
        "#Adam, an algorithm for first-order gradient-based optimization of stochastic objective functions, based on adaptive estimates of lower-order moments.\n",
        "model.summary()"
      ]
    },
    {
      "cell_type": "code",
      "execution_count": null,
      "id": "018b5bd4-bf6c-4550-8caa-398bf390f142",
      "metadata": {
        "id": "018b5bd4-bf6c-4550-8caa-398bf390f142"
      },
      "outputs": [],
      "source": [
        "# X_train"
      ]
    },
    {
      "cell_type": "code",
      "execution_count": null,
      "id": "eac3f50c-4311-4da2-beaa-16666617210a",
      "metadata": {
        "id": "eac3f50c-4311-4da2-beaa-16666617210a",
        "outputId": "944bceba-70ea-4bcd-d51f-87cabb5fcd9a"
      },
      "outputs": [
        {
          "name": "stdout",
          "output_type": "stream",
          "text": [
            "Epoch 1/100\n",
            "6/6 [==============================] - 2s 66ms/step - loss: 0.9697 - accuracy: 0.5579 - val_loss: 0.7280 - val_accuracy: 0.5312\n",
            "Epoch 2/100\n",
            "6/6 [==============================] - 0s 29ms/step - loss: 0.9117 - accuracy: 0.5263 - val_loss: 0.7328 - val_accuracy: 0.5312\n",
            "Epoch 3/100\n",
            "6/6 [==============================] - 0s 27ms/step - loss: 0.7179 - accuracy: 0.6105 - val_loss: 0.6883 - val_accuracy: 0.5312\n",
            "Epoch 4/100\n",
            "6/6 [==============================] - 0s 26ms/step - loss: 0.6616 - accuracy: 0.6421 - val_loss: 0.6991 - val_accuracy: 0.5312\n",
            "Epoch 5/100\n",
            "6/6 [==============================] - 0s 28ms/step - loss: 0.6320 - accuracy: 0.6526 - val_loss: 0.7157 - val_accuracy: 0.5312\n",
            "Epoch 6/100\n",
            "6/6 [==============================] - 0s 26ms/step - loss: 0.6420 - accuracy: 0.6316 - val_loss: 0.7052 - val_accuracy: 0.5312\n",
            "Epoch 7/100\n",
            "6/6 [==============================] - 0s 26ms/step - loss: 0.6356 - accuracy: 0.6526 - val_loss: 0.6832 - val_accuracy: 0.4688\n",
            "Epoch 8/100\n",
            "6/6 [==============================] - 0s 28ms/step - loss: 0.5716 - accuracy: 0.6632 - val_loss: 0.7007 - val_accuracy: 0.5000\n",
            "Epoch 9/100\n",
            "6/6 [==============================] - 0s 28ms/step - loss: 0.5530 - accuracy: 0.7158 - val_loss: 0.7090 - val_accuracy: 0.5000\n",
            "Epoch 10/100\n",
            "6/6 [==============================] - 0s 29ms/step - loss: 0.5123 - accuracy: 0.7789 - val_loss: 0.7090 - val_accuracy: 0.3750\n",
            "Epoch 11/100\n",
            "6/6 [==============================] - 0s 28ms/step - loss: 0.3978 - accuracy: 0.8632 - val_loss: 0.8059 - val_accuracy: 0.4375\n",
            "Epoch 12/100\n",
            "6/6 [==============================] - 0s 26ms/step - loss: 0.3658 - accuracy: 0.8526 - val_loss: 0.8251 - val_accuracy: 0.3750\n",
            "Epoch 13/100\n",
            "6/6 [==============================] - 0s 28ms/step - loss: 0.2952 - accuracy: 0.8842 - val_loss: 0.8952 - val_accuracy: 0.3750\n",
            "Epoch 14/100\n",
            "6/6 [==============================] - 0s 28ms/step - loss: 0.2225 - accuracy: 0.9474 - val_loss: 1.2008 - val_accuracy: 0.4688\n",
            "Epoch 15/100\n",
            "6/6 [==============================] - 0s 28ms/step - loss: 0.1947 - accuracy: 0.9263 - val_loss: 1.0092 - val_accuracy: 0.4375\n",
            "Epoch 16/100\n",
            "6/6 [==============================] - 0s 27ms/step - loss: 0.1485 - accuracy: 0.9368 - val_loss: 1.3832 - val_accuracy: 0.5000\n",
            "Epoch 17/100\n",
            "6/6 [==============================] - 0s 28ms/step - loss: 0.1776 - accuracy: 0.9263 - val_loss: 1.1719 - val_accuracy: 0.3750\n",
            "Epoch 18/100\n",
            "6/6 [==============================] - 0s 26ms/step - loss: 0.1305 - accuracy: 0.9684 - val_loss: 1.1985 - val_accuracy: 0.3750\n",
            "Epoch 19/100\n",
            "6/6 [==============================] - 0s 25ms/step - loss: 0.0989 - accuracy: 0.9789 - val_loss: 1.3935 - val_accuracy: 0.3750\n",
            "Epoch 20/100\n",
            "6/6 [==============================] - 0s 30ms/step - loss: 0.0655 - accuracy: 0.9789 - val_loss: 1.7693 - val_accuracy: 0.3750\n",
            "Epoch 21/100\n",
            "6/6 [==============================] - 0s 32ms/step - loss: 0.0412 - accuracy: 1.0000 - val_loss: 1.6220 - val_accuracy: 0.3438\n",
            "Epoch 22/100\n",
            "6/6 [==============================] - 0s 49ms/step - loss: 0.0392 - accuracy: 1.0000 - val_loss: 1.7243 - val_accuracy: 0.3438\n",
            "Epoch 23/100\n",
            "6/6 [==============================] - 0s 34ms/step - loss: 0.0492 - accuracy: 0.9895 - val_loss: 1.6940 - val_accuracy: 0.4062\n",
            "Epoch 24/100\n",
            "6/6 [==============================] - 0s 30ms/step - loss: 0.0274 - accuracy: 1.0000 - val_loss: 1.6552 - val_accuracy: 0.5000\n",
            "Epoch 25/100\n",
            "6/6 [==============================] - 0s 30ms/step - loss: 0.0329 - accuracy: 0.9895 - val_loss: 1.7923 - val_accuracy: 0.4375\n",
            "Epoch 26/100\n",
            "6/6 [==============================] - 0s 32ms/step - loss: 0.0277 - accuracy: 0.9895 - val_loss: 1.8427 - val_accuracy: 0.4375\n",
            "Epoch 27/100\n",
            "6/6 [==============================] - 0s 30ms/step - loss: 0.0233 - accuracy: 1.0000 - val_loss: 2.0025 - val_accuracy: 0.3750\n",
            "Epoch 28/100\n",
            "6/6 [==============================] - 0s 31ms/step - loss: 0.0135 - accuracy: 1.0000 - val_loss: 2.1231 - val_accuracy: 0.3438\n",
            "Epoch 29/100\n",
            "6/6 [==============================] - 0s 31ms/step - loss: 0.0157 - accuracy: 1.0000 - val_loss: 2.1355 - val_accuracy: 0.4375\n",
            "Epoch 30/100\n",
            "6/6 [==============================] - 0s 29ms/step - loss: 0.0248 - accuracy: 1.0000 - val_loss: 2.3670 - val_accuracy: 0.3750\n",
            "Epoch 31/100\n",
            "6/6 [==============================] - 0s 32ms/step - loss: 0.0053 - accuracy: 1.0000 - val_loss: 2.5363 - val_accuracy: 0.4062\n",
            "Epoch 32/100\n",
            "6/6 [==============================] - 0s 31ms/step - loss: 0.0103 - accuracy: 1.0000 - val_loss: 2.4074 - val_accuracy: 0.4375\n",
            "Epoch 33/100\n",
            "6/6 [==============================] - 0s 30ms/step - loss: 0.0067 - accuracy: 1.0000 - val_loss: 2.4010 - val_accuracy: 0.5000\n",
            "Epoch 34/100\n",
            "6/6 [==============================] - 0s 35ms/step - loss: 0.0081 - accuracy: 1.0000 - val_loss: 2.5273 - val_accuracy: 0.4375\n",
            "Epoch 35/100\n",
            "6/6 [==============================] - 0s 33ms/step - loss: 0.0026 - accuracy: 1.0000 - val_loss: 2.7626 - val_accuracy: 0.3750\n",
            "Epoch 36/100\n",
            "6/6 [==============================] - 0s 28ms/step - loss: 0.0083 - accuracy: 1.0000 - val_loss: 2.8024 - val_accuracy: 0.3750\n",
            "Epoch 37/100\n",
            "6/6 [==============================] - 0s 33ms/step - loss: 0.0024 - accuracy: 1.0000 - val_loss: 2.7158 - val_accuracy: 0.4062\n",
            "Epoch 38/100\n",
            "6/6 [==============================] - 0s 30ms/step - loss: 0.0042 - accuracy: 1.0000 - val_loss: 2.8040 - val_accuracy: 0.4062\n",
            "Epoch 39/100\n",
            "6/6 [==============================] - 0s 33ms/step - loss: 0.0269 - accuracy: 0.9895 - val_loss: 2.4091 - val_accuracy: 0.4688\n",
            "Epoch 40/100\n",
            "6/6 [==============================] - 0s 32ms/step - loss: 0.0120 - accuracy: 1.0000 - val_loss: 2.6274 - val_accuracy: 0.3438\n",
            "Epoch 41/100\n",
            "6/6 [==============================] - 0s 30ms/step - loss: 0.0279 - accuracy: 0.9895 - val_loss: 2.7462 - val_accuracy: 0.3438\n",
            "Epoch 42/100\n",
            "6/6 [==============================] - 0s 32ms/step - loss: 0.0017 - accuracy: 1.0000 - val_loss: 2.4230 - val_accuracy: 0.4375\n",
            "Epoch 43/100\n",
            "6/6 [==============================] - 0s 32ms/step - loss: 0.0059 - accuracy: 1.0000 - val_loss: 2.4557 - val_accuracy: 0.4688\n",
            "Epoch 44/100\n",
            "6/6 [==============================] - 0s 33ms/step - loss: 0.0042 - accuracy: 1.0000 - val_loss: 2.7810 - val_accuracy: 0.3750\n",
            "Epoch 45/100\n",
            "6/6 [==============================] - 0s 33ms/step - loss: 0.0040 - accuracy: 1.0000 - val_loss: 3.0314 - val_accuracy: 0.3750\n",
            "Epoch 46/100\n",
            "6/6 [==============================] - 0s 30ms/step - loss: 0.0047 - accuracy: 1.0000 - val_loss: 3.3171 - val_accuracy: 0.3750\n",
            "Epoch 47/100\n",
            "6/6 [==============================] - 0s 31ms/step - loss: 0.0129 - accuracy: 0.9895 - val_loss: 2.6650 - val_accuracy: 0.4688\n",
            "Epoch 48/100\n",
            "4/6 [===================>..........] - ETA: 0s - loss: 0.0060 - accuracy: 1.0000\n",
            "Alcanzado el 85% de precisión, se cancela el entrenamiento!!\n",
            "6/6 [==============================] - 0s 32ms/step - loss: 0.0098 - accuracy: 1.0000 - val_loss: 2.5728 - val_accuracy: 0.5312\n",
            "1/1 [==============================] - 0s 120ms/step\n",
            "4/4 [==============================] - 0s 6ms/step\n"
          ]
        },
        {
          "data": {
            "image/png": "[encoded data removed]",
            "text/plain": [
              "<Figure size 200x200 with 2 Axes>"
            ]
          },
          "metadata": {},
          "output_type": "display_data"
        },
        {
          "name": "stdout",
          "output_type": "stream",
          "text": [
            "              precision    recall  f1-score   support\n",
            "\n",
            "           0       0.46      0.54      0.50        48\n",
            "           1       0.48      0.40      0.43        50\n",
            "\n",
            "    accuracy                           0.47        98\n",
            "   macro avg       0.47      0.47      0.47        98\n",
            "weighted avg       0.47      0.47      0.47        98\n",
            "\n"
          ]
        }
      ],
      "source": [
        "\n",
        "class myCallback(tf.keras.callbacks.Callback):\n",
        "      def on_epoch_end(self, epoch, logs={}):\n",
        "        if(logs.get('val_accuracy')> 0.53 and logs.get('accuracy')> 0.7 ):\n",
        "        # if( logs.get('accuracy')> 0.87 ):\n",
        "\n",
        "              print(\"\\nAlcanzado el 85% de precisión, se cancela el entrenamiento!!\")\n",
        "              self.model.stop_training = True\n",
        "callbacks2 =myCallback()\n",
        "\n",
        "\n",
        "history = model.fit(X_train, y_train_cat, epochs=100, batch_size=16, validation_data=(X_val, y_val_cat), shuffle=True, callbacks=[callbacks2])\n",
        "# history = model.fit(X_train, y_train_cat, epochs=100, batch_size=16, shuffle=True, callbacks=[callbacks2])\n",
        "\n",
        "\n",
        "y_pred = model.predict(X_val)\n",
        "y_pred2 = [np.argmax(i) for i in y_pred]\n",
        "y_val2=  [np.argmax(i) for i in y_val_cat]\n",
        "# show_results(y_val,y_pred2)\n",
        "\n",
        "\n",
        "x_test = np.array(x_test_raw)\n",
        "\n",
        "y_test = np.array(y_test_raw)\n",
        "y_test_pred = model.predict(x_test)\n",
        "y_test_pred2 = [np.argmax(i) for i in y_test_pred]\n",
        "show_results(y_test,y_test_pred2)"
      ]
    },
    {
      "cell_type": "code",
      "execution_count": null,
      "id": "edc82231-9697-45ad-92c4-26dfd6b30775",
      "metadata": {
        "id": "edc82231-9697-45ad-92c4-26dfd6b30775"
      },
      "outputs": [],
      "source": [
        "# model.save('model_javier_raw_cep_15_model2_500m_99acc_42val_63alltest.keras')\n"
      ]
    },
    {
      "cell_type": "code",
      "execution_count": null,
      "id": "70314b9f-4718-4a93-b450-b24ae5bd8c2a",
      "metadata": {
        "id": "70314b9f-4718-4a93-b450-b24ae5bd8c2a",
        "outputId": "ddf9b20c-58e1-4163-f8c7-7ae1f861e6c8"
      },
      "outputs": [
        {
          "name": "stdout",
          "output_type": "stream",
          "text": [
            "(6, 12, 1)\n",
            "Model: \"sequential\"\n",
            "_________________________________________________________________\n",
            " Layer (type)                Output Shape              Param #   \n",
            "=================================================================\n",
            " conv2d (Conv2D)             (None, 5, 11, 32)         160       \n",
            "                                                                 \n",
            " conv2d_1 (Conv2D)           (None, 4, 10, 48)         6192      \n",
            "                                                                 \n",
            " conv2d_2 (Conv2D)           (None, 3, 9, 120)         23160     \n",
            "                                                                 \n",
            " max_pooling2d (MaxPooling2  (None, 1, 4, 120)         0         \n",
            " D)                                                              \n",
            "                                                                 \n",
            " dropout (Dropout)           (None, 1, 4, 120)         0         \n",
            "                                                                 \n",
            " flatten (Flatten)           (None, 480)               0         \n",
            "                                                                 \n",
            " dense (Dense)               (None, 128)               61568     \n",
            "                                                                 \n",
            " dropout_1 (Dropout)         (None, 128)               0         \n",
            "                                                                 \n",
            " dense_1 (Dense)             (None, 64)                8256      \n",
            "                                                                 \n",
            " dropout_2 (Dropout)         (None, 64)                0         \n",
            "                                                                 \n",
            " dense_2 (Dense)             (None, 2)                 130       \n",
            "                                                                 \n",
            "=================================================================\n",
            "Total params: 99466 (388.54 KB)\n",
            "Trainable params: 99466 (388.54 KB)\n",
            "Non-trainable params: 0 (0.00 Byte)\n",
            "_________________________________________________________________\n"
          ]
        }
      ],
      "source": [
        "keras.backend.clear_session()\n",
        "tf.random.set_seed(51)\n",
        "np.random.seed(51)\n",
        "\n",
        "input_shape=(X_train.shape[1],X_train.shape[2],1)\n",
        "print(input_shape)\n",
        "\n",
        "# with tf.compat.v1.Session() as sess0:\n",
        "# assert not tf.executing_eagerly()\n",
        "model = keras.Sequential()\n",
        "\n",
        "model.add(keras.layers.Conv2D(32, kernel_size=(2, 2), activation='tanh', input_shape=(input_shape)))\n",
        "model.add(keras.layers.Conv2D(48, kernel_size=(2, 2), activation='tanh'))\n",
        "model.add(keras.layers.Conv2D(120, kernel_size=(2, 2), activation='tanh'))\n",
        "model.add(keras.layers.MaxPooling2D(pool_size=(2, 2)))\n",
        "model.add(keras.layers.Dropout(0.25))\n",
        "model.add(keras.layers.Flatten())\n",
        "model.add(Dense(128, activation='tanh'))\n",
        "model.add(keras.layers.Dropout(0.25))\n",
        "\n",
        "model.add(Dense(64, activation='tanh'))\n",
        "model.add(keras.layers.Dropout(0.4))\n",
        "# model.add(Dense(num_classes, activation='softmax'))\n",
        "model.add(keras.layers.Dense(2, activation=\"sigmoid\"))\n",
        "\n",
        "\n",
        "model.compile(loss='categorical_crossentropy', optimizer='adam', metrics=['accuracy'])\n",
        "#Adam, an algorithm for first-order gradient-based optimization of stochastic objective functions, based on adaptive estimates of lower-order moments.\n",
        "model.summary()"
      ]
    },
    {
      "cell_type": "code",
      "execution_count": null,
      "id": "f93ab795-6692-4690-8144-c15cc4cbc981",
      "metadata": {
        "id": "f93ab795-6692-4690-8144-c15cc4cbc981",
        "outputId": "80c791eb-7568-4baf-a23d-1af74d2e6222"
      },
      "outputs": [
        {
          "name": "stdout",
          "output_type": "stream",
          "text": [
            "Epoch 1/100\n",
            "7/7 [==============================] - 0s 21ms/step - loss: 0.0276 - accuracy: 0.9798 - val_loss: 4.7076 - val_accuracy: 0.3939\n",
            "Epoch 2/100\n",
            "7/7 [==============================] - 0s 13ms/step - loss: 0.3106 - accuracy: 0.9394 - val_loss: 4.0361 - val_accuracy: 0.4242\n",
            "Epoch 3/100\n",
            "7/7 [==============================] - 0s 14ms/step - loss: 0.1353 - accuracy: 0.9596 - val_loss: 2.3962 - val_accuracy: 0.5152\n",
            "Epoch 4/100\n",
            "7/7 [==============================] - 0s 14ms/step - loss: 0.1775 - accuracy: 0.9596 - val_loss: 1.9447 - val_accuracy: 0.4848\n",
            "Epoch 5/100\n",
            "7/7 [==============================] - 0s 15ms/step - loss: 0.0397 - accuracy: 0.9899 - val_loss: 1.8997 - val_accuracy: 0.4848\n",
            "Epoch 6/100\n",
            "7/7 [==============================] - 0s 14ms/step - loss: 0.0383 - accuracy: 0.9798 - val_loss: 1.6991 - val_accuracy: 0.5152\n",
            "Epoch 7/100\n",
            "7/7 [==============================] - 0s 16ms/step - loss: 0.0139 - accuracy: 1.0000 - val_loss: 1.9729 - val_accuracy: 0.4242\n",
            "Epoch 8/100\n",
            "7/7 [==============================] - 0s 16ms/step - loss: 0.0144 - accuracy: 1.0000 - val_loss: 2.0811 - val_accuracy: 0.4545\n",
            "Epoch 9/100\n",
            "1/7 [===>..........................] - ETA: 0s - loss: 0.0063 - accuracy: 1.0000\n",
            "Alcanzado el 85% de precisión, se cancela el entrenamiento!!\n",
            "7/7 [==============================] - 0s 14ms/step - loss: 0.0068 - accuracy: 1.0000 - val_loss: 2.1589 - val_accuracy: 0.6364\n",
            "2/2 [==============================] - 0s 4ms/step\n",
            "4/4 [==============================] - 0s 4ms/step\n"
          ]
        },
        {
          "data": {
            "image/png": "[encoded data removed]",
            "text/plain": [
              "<Figure size 200x200 with 2 Axes>"
            ]
          },
          "metadata": {},
          "output_type": "display_data"
        },
        {
          "name": "stdout",
          "output_type": "stream",
          "text": [
            "              precision    recall  f1-score   support\n",
            "\n",
            "           0       0.45      0.52      0.48        48\n",
            "           1       0.45      0.38      0.41        50\n",
            "\n",
            "    accuracy                           0.45        98\n",
            "   macro avg       0.45      0.45      0.45        98\n",
            "weighted avg       0.45      0.45      0.45        98\n",
            "\n"
          ]
        }
      ],
      "source": [
        "\n",
        "class myCallback(tf.keras.callbacks.Callback):\n",
        "      def on_epoch_end(self, epoch, logs={}):\n",
        "        if(logs.get('val_accuracy')> 0.6 and logs.get('accuracy')> 0.67 ):\n",
        "        # if( logs.get('accuracy')> 0.87 ):\n",
        "\n",
        "              print(\"\\nAlcanzado el 85% de precisión, se cancela el entrenamiento!!\")\n",
        "              self.model.stop_training = True\n",
        "callbacks3 =myCallback()\n",
        "\n",
        "\n",
        "history = model.fit(X_train, y_train_cat, epochs=100, batch_size=16, validation_data=(X_val, y_val_cat), shuffle=True, callbacks=[callbacks3])\n",
        "\n",
        "\n",
        "y_pred = model.predict(X_val)\n",
        "y_pred2 = [np.argmax(i) for i in y_pred]\n",
        "y_val2=  [np.argmax(i) for i in y_val_cat]\n",
        "# show_results(y_val,y_pred2)\n",
        "\n",
        "\n",
        "x_test = np.array(x_test_raw)\n",
        "y_test = np.array(y_test_raw)\n",
        "y_test_pred = model.predict(x_test)\n",
        "y_test_pred2 = [np.argmax(i) for i in y_test_pred]\n",
        "show_results(y_test,y_test_pred2)"
      ]
    },
    {
      "cell_type": "code",
      "execution_count": null,
      "id": "c106c0f0-1b35-4bd9-9523-71fce6bab662",
      "metadata": {
        "id": "c106c0f0-1b35-4bd9-9523-71fce6bab662"
      },
      "outputs": [],
      "source": []
    },
    {
      "cell_type": "code",
      "execution_count": null,
      "id": "a5084e05-d05d-4d89-8d6d-bf1bc8df2f29",
      "metadata": {
        "id": "a5084e05-d05d-4d89-8d6d-bf1bc8df2f29",
        "outputId": "988b707f-275f-4f6c-e760-3478bb9e2f6c"
      },
      "outputs": [
        {
          "data": {
            "text/plain": [
              "(99, 1)"
            ]
          },
          "execution_count": 1463,
          "metadata": {},
          "output_type": "execute_result"
        }
      ],
      "source": [
        "y_train.shape"
      ]
    },
    {
      "cell_type": "code",
      "execution_count": null,
      "id": "59019708-ec56-42e2-8965-98244ac92e22",
      "metadata": {
        "id": "59019708-ec56-42e2-8965-98244ac92e22",
        "outputId": "edff0c5b-7065-40fb-a5c4-c682c27e6130"
      },
      "outputs": [
        {
          "data": {
            "text/plain": [
              "(127, 8, 12)"
            ]
          },
          "execution_count": 1657,
          "metadata": {},
          "output_type": "execute_result"
        }
      ],
      "source": [
        "X.shape\n"
      ]
    },
    {
      "cell_type": "code",
      "execution_count": null,
      "id": "89cd8b35-5a8a-4abc-9827-6bbc7ee56b6c",
      "metadata": {
        "id": "89cd8b35-5a8a-4abc-9827-6bbc7ee56b6c",
        "outputId": "40df7aa7-9201-47ea-dadb-f9d9b1af51c4"
      },
      "outputs": [
        {
          "name": "stdout",
          "output_type": "stream",
          "text": [
            "(1016, 12)\n",
            "0.5522959183673469\n"
          ]
        }
      ],
      "source": [
        "x_flat =[]\n",
        "y_flat =[]\n",
        "# x_flat =np.array\n",
        "# y_flat =np.array\n",
        "def get_flat(X1,Y1):\n",
        "    x_flat =[]\n",
        "    y_flat =[]\n",
        "    # x_flat =np.array\n",
        "    # y_flat =np.array\n",
        "    # print(str(len(X1)))\n",
        "    for idx, itx in enumerate(X1):\n",
        "    # for idx in range(0, len(X1), 2):\n",
        "        # print(idx)\n",
        "        # itx= X1[idx]\n",
        "        # x = []\n",
        "        for idy, ity in enumerate(X1[idx]):\n",
        "            x = []\n",
        "            # x.append(idx)\n",
        "            # x.append(idy)\n",
        "\n",
        "            for idz, itz in enumerate(X1[idx][idy]):\n",
        "                x.append(itz)\n",
        "\n",
        "        # if (len(x)>14):\n",
        "        #     print(\"len big:\" + str(itx))\n",
        "            x_flat.append(x)\n",
        "            y_flat.append(Y1[idx])\n",
        "\n",
        "    x_flat = pd.DataFrame(x_flat)\n",
        "    scaler = StandardScaler()\n",
        "    x_flat = DataFrame(scaler.fit_transform(x_flat))\n",
        "    y_flat = pd.DataFrame(y_flat)\n",
        "    return x_flat,y_flat\n",
        "\n",
        "\n",
        "# for idx, itx in enumerate(X):\n",
        "#     for idy, ity in enumerate(X[idx]):\n",
        "#         x = []\n",
        "#         x.append(idx)\n",
        "#         x.append(idy)\n",
        "#         for idz, itz in enumerate(X[idx][idy]):\n",
        "#             x.append(itz)\n",
        "#         if (len(x)>14):\n",
        "#             print(\"len big:\" + str(itx))\n",
        "#         x_flat.append(x)\n",
        "#         y_flat.append(y[idx])\n",
        "\n",
        "# x_flat = pd.DataFrame(x_flat)\n",
        "# y_flat = pd.DataFrame(y_flat)\n",
        "\n",
        "\n",
        "# X_train_flat, X_test_flat, y_train_flat, y_test_flat = train_test_split(x_flat, y_flat, test_size=0.25)\n",
        "# X_train_flat.shape, y_train_flat.shape\n",
        "\n",
        "\n",
        "X_train_flat,y_train_flat = get_flat(X,y)\n",
        "X_test_flat, y_test_flat = get_flat(x_test,y_test)\n",
        "\n",
        "print(X_train_flat.shape)\n",
        "from sklearn.preprocessing import MinMaxScaler\n",
        "from pandas import DataFrame\n",
        "from sklearn.preprocessing import StandardScaler\n",
        "\n",
        "# scaler = StandardScaler()\n",
        "# x_flat = DataFrame(scaler.fit_transform(x_flat))\n",
        "\n",
        "# X_test = DataFrame(scaler.fit_transform(X_test))\n",
        "# x_flat\n",
        "\n",
        "from sklearn.svm import SVC\n",
        "\n",
        "# defatul: C=1, gamma=scale, kernel=rbf\n",
        "\n",
        "\n",
        "model_svc = SVC()\n",
        "# model = SVC(C=0.1, kernel='rbf', gamma='scale') #jav 53\n",
        "# model_svc = SVC(C=100, kernel='linear')\n",
        "model_svc = SVC(C=0.3, kernel='sigmoid') #jav 55\n",
        "# model_svc = SVC(C=2, kernel='sigmoid') #silv 57\n",
        "# model_svc = SVC(C=10, kernel='linear')\n",
        "\n",
        "model_svc.fit(X_train_flat, y_train_flat)\n",
        "score = model_svc.score(X_test_flat, y_test_flat)\n",
        "\n",
        "print(score)\n"
      ]
    },
    {
      "cell_type": "code",
      "execution_count": null,
      "id": "c6914b21-c4f0-4732-ae87-d498d182fc4a",
      "metadata": {
        "id": "c6914b21-c4f0-4732-ae87-d498d182fc4a"
      },
      "outputs": [],
      "source": [
        "# X_train_flat"
      ]
    },
    {
      "cell_type": "code",
      "execution_count": null,
      "id": "d36e3917-5024-4e7a-ad58-7563373ada90",
      "metadata": {
        "id": "d36e3917-5024-4e7a-ad58-7563373ada90",
        "outputId": "e42af3ea-fa87-4599-a37e-2aca658c2d23"
      },
      "outputs": [
        {
          "data": {
            "text/plain": [
              "['model_silvia_raw_cep_svc_03_4ses_alltest70.svc']"
            ]
          },
          "execution_count": 608,
          "metadata": {},
          "output_type": "execute_result"
        }
      ],
      "source": []
    },
    {
      "cell_type": "code",
      "execution_count": null,
      "id": "1f61d61c-6acb-4f13-9783-d1cd78514874",
      "metadata": {
        "id": "1f61d61c-6acb-4f13-9783-d1cd78514874",
        "outputId": "77be457b-9eef-4b02-be08-1d0fc6f34ee1"
      },
      "outputs": [
        {
          "data": {
            "image/png": "[encoded data removed]",
            "text/plain": [
              "<Figure size 200x200 with 2 Axes>"
            ]
          },
          "metadata": {},
          "output_type": "display_data"
        },
        {
          "name": "stdout",
          "output_type": "stream",
          "text": [
            "              precision    recall  f1-score   support\n",
            "\n",
            "           0       0.84      0.78      0.81       157\n",
            "           1       0.76      0.82      0.79       133\n",
            "\n",
            "    accuracy                           0.80       290\n",
            "   macro avg       0.80      0.80      0.80       290\n",
            "weighted avg       0.80      0.80      0.80       290\n",
            "\n"
          ]
        }
      ],
      "source": [
        "pred = model_svc.predict(X_test_flat)\n",
        "show_results(y_test_flat,pred)\n",
        "# print(confusion_matrix(X_test_flat,pred))"
      ]
    },
    {
      "cell_type": "code",
      "execution_count": null,
      "id": "b2fdc0ec-1322-447a-b383-57fa715c5ad5",
      "metadata": {
        "id": "b2fdc0ec-1322-447a-b383-57fa715c5ad5",
        "outputId": "fdd67a69-3661-4de8-88dc-310877a4f196"
      },
      "outputs": [
        {
          "data": {
            "text/plain": [
              "['model_javier_raw_cep_svc_sigmoid03_alltest55.svc']"
            ]
          },
          "execution_count": 1710,
          "metadata": {},
          "output_type": "execute_result"
        }
      ],
      "source": [
        "from joblib import dump, load\n",
        "dump(model_svc, 'model_javier_raw_cep_svc_sigmoid03_alltest55.svc')\n",
        "# dump(model_svc, 'model_silvia_raw_cep_svc_13_sigmoid2_alltestbal57.svc')\n",
        "# model_svc.save('model_javier_raw_cep_svc.svc')\n",
        "# model_svc = load('model_silvia_raw_cep_svc_09_4ses_alltestbal74.svc')"
      ]
    },
    {
      "cell_type": "code",
      "execution_count": null,
      "id": "d2f8b686-4787-441b-9f64-358530267ac5",
      "metadata": {
        "id": "d2f8b686-4787-441b-9f64-358530267ac5",
        "outputId": "db471842-e9de-4832-c50b-4c0f896a9fb1"
      },
      "outputs": [
        {
          "data": {
            "image/png": "[encoded data removed]",
            "text/plain": [
              "<Figure size 200x200 with 2 Axes>"
            ]
          },
          "metadata": {},
          "output_type": "display_data"
        },
        {
          "name": "stdout",
          "output_type": "stream",
          "text": [
            "              precision    recall  f1-score   support\n",
            "\n",
            "           0       0.54      0.59      0.56       384\n",
            "           1       0.57      0.52      0.54       400\n",
            "\n",
            "    accuracy                           0.55       784\n",
            "   macro avg       0.55      0.55      0.55       784\n",
            "weighted avg       0.55      0.55      0.55       784\n",
            "\n"
          ]
        }
      ],
      "source": [
        "# model_svc = load('model_silvia_raw_cep_svc_13_sigmoid2_alltestbal57.svc')\n",
        "model_svc = load('model_javier_raw_cep_svc_sigmoid03_alltest55.svc')\n",
        "\n",
        "pred = model_svc.predict(X_test_flat)\n",
        "show_results(y_test_flat,pred)"
      ]
    },
    {
      "cell_type": "code",
      "execution_count": null,
      "id": "5cd01030-a036-450d-8dd0-c2175733fe64",
      "metadata": {
        "id": "5cd01030-a036-450d-8dd0-c2175733fe64",
        "outputId": "471f3b32-9f95-44e0-eac8-b49b87f0d077"
      },
      "outputs": [
        {
          "name": "stdout",
          "output_type": "stream",
          "text": [
            "4/4 [==============================] - 0s 5ms/step\n"
          ]
        },
        {
          "data": {
            "image/png": "[encoded data removed]",
            "text/plain": [
              "<Figure size 200x200 with 2 Axes>"
            ]
          },
          "metadata": {},
          "output_type": "display_data"
        },
        {
          "name": "stdout",
          "output_type": "stream",
          "text": [
            "              precision    recall  f1-score   support\n",
            "\n",
            "           0       0.68      0.67      0.67        48\n",
            "           1       0.69      0.70      0.69        50\n",
            "\n",
            "    accuracy                           0.68        98\n",
            "   macro avg       0.68      0.68      0.68        98\n",
            "weighted avg       0.68      0.68      0.68        98\n",
            "\n"
          ]
        }
      ],
      "source": [
        "keras.backend.clear_session()\n",
        "tf.random.set_seed(51)\n",
        "np.random.seed(51)\n",
        "# model = keras.models.load_model('model_silvia_raw_cep_05_model2_4ses_99acc_91val_66alltest.keras')\n",
        "# model = keras.models.load_model('model_silvia_raw_cep_02_model2_97acc_73val_74alltest.keras')\n",
        "model = keras.models.load_model('model_javier_raw_cep_10_68alltest.keras')\n",
        "y_test_pred2 = [np.argmax(i) for i in model.predict(x_test)]\n",
        "show_results(y_test,y_test_pred2)"
      ]
    },
    {
      "cell_type": "code",
      "execution_count": null,
      "id": "5fb46f06-b0f1-4e23-92ad-76ae0a879f2b",
      "metadata": {
        "id": "5fb46f06-b0f1-4e23-92ad-76ae0a879f2b"
      },
      "outputs": [],
      "source": []
    },
    {
      "cell_type": "code",
      "execution_count": null,
      "id": "5e5e41db-0230-495a-ba94-f2944271031f",
      "metadata": {
        "id": "5e5e41db-0230-495a-ba94-f2944271031f"
      },
      "outputs": [],
      "source": []
    },
    {
      "cell_type": "code",
      "execution_count": null,
      "id": "c2cc8cbc-e898-4660-9d1d-0aa69c77a7c5",
      "metadata": {
        "id": "c2cc8cbc-e898-4660-9d1d-0aa69c77a7c5"
      },
      "outputs": [],
      "source": []
    },
    {
      "cell_type": "code",
      "execution_count": null,
      "id": "773a6546-93fe-4208-8e00-380a43db18f1",
      "metadata": {
        "id": "773a6546-93fe-4208-8e00-380a43db18f1"
      },
      "outputs": [],
      "source": []
    },
    {
      "cell_type": "code",
      "execution_count": null,
      "id": "76fdb72c-7377-404f-97c3-053d961826d0",
      "metadata": {
        "id": "76fdb72c-7377-404f-97c3-053d961826d0",
        "outputId": "5ff31a79-484c-436b-f211-6e56c13b9e30"
      },
      "outputs": [
        {
          "name": "stdout",
          "output_type": "stream",
          "text": [
            "(None, 8, 12, 1) <dtype: 'float32'>\n",
            "(None, 2) <dtype: 'float32'>\n",
            "conv2d (None, 8, 12, 1) float32\n",
            "conv2d_1 (None, 7, 11, 32) float32\n",
            "conv2d_2 (None, 6, 10, 48) float32\n",
            "max_pooling2d (None, 5, 9, 120) float32\n",
            "dropout (None, 2, 4, 120) float32\n",
            "flatten (None, 2, 4, 120) float32\n",
            "dense (None, 960) float32\n",
            "dropout_1 (None, 128) float32\n",
            "dense_1 (None, 128) float32\n",
            "dropout_2 (None, 64) float32\n",
            "dense_2 (None, 64) float32\n",
            "4/4 [==============================] - 0s 4ms/step\n"
          ]
        },
        {
          "data": {
            "image/png": "[encoded data removed]",
            "text/plain": [
              "<Figure size 200x200 with 2 Axes>"
            ]
          },
          "metadata": {},
          "output_type": "display_data"
        },
        {
          "name": "stdout",
          "output_type": "stream",
          "text": [
            "              precision    recall  f1-score   support\n",
            "\n",
            "           0       0.68      0.67      0.67        48\n",
            "           1       0.69      0.70      0.69        50\n",
            "\n",
            "    accuracy                           0.68        98\n",
            "   macro avg       0.68      0.68      0.68        98\n",
            "weighted avg       0.68      0.68      0.68        98\n",
            "\n"
          ]
        }
      ],
      "source": [
        "# model = keras.models.load_model('model_javier_raw_cep_10_68alltest.keras')\n",
        "\n",
        "[print(i.shape, i.dtype) for i in model.inputs]\n",
        "[print(o.shape, o.dtype) for o in model.outputs]\n",
        "[print(l.name, l.input_shape, l.dtype) for l in model.layers]\n",
        "\n",
        "x_test_norm = x_test\n",
        "# x_test_norm = np.array((x_test_norm-np.min(x_test_norm))/(np.max(x_test_norm)-np.min(x_test_norm)))\n",
        "# x_test_norm = x_test_norm/np.std(x_test_norm)\n",
        "\n",
        "\n",
        "# x_test.shape\n",
        "y_test_pred = model.predict(x_test_norm)\n",
        "\n",
        "y_test_pred2 = [np.argmax(i) for i in y_test_pred]\n",
        "show_results(y_test,y_test_pred2)"
      ]
    }
  ],
  "metadata": {
    "kernelspec": {
      "display_name": "Python 3 (ipykernel)",
      "language": "python",
      "name": "python3"
    },
    "language_info": {
      "codemirror_mode": {
        "name": "ipython",
        "version": 3
      },
      "file_extension": ".py",
      "mimetype": "text/x-python",
      "name": "python",
      "nbconvert_exporter": "python",
      "pygments_lexer": "ipython3",
      "version": "3.9.13"
    },
    "colab": {
      "provenance": []
    }
  },
  "nbformat": 4,
  "nbformat_minor": 5
}