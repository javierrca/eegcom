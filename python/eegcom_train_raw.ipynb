{
  "cells": [
    {
      "cell_type": "code",
      "execution_count": 6,
      "id": "de275c24-3b61-45b0-a807-3d4a8b8fa233",
      "metadata": {
        "id": "de275c24-3b61-45b0-a807-3d4a8b8fa233",
        "colab": {
          "base_uri": "https://localhost:8080/"
        },
        "outputId": "233f7591-f1ba-49dd-a53c-76d80a7071f1"
      },
      "outputs": [
        {
          "output_type": "stream",
          "name": "stdout",
          "text": [
            "Collecting python_speech_features\n",
            "  Downloading python_speech_features-0.6.tar.gz (5.6 kB)\n",
            "  Preparing metadata (setup.py) ... \u001b[?25l\u001b[?25hdone\n",
            "Building wheels for collected packages: python_speech_features\n",
            "  Building wheel for python_speech_features (setup.py) ... \u001b[?25l\u001b[?25hdone\n",
            "  Created wheel for python_speech_features: filename=python_speech_features-0.6-py3-none-any.whl size=5870 sha256=fb452ae2d80448f18a20cb1f04ac2c17fb51ce0d27dba4677dfa35430f27bf48\n",
            "  Stored in directory: /root/.cache/pip/wheels/5a/9e/68/30bad9462b3926c29e315df16b562216d12bdc215f4d240294\n",
            "Successfully built python_speech_features\n",
            "Installing collected packages: python_speech_features\n",
            "Successfully installed python_speech_features-0.6\n"
          ]
        }
      ],
      "source": [
        "import pandas as pd\n",
        "import keras as keras\n",
        "import os\n",
        "import librosa\n",
        "import librosa.display\n",
        "import matplotlib.pyplot as plt\n",
        "from sklearn.model_selection import train_test_split\n",
        "from sklearn.preprocessing import normalize\n",
        "import warnings\n",
        "warnings.filterwarnings('ignore')\n",
        "from sklearn.model_selection import train_test_split\n",
        "import tensorflow\n",
        "from tensorflow.keras.layers import LSTM, Dense\n",
        "import tensorflow as tf\n",
        "import glob\n",
        "import numpy as np\n",
        "import matplotlib.pyplot as plt\n",
        "import csv\n",
        "!pip install python_speech_features\n"
      ]
    },
    {
      "cell_type": "code",
      "source": [
        "# from google.colab import drive\n",
        "# drive.mount('/content/drive')\n",
        "# !cd '/content/drive/MyDrive/OKN/Master IA/Master IA/TFM/mindwave/FASE3' && pwd\n",
        "# prefix= '/drive/MyDrive/OKN/Master IA/Master IA/TFM/mindwave/FASE3'\n"
      ],
      "metadata": {
        "colab": {
          "base_uri": "https://localhost:8080/"
        },
        "id": "YfQ12gRGf-wz",
        "outputId": "aafb855b-7729-46cc-fcd9-8752925aa6ed"
      },
      "id": "YfQ12gRGf-wz",
      "execution_count": null,
      "outputs": [
        {
          "output_type": "stream",
          "name": "stdout",
          "text": [
            "Mounted at /content/drive\n",
            "/content/drive/MyDrive/OKN/Master IA/Master IA/TFM/mindwave/FASE3\n"
          ]
        }
      ]
    },
    {
      "cell_type": "code",
      "source": [
        "import glob\n",
        "!git clone https://github.com/javierrca/eegcom.git\n"
      ],
      "metadata": {
        "colab": {
          "base_uri": "https://localhost:8080/"
        },
        "id": "VjK-9fSkavgJ",
        "outputId": "acbe54b9-bbee-4f2e-ab81-84634f343c98"
      },
      "id": "VjK-9fSkavgJ",
      "execution_count": 2,
      "outputs": [
        {
          "output_type": "stream",
          "name": "stdout",
          "text": [
            "Cloning into 'eegcom'...\n",
            "remote: Enumerating objects: 1666, done.\u001b[K\n",
            "remote: Counting objects: 100% (1666/1666), done.\u001b[K\n",
            "remote: Compressing objects: 100% (1549/1549), done.\u001b[K\n",
            "remote: Total 1666 (delta 87), reused 1658 (delta 82), pack-reused 0\u001b[K\n",
            "Receiving objects: 100% (1666/1666), 14.12 MiB | 7.47 MiB/s, done.\n",
            "Resolving deltas: 100% (87/87), done.\n",
            "Filtering content: 100% (11/11), 1.40 GiB | 48.00 MiB/s, done.\n"
          ]
        }
      ]
    },
    {
      "cell_type": "code",
      "source": [
        "ds_path = \"/content/eegcom/dataset\"\n",
        "person_code = \"01\"\n",
        "base_path = ds_path + \"/\" + person_code\n",
        "print('\\nNamed with wildcard *:')\n",
        "paths=[]\n",
        "for name in glob.glob(base_path+'/*',recursive = True):\n",
        "  paths.append(name+\"/\")\n",
        "\n",
        "print(paths)\n",
        "\n",
        "!cd paths[0] && ls -l"
      ],
      "metadata": {
        "colab": {
          "base_uri": "https://localhost:8080/"
        },
        "id": "qX9mV96WawV0",
        "outputId": "9ecc1fe8-0bea-42c7-f39f-27dceb9e5744"
      },
      "id": "qX9mV96WawV0",
      "execution_count": 3,
      "outputs": [
        {
          "output_type": "stream",
          "name": "stdout",
          "text": [
            "\n",
            "Named with wildcard *:\n",
            "['/content/eegcom/dataset/01/ses12/', '/content/eegcom/dataset/01/ses21/', '/content/eegcom/dataset/01/ses05/', '/content/eegcom/dataset/01/ses20/', '/content/eegcom/dataset/01/ses13/', '/content/eegcom/dataset/01/ses01/', '/content/eegcom/dataset/01/ses10/', '/content/eegcom/dataset/01/ses22/', '/content/eegcom/dataset/01/ses14/', '/content/eegcom/dataset/01/ses15/', '/content/eegcom/dataset/01/ses08/', '/content/eegcom/dataset/01/ses03/', '/content/eegcom/dataset/01/ses02/', '/content/eegcom/dataset/01/ses17/', '/content/eegcom/dataset/01/ses18/', '/content/eegcom/dataset/01/ses04/', '/content/eegcom/dataset/01/ses11/', '/content/eegcom/dataset/01/ses16/', '/content/eegcom/dataset/01/ses07/', '/content/eegcom/dataset/01/ses19/', '/content/eegcom/dataset/01/ses06/', '/content/eegcom/dataset/01/ses23/', '/content/eegcom/dataset/01/ses09/']\n",
            "/bin/bash: line 1: cd: paths[0]: No such file or directory\n"
          ]
        }
      ]
    },
    {
      "cell_type": "markdown",
      "source": [
        "# Dataset RAW"
      ],
      "metadata": {
        "id": "_yPN31ZC1050"
      },
      "id": "_yPN31ZC1050"
    },
    {
      "cell_type": "code",
      "execution_count": 10,
      "id": "8526fc1b-74bd-41b6-b2f3-46c79d24040b",
      "metadata": {
        "colab": {
          "base_uri": "https://localhost:8080/"
        },
        "id": "8526fc1b-74bd-41b6-b2f3-46c79d24040b",
        "outputId": "23074be4-ef5e-45e8-c398-28d8aaddc73c"
      },
      "outputs": [
        {
          "output_type": "execute_result",
          "data": {
            "text/plain": [
              "((225, 1000, 1), (225, 1))"
            ]
          },
          "metadata": {},
          "execution_count": 10
        }
      ],
      "source": [
        "from sklearn.metrics import confusion_matrix, classification_report\n",
        "import seaborn as sns\n",
        "\n",
        "def getRaw(paths):\n",
        "    dfRaw = []\n",
        "    X_raw_train = []\n",
        "    y_raw_train =[]\n",
        "    filter=[]\n",
        "    filterLastRows = 1000\n",
        "\n",
        "    i=0\n",
        "    # print (paths)\n",
        "    for path in paths:\n",
        "        dfHead = pd.read_csv(path + 'head.csv')\n",
        "        all_raw_files = glob.glob(os.path.join(path , \"*RAW*.csv\"))\n",
        "\n",
        "        for filename in all_raw_files:\n",
        "            dfRaw = pd.read_csv(filename, index_col=None, header=0)\n",
        "            if len(dfRaw)>filterLastRows:\n",
        "                qCode = dfRaw['questionCode'].iloc[[0]][0]\n",
        "                X = np.array(dfRaw.tail(filterLastRows)['rawEeg'])\n",
        "                samples = list()\n",
        "                length = 1000\n",
        "                for j in range(0,filterLastRows,length):\n",
        "                    sample = X[j:j+length]\n",
        "                    samples.append(sample)\n",
        "\n",
        "                for ids, X in enumerate(samples):\n",
        "                    X_raw_train.append([])\n",
        "                    for idx, it in enumerate(X):\n",
        "                        X_raw_train[i].append([])\n",
        "                        X_raw_train[i][idx].append([])\n",
        "                        X_raw_train[i][idx][0] = X[idx]\n",
        "                    y_raw_train.append([])\n",
        "                    y_raw_train[i].append([])\n",
        "                    y_raw_train[i][0] = dfHead[dfHead['questionCode']==qCode].iloc[0]['response']\n",
        "                    i=i+1\n",
        "\n",
        "    return X_raw_train,y_raw_train\n",
        "\n",
        "\n",
        "\n",
        "def get_accuraccy(y_test, pred_y):\n",
        "    conf_matrix = confusion_matrix(y_test,pred_y)\n",
        "    a = conf_matrix[0][0] / (conf_matrix[0][0] + conf_matrix[0][1])\n",
        "    b = conf_matrix[1][1] / (conf_matrix[1][0] + conf_matrix[1][1])\n",
        "    acc = (a + b)/2\n",
        "    print (\"calc accuracy : \" + str(acc))\n",
        "    return acc\n",
        "\n",
        "def show_results(y_test, pred_y):\n",
        "    conf_matrix = confusion_matrix(y_test,pred_y)\n",
        "    plt.figure(figsize=(2,2))\n",
        "    labels = ['0: No', '1: Si']\n",
        "    sns.heatmap(conf_matrix, xticklabels=labels, yticklabels=labels, annot=True, fmt='d')\n",
        "    plt.title('Confusion matrix')\n",
        "    plt.ylabel('True class')\n",
        "    plt.xlabel('Predicted class')\n",
        "    plt.show()\n",
        "    print(conf_matrix)\n",
        "    print(classification_report(y_test,pred_y))\n",
        "    return\n",
        "\n",
        "X_raw_train = []\n",
        "y_raw_train =[]\n",
        "X_raw_train,y_raw_train= getRaw(paths)\n",
        "X = np.array(X_raw_train)\n",
        "y = np.array(y_raw_train)\n",
        "X.shape, y.shape\n"
      ]
    },
    {
      "cell_type": "code",
      "execution_count": 11,
      "id": "8176e63e-bc31-46ca-9add-1b7944df3840",
      "metadata": {
        "colab": {
          "base_uri": "https://localhost:8080/"
        },
        "id": "8176e63e-bc31-46ca-9add-1b7944df3840",
        "outputId": "ae97aaac-d4cc-45ea-ffd7-e301450e0970"
      },
      "outputs": [
        {
          "output_type": "execute_result",
          "data": {
            "text/plain": [
              "((135, 1000, 1), (135, 1), (45, 1000, 1), (45, 1), (45, 1000, 1), (45, 1))"
            ]
          },
          "metadata": {},
          "execution_count": 11
        }
      ],
      "source": [
        "\n",
        "X_train, X_test, y_train, y_test = train_test_split(X, y, test_size=0.2)\n",
        "X_train, X_val, y_train, y_val  = train_test_split(X_train, y_train, test_size=0.25) # 0.25 x 0.8 = 0.2\n",
        "\n",
        "\n",
        "y_val_cat =keras.utils.to_categorical(y_val,2)\n",
        "y_train_cat =keras.utils.to_categorical(y_train,2)\n",
        "y_test_cat =keras.utils.to_categorical(y_test,2)\n",
        "\n",
        "X_train.shape, y_train.shape,X_test.shape,y_test.shape,X_val.shape, y_val.shape\n"
      ]
    },
    {
      "cell_type": "markdown",
      "source": [
        "# Modelo RAW/LSTM"
      ],
      "metadata": {
        "id": "4Rv76sZ51e-W"
      },
      "id": "4Rv76sZ51e-W"
    },
    {
      "cell_type": "code",
      "execution_count": 13,
      "id": "52b705cb-2e74-4b30-93f2-0617e6614189",
      "metadata": {
        "colab": {
          "base_uri": "https://localhost:8080/",
          "height": 1000
        },
        "id": "52b705cb-2e74-4b30-93f2-0617e6614189",
        "outputId": "b557b4b8-a65f-4d0c-a2e8-ec3d61033666"
      },
      "outputs": [
        {
          "output_type": "stream",
          "name": "stdout",
          "text": [
            "Model: \"sequential\"\n",
            "_________________________________________________________________\n",
            " Layer (type)                Output Shape              Param #   \n",
            "=================================================================\n",
            " lstm (LSTM)                 (None, 1000, 64)          16896     \n",
            "                                                                 \n",
            " lstm_1 (LSTM)               (None, 64)                33024     \n",
            "                                                                 \n",
            " batch_normalization (Batch  (None, 64)                256       \n",
            " Normalization)                                                  \n",
            "                                                                 \n",
            " dropout (Dropout)           (None, 64)                0         \n",
            "                                                                 \n",
            " dense (Dense)               (None, 64)                4160      \n",
            "                                                                 \n",
            " dense_1 (Dense)             (None, 2)                 130       \n",
            "                                                                 \n",
            "=================================================================\n",
            "Total params: 54466 (212.76 KB)\n",
            "Trainable params: 54338 (212.26 KB)\n",
            "Non-trainable params: 128 (512.00 Byte)\n",
            "_________________________________________________________________\n"
          ]
        },
        {
          "output_type": "execute_result",
          "data": {
            "image/png": "[encoded data removed]",
            "text/plain": [
              "<IPython.core.display.Image object>"
            ]
          },
          "metadata": {},
          "execution_count": 13
        }
      ],
      "source": [
        "#Modelo raw.lstm\n",
        "from keras.layers import Conv2D, LeakyReLU\n",
        "from keras.utils import plot_model\n",
        "\n",
        "keras.backend.clear_session()\n",
        "tf.random.set_seed(51)\n",
        "np.random.seed(51)\n",
        "\n",
        "model = keras.Sequential()\n",
        "input_shape=(X_train.shape[1],X_train.shape[2])\n",
        "\n",
        "model.add(LSTM(64, return_sequences=True,input_shape=input_shape))\n",
        "model.add(LSTM(64))\n",
        "\n",
        "model.add(keras.layers.BatchNormalization())\n",
        "model.add(keras.layers.Dropout(0.2))\n",
        "model.add(Dense(64, activation='relu'))\n",
        "\n",
        "model.add(Dense(2, activation='sigmoid'))\n",
        "model.summary()\n",
        "\n",
        "model.compile(loss='binary_crossentropy', optimizer='adam', metrics=['accuracy'])\n",
        "plot_model(model, 'net.png', show_shapes=True,show_layer_names=False,show_layer_activations=True)\n"
      ]
    },
    {
      "cell_type": "code",
      "execution_count": null,
      "id": "de8e0216-6abc-4eef-a495-d41086bcd4ba",
      "metadata": {
        "id": "de8e0216-6abc-4eef-a495-d41086bcd4ba"
      },
      "outputs": [],
      "source": [
        "class myCallback(tf.keras.callbacks.Callback):\n",
        "      def on_epoch_end(self, epoch, logs={}):\n",
        "        if(logs.get('val_accuracy')> 0.56 and logs.get('accuracy')> 0.6):\n",
        "              print(\"\\nAlcanzado el 85% de precisión, se cancela el entrenamiento!!\")\n",
        "              self.model.stop_training = True\n",
        "callbacks1 =myCallback()\n",
        "\n",
        "j=0\n",
        "acc=0\n",
        "while j<10 and acc<0.52:\n",
        "    j=j+1\n",
        "    history = model.fit(X_train, y_train_cat, epochs=20, validation_data=(X_val, y_val_cat), verbose=1, callbacks=[callbacks1])\n",
        "    # y_pred2 = [np.argmax(i) for i in model.predict(X_val)]\n",
        "    # show_results(y_val,y_pred2)\n",
        "    y_test_pred2 = [np.argmax(i) for i in model.predict(X_test)]\n",
        "    acc = get_accuraccy(y_test,y_test_pred2)\n",
        "\n",
        "show_results(y_test,y_test_pred2)"
      ]
    },
    {
      "cell_type": "code",
      "execution_count": null,
      "id": "65167283-310e-4724-bfd9-089ab1d37764",
      "metadata": {
        "id": "65167283-310e-4724-bfd9-089ab1d37764"
      },
      "outputs": [],
      "source": []
    }
  ],
  "metadata": {
    "kernelspec": {
      "display_name": "Python 3",
      "name": "python3"
    },
    "language_info": {
      "codemirror_mode": {
        "name": "ipython",
        "version": 3
      },
      "file_extension": ".py",
      "mimetype": "text/x-python",
      "name": "python",
      "nbconvert_exporter": "python",
      "pygments_lexer": "ipython3",
      "version": "3.9.13"
    },
    "colab": {
      "provenance": []
    }
  },
  "nbformat": 4,
  "nbformat_minor": 5
}