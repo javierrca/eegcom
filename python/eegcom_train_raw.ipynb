{
  "cells": [
    {
      "cell_type": "code",
      "execution_count": null,
      "id": "de275c24-3b61-45b0-a807-3d4a8b8fa233",
      "metadata": {
        "id": "de275c24-3b61-45b0-a807-3d4a8b8fa233"
      },
      "outputs": [],
      "source": [
        "import pandas as pd\n",
        "import keras as keras\n",
        "import os\n",
        "import librosa\n",
        "import librosa.display\n",
        "import matplotlib.pyplot as plt\n",
        "from sklearn.model_selection import train_test_split\n",
        "from sklearn.preprocessing import normalize\n",
        "import warnings\n",
        "warnings.filterwarnings('ignore')\n",
        "from sklearn.model_selection import train_test_split\n",
        "import tensorflow\n",
        "from tensorflow.keras.layers import LSTM, Dense\n",
        "import tensorflow as tf\n",
        "import glob\n",
        "import numpy as np\n",
        "import matplotlib.pyplot as plt\n",
        "import csv"
      ]
    },
    {
      "cell_type": "code",
      "source": [
        "from google.colab import drive\n",
        "drive.mount('/content/drive')\n",
        "!cd '/content/drive/MyDrive/OKN/Master IA/Master IA/TFM/mindwave/FASE3' && pwd\n",
        "prefix= '/drive/MyDrive/OKN/Master IA/Master IA/TFM/mindwave/FASE3'\n"
      ],
      "metadata": {
        "colab": {
          "base_uri": "https://localhost:8080/"
        },
        "id": "YfQ12gRGf-wz",
        "outputId": "22b0a981-5e94-4ab1-cfe8-7e38bbfebc36"
      },
      "id": "YfQ12gRGf-wz",
      "execution_count": null,
      "outputs": [
        {
          "output_type": "stream",
          "name": "stdout",
          "text": [
            "Mounted at /content/drive\n",
            "/content/drive/MyDrive/OKN/Master IA/Master IA/TFM/mindwave/FASE3\n"
          ]
        }
      ]
    },
    {
      "cell_type": "code",
      "execution_count": null,
      "id": "8526fc1b-74bd-41b6-b2f3-46c79d24040b",
      "metadata": {
        "colab": {
          "base_uri": "https://localhost:8080/"
        },
        "id": "8526fc1b-74bd-41b6-b2f3-46c79d24040b",
        "outputId": "b966157a-7a1d-4d7c-c4a2-5e8396866f82"
      },
      "outputs": [
        {
          "output_type": "execute_result",
          "data": {
            "text/plain": [
              "((142, 1000, 1), (142, 1))"
            ]
          },
          "metadata": {},
          "execution_count": 62
        }
      ],
      "source": [
        "\n",
        "\n",
        "paths = [\n",
        "\n",
        "    #        str(os.getcwd() +prefix +\"/pruebas/preguntas_01-50/javier/ses01/\"),\n",
        "    #            str(os.getcwd() +prefix+\"/pruebas/preguntas_01-50/javier/ses02/\"),\n",
        "    #          str(os.getcwd() +prefix+\"/pruebas/preguntas_01-50/javier/ses03/\") ,\n",
        "    #  str(os.getcwd() +prefix+\"/pruebas/preguntas_01-50/javier/ses04/\") ,\n",
        "    #  str(os.getcwd() +prefix+\"/pruebas/preguntas_01-50/javier/ses05/\") ,\n",
        "    # str(os.getcwd() +prefix+\"/pruebas/preguntas_01-50/javier/ses06/\") ,\n",
        "    # str(os.getcwd() +prefix+\"/pruebas/preguntas_01-50/javier/ses07/\") ,\n",
        "    # str(os.getcwd() +prefix+\"/pruebas/fase1_si/javier/ses_test01/\") ,\n",
        "    # str(os.getcwd() +prefix+\"/pruebas/fase1_si/javier/ses_test02/\") ,\n",
        "    # str(os.getcwd() +prefix+\"/pruebas/fase1_si/javier/ses_test03/\") ,\n",
        "    # str(os.getcwd() +prefix+\"/pruebas/fase1_si/javier/ses_train01/\") ,\n",
        "\n",
        "    #        str(os.getcwd() +prefix+\"/pruebas/test/javier/ses01/\"),  #90\n",
        "    #           str(os.getcwd() +prefix+\"/pruebas/test/javier/ses02/\"), #62\n",
        "    #        str(os.getcwd() +prefix+\"/pruebas/test/javier/ses03/\"),\n",
        "    #             str(os.getcwd() +prefix+\"/pruebas/test/javier/ses04/\"),\n",
        "    #               str(os.getcwd() +prefix+\"/pruebas/test/javier/ses05/\"), #100\n",
        "    #              str(os.getcwd() +prefix+\"/pruebas/test/javier/ses06/\"),\n",
        "    #          str(os.getcwd() +prefix+\"/pruebas/test/javier/ses07/\"),\n",
        "    #         str(os.getcwd() +prefix+\"/pruebas/test/javier/ses08/\"),      #60\n",
        "    #        str(os.getcwd()+prefix +\"/pruebas/test/javier/ses09/\")   ,\n",
        "    #              str(os.getcwd()+prefix +\"/pruebas/test/javier/ses10/\")   ,\n",
        "    #             str(os.getcwd()+prefix +\"/pruebas/test/javier/ses11/\")   , #60\n",
        "    #               str(os.getcwd() +prefix+\"/pruebas/test/javier/ses12/\")   ,\n",
        "\n",
        "\n",
        "\n",
        "     str(os.getcwd() +prefix+\"/pruebas/preguntas_01-50/silvia/ses01/\")     ,\n",
        "     str(os.getcwd() +prefix+\"/pruebas/preguntas_01-50/silvia/ses02/\")   ,\n",
        "            #  str(os.getcwd() +prefix+\"/pruebas/preguntas_01-50/silvia/ses03/\")     ,#pastillas\n",
        "         str(os.getcwd() +prefix+\"/pruebas/preguntas_01-50/silvia/ses04/\")  ,\n",
        "\n",
        "    str(os.getcwd() +prefix+\"/pruebas/test/silvia/ses01/\")   ,\n",
        "    str(os.getcwd() +prefix+\"/pruebas/test/silvia/ses02/\")      ,\n",
        "    str(os.getcwd() +prefix+\"/pruebas/test/silvia/ses03/\")     ,\n",
        "     str(os.getcwd()+prefix +\"/pruebas/test/silvia/ses04/\")     , #pastillas\n",
        "        str(os.getcwd()+prefix +\"/pruebas/test/silvia/sesbal/\")     ,\n",
        "\n",
        "        ]\n",
        "\n",
        "def load_data(paths):\n",
        "    dfRaw = []\n",
        "    X_raw_train = []\n",
        "    y_raw_train =[]\n",
        "    filter=[]\n",
        "    filterLastRows = 1000\n",
        "    # filterLastRows = 1050\n",
        "    # filterLastRows = 750\n",
        "    #filterLastRows = 512\n",
        "    i=0\n",
        "    # print (paths)\n",
        "    for path in paths:\n",
        "        dfHead = pd.read_csv(path + 'head.csv')\n",
        "        all_raw_files = glob.glob(os.path.join(path , \"*_raw*.csv\"))\n",
        "        # print(dfHead[dfHead['questionCode']==24].iloc[0]['response'])\n",
        "\n",
        "        for filename in all_raw_files:\n",
        "            dfRaw = pd.read_csv(filename, index_col=None, header=0)\n",
        "            # np.array(dfRaw)\n",
        "\n",
        "\n",
        "\n",
        "\n",
        "            # a = len(dfRaw)\n",
        "            # print (\"filename:\"+ filename + \" \" + str(a))\n",
        "            if len(dfRaw)>filterLastRows:\n",
        "                qCode = dfRaw['questionCode'].iloc[[0]][0]\n",
        "                # print(qCode)\n",
        "                X = np.array(dfRaw.tail(filterLastRows)['rawEeg'])\n",
        "#ini\n",
        "                # X_raw_train.append([])\n",
        "                samples = list()\n",
        "                # length = 350\n",
        "                length = 1000\n",
        "                # length = 350\n",
        "                #length = 512\n",
        "                # step over the 5,000 in jumps of 200\n",
        "                for j in range(0,filterLastRows,length):\n",
        "                 # grab from i to i + 200\n",
        "                    sample = X[j:j+length]\n",
        "                    samples.append(sample)\n",
        "                # print(len(samples))\n",
        "                # X=samples\n",
        "\n",
        "                for ids, X in enumerate(samples):\n",
        "                    X_raw_train.append([])\n",
        "#fin\n",
        "                    for idx, it in enumerate(X):\n",
        "                        X_raw_train[i].append([])\n",
        "                        X_raw_train[i][idx].append([])\n",
        "                        X_raw_train[i][idx][0] = X[idx]\n",
        "                    y_raw_train.append([])\n",
        "                    y_raw_train[i].append([])\n",
        "                    y_raw_train[i][0] = dfHead[dfHead['questionCode']==qCode].iloc[0]['response']\n",
        "                    i=i+1\n",
        "\n",
        "    return X_raw_train,y_raw_train\n",
        "\n",
        "\n",
        "X_raw_train = []\n",
        "y_raw_train =[]\n",
        "X_raw_train,y_raw_train= load_data(paths)\n",
        "X = np.array(X_raw_train)\n",
        "y = np.array(y_raw_train)\n",
        "X.shape, y.shape\n"
      ]
    },
    {
      "cell_type": "code",
      "execution_count": null,
      "id": "03f53d71-f147-4a63-94af-d5a2c6f7a88a",
      "metadata": {
        "id": "03f53d71-f147-4a63-94af-d5a2c6f7a88a",
        "outputId": "72e10654-b3d0-4dc8-e9ce-35611a78bc1a"
      },
      "outputs": [
        {
          "data": {
            "text/plain": [
              "(36, 1000, 1)"
            ]
          },
          "execution_count": 4,
          "metadata": {},
          "output_type": "execute_result"
        }
      ],
      "source": [
        "# 3,4,9 funcionan bien\n",
        "paths_test = [\n",
        "#            str(os.getcwd() +\"/pruebas/test/javier/ses01/\"),  #90\n",
        "#               str(os.getcwd() +\"/pruebas/test/javier/ses02/\"), #62\n",
        "#            str(os.getcwd() +\"/pruebas/test/javier/ses03/\"),\n",
        "#                 str(os.getcwd() +\"/pruebas/test/javier/ses04/\"),\n",
        "#                   str(os.getcwd() +\"/pruebas/test/javier/ses05/\"), #100\n",
        "#                  str(os.getcwd() +\"/pruebas/test/javier/ses06/\"),\n",
        "#              str(os.getcwd() +\"/pruebas/test/javier/ses07/\"),\n",
        "#             str(os.getcwd() +\"/pruebas/test/javier/ses08/\"),      #60\n",
        "#            str(os.getcwd() +\"/pruebas/test/javier/ses09/\")   ,\n",
        "#                  str(os.getcwd() +\"/pruebas/test/javier/ses10/\")   ,\n",
        "#                 str(os.getcwd() +\"/pruebas/test/javier/ses11/\")   , #60\n",
        "#                   str(os.getcwd() +\"/pruebas/test/javier/ses12/\")   ,\n",
        "\n",
        "\n",
        "    str(os.getcwd() +\"/pruebas/test/silvia/ses01/\")   ,\n",
        "    str(os.getcwd() +\"/pruebas/test/silvia/ses02/\")      ,\n",
        "    str(os.getcwd() +\"/pruebas/test/silvia/ses03/\")     ,\n",
        "     str(os.getcwd() +\"/pruebas/test/silvia/ses04/\")     ,\n",
        "        str(os.getcwd() +\"/pruebas/test/silvia/sesbal/\")     ,\n",
        "]\n",
        "\n",
        "\n",
        "x_test_raw, y_test_raw = load_data(paths_test)\n",
        "\n",
        "x_test = np.array(x_test_raw)\n",
        "y_test = np.array(y_test_raw)\n",
        "x_test.shape"
      ]
    },
    {
      "cell_type": "code",
      "execution_count": null,
      "id": "a4e45cf8-ba0d-4af6-9c4e-f72dc1917f0c",
      "metadata": {
        "id": "a4e45cf8-ba0d-4af6-9c4e-f72dc1917f0c"
      },
      "outputs": [],
      "source": []
    },
    {
      "cell_type": "code",
      "execution_count": null,
      "id": "3e8fa082-aa7d-4e3e-a0d1-28971858b3ca",
      "metadata": {
        "id": "3e8fa082-aa7d-4e3e-a0d1-28971858b3ca"
      },
      "outputs": [],
      "source": []
    },
    {
      "cell_type": "code",
      "execution_count": null,
      "id": "58c89702-0084-4af5-b70a-cd1773e67035",
      "metadata": {
        "id": "58c89702-0084-4af5-b70a-cd1773e67035"
      },
      "outputs": [],
      "source": [
        "\n",
        "\n",
        "def plot_series(time, series, format=\"-\", start=0, end=None):\n",
        "    plt.plot(time[start:end], series[start:end], format)\n",
        "    plt.xlabel(\"Time\")\n",
        "    plt.ylabel(\"Value\")\n",
        "    plt.grid(True)\n",
        "\n",
        "\n",
        "def get_timed_series(dataArr):\n",
        "    time_step = []\n",
        "    data = []\n",
        "    step=0\n",
        "    for row in dataArr:\n",
        "        data.append(float(row))\n",
        "        # print(row[3])\n",
        "        time_step.append(step)\n",
        "        step = step + 1\n",
        "    return np.array(time_step),np.array(data)\n",
        "\n",
        "\n",
        "# series = np.array(temps)\n",
        "# time = np.array(time_step)\n",
        "input_signal =X[0]\n",
        "time,series = get_timed_series(input_signal)\n",
        "plt.figure(figsize=(10, 6))\n",
        "plot_series(time, series)\n",
        "\n",
        "# print(y_train[0])\n",
        "\n",
        "# time,series = get_timed_series(np.array(dfRaw[dfRaw['questionCode']==22].iloc[:,3]))\n",
        "# plt.figure(figsize=(10, 6))\n",
        "# plot_series(time, series)\n",
        "\n",
        "\n",
        "\n",
        "# time,series = get_timed_series(np.array(dfEmot[dfEmot['questionCode']==22].iloc[:,10]))\n",
        "# plt.figure(figsize=(10, 6))\n",
        "# plot_series(time, series)\n",
        "\n",
        "\n",
        "import matplotlib.pyplot as plt\n",
        "import numpy as np\n",
        "import scipy.signal as signal\n",
        "from python_speech_features import mfcc\n",
        "\n",
        "fig, ax_list = plt.subplots(nrows=1, figsize=(10, 15), gridspec_kw={'wspace': 0, 'hspace': 0.2}, dpi=100)\n",
        "\n",
        "window = 75\n",
        "step = 25\n",
        "\n",
        "# input_signal = np.array(X_raw_train[dfRaw['questionCode']==1].iloc[:,3])\n",
        "\n",
        "# print(input_signal)\n",
        "# Pot MFCC spectrogram of input signal\n",
        "ax = ax_list\n",
        "def convert_to_mfccs(wav):\n",
        "    return mfcc(wav, 1, winstep=step, winlen=window, numcep=26)\n",
        "\n",
        "data = convert_to_mfccs(input_signal)\n",
        "print(len(data))\n",
        "print(data.shape)\n",
        "# print(data)\n",
        "\n",
        "\n",
        "presentation_steps = np.arange(data.shape[0])\n",
        "ax.imshow(data.T, aspect=\"auto\", interpolation=\"nearest\")\n",
        "ax.set_ylabel(\"MFCC features\")\n",
        "\n",
        "\n",
        "plt.show()"
      ]
    },
    {
      "cell_type": "code",
      "execution_count": null,
      "id": "732b308b-1e3c-40d2-a5eb-5d046854e382",
      "metadata": {
        "id": "732b308b-1e3c-40d2-a5eb-5d046854e382"
      },
      "outputs": [],
      "source": [
        "from sklearn.metrics import confusion_matrix, classification_report\n",
        "import seaborn as sns\n",
        "\n",
        "def get_accuraccy(y_test, pred_y):\n",
        "    conf_matrix = confusion_matrix(y_test,pred_y)\n",
        "    a = conf_matrix[0][0] / (conf_matrix[0][0] + conf_matrix[0][1])\n",
        "    b = conf_matrix[1][1] / (conf_matrix[1][0] + conf_matrix[1][1])\n",
        "    acc = (a + b)/2\n",
        "    print (\"calc accuracy : \" + str(acc))\n",
        "    return acc\n",
        "\n",
        "def show_results(y_test, pred_y):\n",
        "    conf_matrix = confusion_matrix(y_test,pred_y)\n",
        "    plt.figure(figsize=(2,2))\n",
        "    labels = ['0: No', '1: Si']\n",
        "    sns.heatmap(conf_matrix, xticklabels=labels, yticklabels=labels, annot=True, fmt='d')\n",
        "    plt.title('Confusion matrix')\n",
        "    plt.ylabel('True class')\n",
        "    plt.xlabel('Predicted class')\n",
        "    plt.show()\n",
        "    print(conf_matrix)\n",
        "    print(classification_report(y_test,pred_y))\n",
        "    return\n"
      ]
    },
    {
      "cell_type": "code",
      "execution_count": null,
      "id": "8176e63e-bc31-46ca-9add-1b7944df3840",
      "metadata": {
        "colab": {
          "base_uri": "https://localhost:8080/"
        },
        "id": "8176e63e-bc31-46ca-9add-1b7944df3840",
        "outputId": "fed6577c-14e8-49a4-b901-01bb8d019392"
      },
      "outputs": [
        {
          "output_type": "execute_result",
          "data": {
            "text/plain": [
              "((84, 1000, 1), (84, 1), (29, 1000, 1), (29, 1), (29, 1000, 1), (29, 1))"
            ]
          },
          "metadata": {},
          "execution_count": 63
        }
      ],
      "source": [
        "\n",
        "#Split twice to get the validation set\n",
        "# X_train_all, X_test, y_train_all, y_test = train_test_split(X, y, test_size=0.25, random_state=123, stratify=y)\n",
        "# X_train, X_val, y_train, y_val = train_test_split(X_train_all, y_train_all, test_size=0.25, random_state=123, stratify=y)\n",
        "\n",
        "# X_train, X_test, y_train, y_test = train_test_split(X, y, test_size=0.2, random_state=14)\n",
        "# X_train, X_val, y_train, y_val  = train_test_split(X_train, y_train, test_size=0.25, random_state=234) # 0.25 x 0.8 = 0.2\n",
        "\n",
        "X_train, X_test, y_train, y_test = train_test_split(X, y, test_size=0.2)\n",
        "X_train, X_val, y_train, y_val  = train_test_split(X_train, y_train, test_size=0.25) # 0.25 x 0.8 = 0.2\n",
        "\n",
        "\n",
        "# X_train, X_val, y_train, y_val = train_test_split(X, y, test_size=0.25, shuffle=True, stratify=y)\n",
        "#Print the shapes\n",
        "# X_train.shape,  y_train.shape, X_test.shape, X_val.shape, y_val.shape, len(y_train), len(y_test), len(y_val)\n",
        "\n",
        "y_val_cat =keras.utils.to_categorical(y_val,2)\n",
        "y_train_cat =keras.utils.to_categorical(y_train,2)\n",
        "y_test_cat =keras.utils.to_categorical(y_test,2)\n",
        "\n",
        "# X_train.shape,  y_train.shape, X_val.shape, y_val.shape, len(y_train),  y_val_cat\n",
        "# y_val_cat, y_val, y_train, y_train_cat\n",
        "\n",
        "# y_train_all\n",
        "X_train.shape, y_train.shape,X_test.shape,y_test.shape,X_val.shape, y_val.shape\n"
      ]
    },
    {
      "cell_type": "code",
      "execution_count": null,
      "id": "08cc5d74-009c-48d3-be95-838322af4a48",
      "metadata": {
        "id": "08cc5d74-009c-48d3-be95-838322af4a48"
      },
      "outputs": [],
      "source": [
        "# model = keras.models.load_model('model_javier_raw_02.keras')"
      ]
    },
    {
      "cell_type": "code",
      "execution_count": null,
      "id": "52b705cb-2e74-4b30-93f2-0617e6614189",
      "metadata": {
        "colab": {
          "base_uri": "https://localhost:8080/"
        },
        "id": "52b705cb-2e74-4b30-93f2-0617e6614189",
        "outputId": "fe411744-d8d4-4af5-931c-3eff50eb69a8"
      },
      "outputs": [
        {
          "output_type": "stream",
          "name": "stdout",
          "text": [
            "Model: \"sequential\"\n",
            "_________________________________________________________________\n",
            " Layer (type)                Output Shape              Param #   \n",
            "=================================================================\n",
            " lstm (LSTM)                 (None, 1000, 64)          16896     \n",
            "                                                                 \n",
            " lstm_1 (LSTM)               (None, 64)                33024     \n",
            "                                                                 \n",
            " batch_normalization (Batch  (None, 64)                256       \n",
            " Normalization)                                                  \n",
            "                                                                 \n",
            " dropout (Dropout)           (None, 64)                0         \n",
            "                                                                 \n",
            " dense (Dense)               (None, 64)                4160      \n",
            "                                                                 \n",
            " dense_1 (Dense)             (None, 2)                 130       \n",
            "                                                                 \n",
            "=================================================================\n",
            "Total params: 54466 (212.76 KB)\n",
            "Trainable params: 54338 (212.26 KB)\n",
            "Non-trainable params: 128 (512.00 Byte)\n",
            "_________________________________________________________________\n"
          ]
        }
      ],
      "source": [
        "#model 1\n",
        "from keras.layers import Conv2D, LeakyReLU\n",
        "keras.backend.clear_session()\n",
        "tf.random.set_seed(51)\n",
        "np.random.seed(51)\n",
        "\n",
        "model = keras.Sequential()\n",
        "input_shape=(X_train.shape[1],X_train.shape[2])\n",
        "\n",
        "# model.add(keras.layers.Conv1D(filters=32,kernel_size=5,strides=1,padding=\"causal\", activation=\"relu\",input_shape=(X_train.shape[1], 1)))\n",
        "# input_shape=(None,1)\n",
        "# model.add(keras.layers.Conv1D(filters=32,kernel_size=5,strides=1,padding=\"causal\", activation=\"relu\",input_shape=input_shape))\n",
        "\n",
        "model.add(LSTM(64, return_sequences=True,input_shape=input_shape))\n",
        "# model.add(LSTM(16, return_sequences=True))\n",
        "# model.add(keras.layers.BatchNormalization())\n",
        "# model.add(keras.layers.Dropout(0.2))\n",
        "\n",
        "model.add(LSTM(64))\n",
        "\n",
        "model.add(keras.layers.BatchNormalization())\n",
        "model.add(keras.layers.Dropout(0.2))\n",
        "model.add(Dense(64, activation='relu'))\n",
        "# model.add(Dense(64, activation=LeakyReLU()))\n",
        "\n",
        "# model.add(keras.layers.BatchNormalization())\n",
        "# model.add(keras.layers.Dropout(0.2))\n",
        "# # model.add(Dense(64, activation='relu'))\n",
        "# model.add(Dense(64, activation=LeakyReLU()))\n",
        "\n",
        "# LeakyReLU()\n",
        "# model.add(keras.layers.BatchNormalization())\n",
        "# model.add(keras.layers.Dropout(0.2))\n",
        "\n",
        "# model.add(Dense(128, activation='relu'))\n",
        "\n",
        "# model.add(Dense(128, activation='relu'))\n",
        "# model.add(keras.layers.BatchNormalization())\n",
        "# model.add(keras.layers.Dropout(0.2))\n",
        "\n",
        "# model.add(Dense(2, activation='softmax'))\n",
        "model.add(Dense(2, activation='sigmoid'))\n",
        "model.summary()\n",
        "\n",
        "# model.compile(optimizer='adam',loss='SparseCategoricalCrossentropy',metrics=['acc'])\n",
        "# model.compile(loss = 'categorical_crossentropy',optimizer='adam',metrics=['accuracy'])\n",
        "# model.compile(loss = 'sparse_categorical_crossentropy',optimizer='adam',metrics=['accuracy'])\n",
        "model.compile(loss='binary_crossentropy', optimizer='adam', metrics=['accuracy'])\n"
      ]
    },
    {
      "cell_type": "code",
      "execution_count": null,
      "id": "de8e0216-6abc-4eef-a495-d41086bcd4ba",
      "metadata": {
        "colab": {
          "base_uri": "https://localhost:8080/",
          "height": 1000
        },
        "id": "de8e0216-6abc-4eef-a495-d41086bcd4ba",
        "outputId": "7ead9706-59c2-4682-c6da-d88b079caccd"
      },
      "outputs": [
        {
          "output_type": "stream",
          "name": "stdout",
          "text": [
            "Epoch 1/20\n",
            "3/3 [==============================] - 0s 136ms/step - loss: 0.3331 - accuracy: 0.7976 - val_loss: 0.9528 - val_accuracy: 0.5517\n",
            "Epoch 2/20\n",
            "3/3 [==============================] - 0s 76ms/step - loss: 0.3260 - accuracy: 0.8214 - val_loss: 1.0050 - val_accuracy: 0.5517\n",
            "Epoch 3/20\n",
            "3/3 [==============================] - 0s 71ms/step - loss: 0.3273 - accuracy: 0.8095 - val_loss: 1.0553 - val_accuracy: 0.4828\n",
            "Epoch 4/20\n",
            "3/3 [==============================] - 0s 77ms/step - loss: 0.3207 - accuracy: 0.7857 - val_loss: 1.0989 - val_accuracy: 0.4828\n",
            "Epoch 5/20\n",
            "3/3 [==============================] - 0s 78ms/step - loss: 0.3411 - accuracy: 0.8214 - val_loss: 1.1118 - val_accuracy: 0.5172\n",
            "Epoch 6/20\n",
            "3/3 [==============================] - 0s 73ms/step - loss: 0.3014 - accuracy: 0.8452 - val_loss: 1.1286 - val_accuracy: 0.5172\n",
            "Epoch 7/20\n",
            "3/3 [==============================] - 0s 77ms/step - loss: 0.3250 - accuracy: 0.8571 - val_loss: 1.1461 - val_accuracy: 0.5172\n",
            "Epoch 8/20\n",
            "3/3 [==============================] - 0s 74ms/step - loss: 0.3277 - accuracy: 0.7738 - val_loss: 1.1601 - val_accuracy: 0.5172\n",
            "Epoch 9/20\n",
            "3/3 [==============================] - 0s 71ms/step - loss: 0.3003 - accuracy: 0.8333 - val_loss: 1.1737 - val_accuracy: 0.5172\n",
            "Epoch 10/20\n",
            "3/3 [==============================] - 0s 77ms/step - loss: 0.3004 - accuracy: 0.8333 - val_loss: 1.1795 - val_accuracy: 0.5517\n",
            "Epoch 11/20\n",
            "3/3 [==============================] - 0s 77ms/step - loss: 0.3203 - accuracy: 0.7857 - val_loss: 1.1879 - val_accuracy: 0.5172\n",
            "Epoch 12/20\n",
            "3/3 [==============================] - 0s 88ms/step - loss: 0.2977 - accuracy: 0.8095 - val_loss: 1.2063 - val_accuracy: 0.5172\n",
            "Epoch 13/20\n",
            "3/3 [==============================] - 0s 75ms/step - loss: 0.3122 - accuracy: 0.8214 - val_loss: 1.2287 - val_accuracy: 0.5172\n",
            "Epoch 14/20\n",
            "3/3 [==============================] - 0s 76ms/step - loss: 0.2933 - accuracy: 0.8214 - val_loss: 1.2834 - val_accuracy: 0.4483\n",
            "Epoch 15/20\n",
            "3/3 [==============================] - 0s 79ms/step - loss: 0.3119 - accuracy: 0.7976 - val_loss: 1.3281 - val_accuracy: 0.3793\n",
            "Epoch 16/20\n",
            "3/3 [==============================] - 0s 97ms/step - loss: 0.2882 - accuracy: 0.8452 - val_loss: 1.3718 - val_accuracy: 0.4138\n",
            "Epoch 17/20\n",
            "3/3 [==============================] - 0s 78ms/step - loss: 0.3017 - accuracy: 0.7976 - val_loss: 1.3804 - val_accuracy: 0.4138\n",
            "Epoch 18/20\n",
            "3/3 [==============================] - 0s 78ms/step - loss: 0.2923 - accuracy: 0.8214 - val_loss: 1.3882 - val_accuracy: 0.4483\n",
            "Epoch 19/20\n",
            "3/3 [==============================] - 0s 80ms/step - loss: 0.2967 - accuracy: 0.8214 - val_loss: 1.4162 - val_accuracy: 0.4483\n",
            "Epoch 20/20\n",
            "3/3 [==============================] - 0s 95ms/step - loss: 0.3151 - accuracy: 0.7857 - val_loss: 1.4326 - val_accuracy: 0.4483\n",
            "1/1 [==============================] - 0s 39ms/step\n",
            "calc accuracy : 0.8261904761904761\n"
          ]
        },
        {
          "output_type": "display_data",
          "data": {
            "text/plain": [
              "<Figure size 200x200 with 2 Axes>"
            ],
            "image/png": "[encoded data removed]"
          },
          "metadata": {}
        },
        {
          "output_type": "stream",
          "name": "stdout",
          "text": [
            "[[13  2]\n",
            " [ 3 11]]\n",
            "              precision    recall  f1-score   support\n",
            "\n",
            "           0       0.81      0.87      0.84        15\n",
            "           1       0.85      0.79      0.81        14\n",
            "\n",
            "    accuracy                           0.83        29\n",
            "   macro avg       0.83      0.83      0.83        29\n",
            "weighted avg       0.83      0.83      0.83        29\n",
            "\n"
          ]
        }
      ],
      "source": [
        "class myCallback(tf.keras.callbacks.Callback):\n",
        "      def on_epoch_end(self, epoch, logs={}):\n",
        "        if(logs.get('val_accuracy')> 0.56 and logs.get('accuracy')> 0.6):\n",
        "              print(\"\\nAlcanzado el 85% de precisión, se cancela el entrenamiento!!\")\n",
        "              self.model.stop_training = True\n",
        "callbacks1 =myCallback()\n",
        "\n",
        "j=0\n",
        "acc=0\n",
        "while j<10 and acc<0.52:\n",
        "    j=j+1\n",
        "    history = model.fit(X_train, y_train_cat, epochs=20, validation_data=(X_val, y_val_cat), verbose=1, callbacks=[callbacks1])\n",
        "    # y_pred2 = [np.argmax(i) for i in model.predict(X_val)]\n",
        "    # show_results(y_val,y_pred2)\n",
        "    y_test_pred2 = [np.argmax(i) for i in model.predict(X_test)]\n",
        "    acc = get_accuraccy(y_test,y_test_pred2)\n",
        "\n",
        "show_results(y_test,y_test_pred2)"
      ]
    },
    {
      "cell_type": "code",
      "source": [
        "model.save('model_silvia_raw_14_model1_mixtraintest_83.keras')\n"
      ],
      "metadata": {
        "id": "GDzi6HERphNE"
      },
      "id": "GDzi6HERphNE",
      "execution_count": null,
      "outputs": []
    },
    {
      "cell_type": "code",
      "execution_count": null,
      "id": "2015bb0e-bbfb-4702-aee2-3bdd545e40a8",
      "metadata": {
        "id": "2015bb0e-bbfb-4702-aee2-3bdd545e40a8",
        "outputId": "433f1c55-a219-4335-aaea-7933e11a746f"
      },
      "outputs": [
        {
          "data": {
            "image/png": "[encoded data removed]",
            "text/plain": [
              "<Figure size 200x200 with 2 Axes>"
            ]
          },
          "metadata": {},
          "output_type": "display_data"
        },
        {
          "name": "stdout",
          "output_type": "stream",
          "text": [
            "[[27 21]\n",
            " [30 20]]\n",
            "calc accuraracy : 0.48125\n",
            "              precision    recall  f1-score   support\n",
            "\n",
            "           0       0.47      0.56      0.51        48\n",
            "           1       0.49      0.40      0.44        50\n",
            "\n",
            "    accuracy                           0.48        98\n",
            "   macro avg       0.48      0.48      0.48        98\n",
            "weighted avg       0.48      0.48      0.48        98\n",
            "\n"
          ]
        }
      ],
      "source": [
        "show_results(y_test,y_test_pred2)"
      ]
    },
    {
      "cell_type": "code",
      "execution_count": null,
      "id": "d01ffa9d-587a-4aaf-935c-256fba202955",
      "metadata": {
        "id": "d01ffa9d-587a-4aaf-935c-256fba202955"
      },
      "outputs": [],
      "source": [
        "# model.save('model_javier_raw_22_model1_1000m_1000len_acc91_val62_alltest58.keras')\n"
      ]
    },
    {
      "cell_type": "code",
      "execution_count": null,
      "id": "939ee870-a967-4d0e-b84f-50a889ca6c01",
      "metadata": {
        "id": "939ee870-a967-4d0e-b84f-50a889ca6c01",
        "outputId": "f5135e6d-ea7c-49f2-9b36-377434a3ae52"
      },
      "outputs": [
        {
          "name": "stdout",
          "output_type": "stream",
          "text": [
            "Model: \"sequential\"\n",
            "_________________________________________________________________\n",
            " Layer (type)                Output Shape              Param #   \n",
            "=================================================================\n",
            " lstm (LSTM)                 (None, 750, 32)           4352      \n",
            "                                                                 \n",
            " lstm_1 (LSTM)               (None, 32)                8320      \n",
            "                                                                 \n",
            " dense (Dense)               (None, 64)                2112      \n",
            "                                                                 \n",
            " batch_normalization (Batch  (None, 64)                256       \n",
            " Normalization)                                                  \n",
            "                                                                 \n",
            " dense_1 (Dense)             (None, 64)                4160      \n",
            "                                                                 \n",
            " batch_normalization_1 (Bat  (None, 64)                256       \n",
            " chNormalization)                                                \n",
            "                                                                 \n",
            " dense_2 (Dense)             (None, 2)                 130       \n",
            "                                                                 \n",
            "=================================================================\n",
            "Total params: 19586 (76.51 KB)\n",
            "Trainable params: 19330 (75.51 KB)\n",
            "Non-trainable params: 256 (1.00 KB)\n",
            "_________________________________________________________________\n"
          ]
        }
      ],
      "source": [
        "keras.backend.clear_session()\n",
        "tf.random.set_seed(51)\n",
        "np.random.seed(51)\n",
        "model = keras.Sequential()\n",
        "input_shape=(X_train.shape[1],X_train.shape[2])\n",
        "# model.add(keras.layers.Conv1D(filters=32,kernel_size=5,strides=1,padding=\"causal\", activation=\"relu\",input_shape=(X_train.shape[1], 1)))\n",
        "# input_shape=(None,1)\n",
        "# model.add(keras.layers.Conv1D(filters=32,kernel_size=5,strides=1,padding=\"causal\", activation=\"relu\",input_shape=input_shape))\n",
        "\n",
        "model.add(LSTM(32, return_sequences=True,input_shape=input_shape))\n",
        "# model.add(LSTM(64, return_sequences=True,input_shape=input_shape))\n",
        "model.add(LSTM(32))\n",
        "# model.add(LSTM(100, input_shape=(1, 1), return_sequences=True))\n",
        "model.add(Dense(64, activation='tanh'))\n",
        "# model.add(Dense(128, activation='tanh'))\n",
        "model.add(keras.layers.BatchNormalization())\n",
        "\n",
        "model.add(Dense(64, activation='tanh'))\n",
        "# model.add(Dense(128, activation='tanh'))\n",
        "model.add(keras.layers.BatchNormalization())\n",
        "# model.add(Dense(128, activation='relu'))\n",
        "\n",
        "model.add(Dense(2, activation='sigmoid'))\n",
        "model.summary()\n",
        "\n",
        "# model.compile(optimizer='adam',loss='SparseCategoricalCrossentropy',metrics=['acc'])\n",
        "# model.compile(loss = 'categorical_crossentropy',optimizer='adam',metrics=['accuracy'])\n",
        "# model.compile(loss = 'sparse_categorical_crossentropy',optimizer='adam',metrics=['accuracy'])\n",
        "model.compile(loss='binary_crossentropy', optimizer='adam', metrics=['accuracy'])\n",
        "# history = model.fit(X_train, y_train_cat, epochs=30, validation_data=(X_val, y_val_cat), verbose=1, callbacks=[callbacks])\n"
      ]
    },
    {
      "cell_type": "code",
      "execution_count": null,
      "id": "1fa65c1d-5260-4df7-be9a-bba71b5784aa",
      "metadata": {
        "id": "1fa65c1d-5260-4df7-be9a-bba71b5784aa",
        "outputId": "4cc3bc1e-8490-4d9d-beee-fa1399e0fff9"
      },
      "outputs": [
        {
          "name": "stdout",
          "output_type": "stream",
          "text": [
            "Epoch 1/10\n",
            "4/4 [==============================] - ETA: 0s - loss: 0.1819 - accuracy: 0.9394\n",
            "Alcanzado el 85% de precisión, se cancela el entrenamiento!!\n",
            "4/4 [==============================] - 3s 785ms/step - loss: 0.1819 - accuracy: 0.9394 - val_loss: 0.7852 - val_accuracy: 0.6061\n",
            "2/2 [==============================] - 0s 89ms/step\n"
          ]
        },
        {
          "data": {
            "image/png": "[encoded data removed]",
            "text/plain": [
              "<Figure size 200x200 with 2 Axes>"
            ]
          },
          "metadata": {},
          "output_type": "display_data"
        },
        {
          "name": "stdout",
          "output_type": "stream",
          "text": [
            "              precision    recall  f1-score   support\n",
            "\n",
            "           0       0.62      0.84      0.71        19\n",
            "           1       0.57      0.29      0.38        14\n",
            "\n",
            "    accuracy                           0.61        33\n",
            "   macro avg       0.59      0.56      0.55        33\n",
            "weighted avg       0.60      0.61      0.57        33\n",
            "\n",
            "4/4 [==============================] - 1s 225ms/step\n"
          ]
        },
        {
          "data": {
            "image/png": "[encoded data removed]",
            "text/plain": [
              "<Figure size 200x200 with 2 Axes>"
            ]
          },
          "metadata": {},
          "output_type": "display_data"
        },
        {
          "name": "stdout",
          "output_type": "stream",
          "text": [
            "              precision    recall  f1-score   support\n",
            "\n",
            "           0       0.49      0.73      0.58        48\n",
            "           1       0.50      0.26      0.34        50\n",
            "\n",
            "    accuracy                           0.49        98\n",
            "   macro avg       0.49      0.49      0.46        98\n",
            "weighted avg       0.49      0.49      0.46        98\n",
            "\n"
          ]
        }
      ],
      "source": [
        "class myCallback(tf.keras.callbacks.Callback):\n",
        "      def on_epoch_end(self, epoch, logs={}):\n",
        "        if(logs.get('val_accuracy')> 0.6 and logs.get('accuracy')> 0.7):\n",
        "              print(\"\\nAlcanzado el 85% de precisión, se cancela el entrenamiento!!\")\n",
        "              self.model.stop_training = True\n",
        "callbacks2 =myCallback()\n",
        "\n",
        "history = model.fit(X_train, y_train_cat, epochs=10, validation_data=(X_val, y_val_cat), verbose=1, callbacks=[callbacks2])\n",
        "\n",
        "y_pred2 = [np.argmax(i) for i in model.predict(X_val)]\n",
        "show_results(y_val,y_pred2)\n",
        "\n",
        "y_test_pred2 = [np.argmax(i) for i in model.predict(x_test)]\n",
        "show_results(y_test,y_test_pred2)"
      ]
    },
    {
      "cell_type": "code",
      "execution_count": null,
      "id": "301aa473-1267-473a-8d36-63597493e24e",
      "metadata": {
        "id": "301aa473-1267-473a-8d36-63597493e24e"
      },
      "outputs": [],
      "source": [
        "X_train"
      ]
    },
    {
      "cell_type": "code",
      "execution_count": null,
      "id": "e2ee6dd3-7c69-4dd8-a43f-7ceeb235e591",
      "metadata": {
        "id": "e2ee6dd3-7c69-4dd8-a43f-7ceeb235e591"
      },
      "outputs": [],
      "source": [
        "tf.keras.backend.clear_session()\n",
        "tf.random.set_seed(51)\n",
        "np.random.seed(51)\n",
        "input_shape=(X_train.shape[1],X_train.shape[2])\n",
        "\n",
        "\n",
        "model = keras.Sequential()\n",
        "model.add(LSTM(64, activation='tanh',  return_sequences=True,input_shape=(input_shape)))\n",
        "model.add(LSTM(64, activation='tanh',  return_sequences=True))\n",
        "model.add(LSTM(64, activation='tanh'))\n",
        "model.add(keras.layers.BatchNormalization())\n",
        "\n",
        "model.add(Dense(64, activation='tanh'))\n",
        "model.add(keras.layers.BatchNormalization())\n",
        "\n",
        "model.add(Dense(64, activation='tanh'))\n",
        "model.add(keras.layers.BatchNormalization())\n",
        "\n",
        "# model.add(Dense(64, activation='tanh'))\n",
        "# model.add(keras.layers.BatchNormalization())\n",
        "\n",
        "model.add(Dense(2, activation='sigmoid'))\n",
        "\n",
        "\n",
        "# model.compile(optimizer='adam',  metrics=['accuracy'])\n",
        "model.compile(loss='binary_crossentropy', optimizer='adam', metrics=['accuracy'])\n",
        "\n",
        "\n",
        "\n",
        "# history = model.fit(X_train, y_train_cat, epochs=20, validation_data=(X_val, y_val_cat), verbose=1, callbacks=[callbacks])\n"
      ]
    },
    {
      "cell_type": "code",
      "execution_count": null,
      "id": "3cd9bc4b-7cd5-457c-96ba-93214dad0bed",
      "metadata": {
        "id": "3cd9bc4b-7cd5-457c-96ba-93214dad0bed",
        "outputId": "78b9dcb7-d245-4a3e-d1be-553734c118b2"
      },
      "outputs": [
        {
          "name": "stdout",
          "output_type": "stream",
          "text": [
            "Epoch 1/10\n",
            "4/4 [==============================] - ETA: 0s - loss: 0.2811 - accuracy: 0.8990\n",
            "Alcanzado el 85% de precisión, se cancela el entrenamiento!!\n",
            "4/4 [==============================] - 7s 2s/step - loss: 0.2811 - accuracy: 0.8990 - val_loss: 0.7928 - val_accuracy: 0.6667\n",
            "2/2 [==============================] - 1s 163ms/step\n"
          ]
        },
        {
          "data": {
            "image/png": "[encoded data removed]",
            "text/plain": [
              "<Figure size 200x200 with 2 Axes>"
            ]
          },
          "metadata": {},
          "output_type": "display_data"
        },
        {
          "name": "stdout",
          "output_type": "stream",
          "text": [
            "              precision    recall  f1-score   support\n",
            "\n",
            "           0       0.63      1.00      0.78        19\n",
            "           1       1.00      0.21      0.35        14\n",
            "\n",
            "    accuracy                           0.67        33\n",
            "   macro avg       0.82      0.61      0.56        33\n",
            "weighted avg       0.79      0.67      0.60        33\n",
            "\n",
            "4/4 [==============================] - 2s 514ms/step\n"
          ]
        },
        {
          "data": {
            "image/png": "[encoded data removed]",
            "text/plain": [
              "<Figure size 200x200 with 2 Axes>"
            ]
          },
          "metadata": {},
          "output_type": "display_data"
        },
        {
          "name": "stdout",
          "output_type": "stream",
          "text": [
            "              precision    recall  f1-score   support\n",
            "\n",
            "           0       0.49      0.98      0.65        48\n",
            "           1       0.50      0.02      0.04        50\n",
            "\n",
            "    accuracy                           0.49        98\n",
            "   macro avg       0.49      0.50      0.35        98\n",
            "weighted avg       0.49      0.49      0.34        98\n",
            "\n"
          ]
        }
      ],
      "source": [
        "class myCallback(tf.keras.callbacks.Callback):\n",
        "      def on_epoch_end(self, epoch, logs={}):\n",
        "        if(logs.get('val_accuracy')> 0.6 and logs.get('accuracy')> 0.7):\n",
        "              print(\"\\nAlcanzado el 85% de precisión, se cancela el entrenamiento!!\")\n",
        "              self.model.stop_training = True\n",
        "callbacks3 =myCallback()\n",
        "history = model.fit(X_train, y_train_cat, epochs=10, validation_data=(X_val, y_val_cat), verbose=1, callbacks=[callbacks3])\n",
        "# history = model.fit(X_train, y_train_cat, epochs=10, verbose=1, callbacks=[callbacks3])\n",
        "\n",
        "y_pred2 = [np.argmax(i) for i in model.predict(X_val)]\n",
        "show_results(y_val,y_pred2)\n",
        "\n",
        "y_test_pred2 = [np.argmax(i) for i in model.predict(x_test)]\n",
        "show_results(y_test,y_test_pred2)\n"
      ]
    },
    {
      "cell_type": "code",
      "execution_count": null,
      "id": "eac3f50c-4311-4da2-beaa-16666617210a",
      "metadata": {
        "id": "eac3f50c-4311-4da2-beaa-16666617210a"
      },
      "outputs": [],
      "source": []
    },
    {
      "cell_type": "code",
      "execution_count": null,
      "id": "99b24728-bd86-4154-b7bb-37ee4e8e4475",
      "metadata": {
        "id": "99b24728-bd86-4154-b7bb-37ee4e8e4475",
        "outputId": "483e9414-80b6-4317-8b7f-950d60d0e062"
      },
      "outputs": [
        {
          "data": {
            "text/plain": [
              "(285, 350, 1)"
            ]
          },
          "execution_count": 29,
          "metadata": {},
          "output_type": "execute_result"
        }
      ],
      "source": [
        "X_train, y_train_cat\n",
        "X_train.shape"
      ]
    },
    {
      "cell_type": "code",
      "execution_count": null,
      "id": "4faa17b4-ee52-4478-94ea-07a2b67cff05",
      "metadata": {
        "id": "4faa17b4-ee52-4478-94ea-07a2b67cff05"
      },
      "outputs": [],
      "source": [
        "        # \"model = tf.keras.models.Sequential([\\n\",\n",
        "        # \"  tf.keras.layers.Conv1D(filters=32, kernel_size=5,\\n\",\n",
        "        # \"                      strides=1, padding=\\\"causal\\\",\\n\",\n",
        "        # \"                      activation=\\\"relu\\\",\\n\",\n",
        "        # \"                      input_shape=[None, 1]),\\n\",\n",
        "        # \"  tf.keras.layers.LSTM(64, return_sequences=True),\\n\",\n",
        "        # \"  tf.keras.layers.LSTM(64, return_sequences=True),\\n\",\n",
        "        # \"  tf.keras.layers.Dense(30, activation=\\\"relu\\\"),\\n\",\n",
        "        # \"  tf.keras.layers.Dense(10, activation=\\\"relu\\\"),\\n\",\n",
        "        # \"  tf.keras.layers.Dense(1),\\n\",\n",
        "        # \"  tf.keras.layers.Lambda(lambda x: x * 400)\\n\","
      ]
    },
    {
      "cell_type": "code",
      "execution_count": null,
      "id": "1f61d61c-6acb-4f13-9783-d1cd78514874",
      "metadata": {
        "id": "1f61d61c-6acb-4f13-9783-d1cd78514874",
        "outputId": "921b4093-bc48-4908-c50e-4fab4b022887"
      },
      "outputs": [
        {
          "name": "stdout",
          "output_type": "stream",
          "text": [
            "(750, 1)\n",
            "Model: \"sequential\"\n",
            "_________________________________________________________________\n",
            " Layer (type)                Output Shape              Param #   \n",
            "=================================================================\n",
            " conv1d (Conv1D)             (None, None, 32)          192       \n",
            "                                                                 \n",
            " dropout (Dropout)           (None, None, 32)          0         \n",
            "                                                                 \n",
            " lstm (LSTM)                 (None, None, 64)          24832     \n",
            "                                                                 \n",
            " lstm_1 (LSTM)               (None, 64)                33024     \n",
            "                                                                 \n",
            " batch_normalization (Batch  (None, 64)                256       \n",
            " Normalization)                                                  \n",
            "                                                                 \n",
            " dropout_1 (Dropout)         (None, 64)                0         \n",
            "                                                                 \n",
            " dense (Dense)               (None, 64)                4160      \n",
            "                                                                 \n",
            " batch_normalization_1 (Bat  (None, 64)                256       \n",
            " chNormalization)                                                \n",
            "                                                                 \n",
            " dropout_2 (Dropout)         (None, 64)                0         \n",
            "                                                                 \n",
            " dense_1 (Dense)             (None, 2)                 130       \n",
            "                                                                 \n",
            "=================================================================\n",
            "Total params: 62850 (245.51 KB)\n",
            "Trainable params: 62594 (244.51 KB)\n",
            "Non-trainable params: 256 (1.00 KB)\n",
            "_________________________________________________________________\n"
          ]
        }
      ],
      "source": [
        "keras.backend.clear_session()\n",
        "tf.random.set_seed(51)\n",
        "np.random.seed(51)\n",
        "\n",
        "input_shape=(X_train.shape[1],X_train.shape[2])\n",
        "\n",
        "# input_shape=(X_train.shape[1],X_train.shape[2])\n",
        "# input_shape=(X_train.shape[0],X_train.shape[1],X_train.shape[2])\n",
        "print(input_shape)\n",
        "\n",
        "# with tf.compat.v1.Session() as sess0:\n",
        "# assert not tf.executing_eagerly()\n",
        "model = keras.Sequential()\n",
        "# y = tf.keras.layers.Conv1D(32, 3, activation='relu',input_shape=input_shape[1:])(x)model.add(keras.layers.Conv1D(32, kernel_size=(2, 2), activation='relu', input_shape=(input_shape)))\n",
        "# model.add(keras.layers.Conv1D(32,5, activation='relu'))\n",
        "\n",
        "model.add(keras.layers.Conv1D(32,5, activation='tanh',input_shape=[None, 1]))\n",
        "keras.layers.MaxPooling1D(pool_size=2, strides=1, padding=\"valid\")\n",
        "model.add(keras.layers.Dropout(0.25))\n",
        "# model.add(keras.layers.Flatten())\n",
        "\n",
        "# model.add(keras.layers.Conv2D(120, kernel_size=(2, 2), activation='relu'))\n",
        "# model.add(keras.layers.MaxPooling2D(pool_size=(2, 2)))\n",
        "# model.add(keras.layers.BatchNormalization())\n",
        "# model.add(LSTM(64, activation='tanh', return_sequences=True,input_shape=(input_shape)))\n",
        "model.add(LSTM(64, activation='tanh',  return_sequences=True))\n",
        "model.add(LSTM(64, activation='tanh'))\n",
        "\n",
        "\n",
        "model.add(keras.layers.BatchNormalization())\n",
        "model.add(keras.layers.Dropout(0.25))\n",
        "\n",
        "\n",
        "# model.add(keras.layers.Dropout(0.25))\n",
        "# model.add(keras.layers.Flatten())\n",
        "# model.add(Dense(64, activation='relu'))\n",
        "# model.add(keras.layers.Dropout(0.25))\n",
        "\n",
        "model.add(Dense(64, activation='tanh'))\n",
        "model.add(keras.layers.BatchNormalization())\n",
        "model.add(keras.layers.Dropout(0.25))\n",
        "\n",
        "\n",
        "# model.add(keras.layers.Dropout(0.4))\n",
        "# model.add(Dense(num_classes, activation='softmax'))\n",
        "model.add(keras.layers.Dense(2, activation=\"sigmoid\"))\n",
        "model.summary()\n",
        "\n",
        "model.compile(loss='categorical_crossentropy', optimizer='adam', metrics=['accuracy'])\n",
        "# model.compile(loss='categorical_crossentropy', optimizer='sgd', metrics=['accuracy'])\n",
        "\n",
        "#Adam, an algorithm\n"
      ]
    },
    {
      "cell_type": "code",
      "execution_count": null,
      "id": "4c2c58b3-4803-4551-9a3e-8bea7a9ea415",
      "metadata": {
        "id": "4c2c58b3-4803-4551-9a3e-8bea7a9ea415",
        "outputId": "994f372b-5949-42e2-c667-5482e675a77d"
      },
      "outputs": [
        {
          "name": "stdout",
          "output_type": "stream",
          "text": [
            "Epoch 1/10\n",
            "4/4 [==============================] - 5s 1s/step - loss: 0.7521 - accuracy: 0.5758 - val_loss: 0.7545 - val_accuracy: 0.3939\n",
            "Epoch 2/10\n",
            "4/4 [==============================] - 5s 1s/step - loss: 0.6983 - accuracy: 0.5859 - val_loss: 0.7638 - val_accuracy: 0.3939\n",
            "Epoch 3/10\n",
            "4/4 [==============================] - 5s 1s/step - loss: 0.6634 - accuracy: 0.5960 - val_loss: 0.7718 - val_accuracy: 0.4242\n",
            "Epoch 4/10\n",
            "4/4 [==============================] - 5s 1s/step - loss: 0.7207 - accuracy: 0.6667 - val_loss: 0.7704 - val_accuracy: 0.4242\n",
            "Epoch 5/10\n",
            "4/4 [==============================] - 5s 1s/step - loss: 0.7265 - accuracy: 0.5960 - val_loss: 0.7526 - val_accuracy: 0.4545\n",
            "Epoch 6/10\n",
            "4/4 [==============================] - 5s 1s/step - loss: 0.7104 - accuracy: 0.6263 - val_loss: 0.7326 - val_accuracy: 0.4242\n",
            "Epoch 7/10\n",
            "4/4 [==============================] - 5s 1s/step - loss: 0.6895 - accuracy: 0.5859 - val_loss: 0.7097 - val_accuracy: 0.4242\n",
            "Epoch 8/10\n",
            "4/4 [==============================] - 6s 1s/step - loss: 0.5970 - accuracy: 0.6869 - val_loss: 0.6967 - val_accuracy: 0.4848\n",
            "Epoch 9/10\n",
            "4/4 [==============================] - 5s 1s/step - loss: 0.6483 - accuracy: 0.6566 - val_loss: 0.6960 - val_accuracy: 0.4848\n",
            "Epoch 10/10\n",
            "4/4 [==============================] - 5s 1s/step - loss: 0.7097 - accuracy: 0.6061 - val_loss: 0.7153 - val_accuracy: 0.4545\n",
            "2/2 [==============================] - 1s 117ms/step\n"
          ]
        },
        {
          "data": {
            "image/png": "[encoded data removed]",
            "text/plain": [
              "<Figure size 200x200 with 2 Axes>"
            ]
          },
          "metadata": {},
          "output_type": "display_data"
        },
        {
          "name": "stdout",
          "output_type": "stream",
          "text": [
            "              precision    recall  f1-score   support\n",
            "\n",
            "           0       0.56      0.26      0.36        19\n",
            "           1       0.42      0.71      0.53        14\n",
            "\n",
            "    accuracy                           0.45        33\n",
            "   macro avg       0.49      0.49      0.44        33\n",
            "weighted avg       0.50      0.45      0.43        33\n",
            "\n",
            "4/4 [==============================] - 2s 408ms/step\n"
          ]
        },
        {
          "data": {
            "image/png": "[encoded data removed]",
            "text/plain": [
              "<Figure size 200x200 with 2 Axes>"
            ]
          },
          "metadata": {},
          "output_type": "display_data"
        },
        {
          "name": "stdout",
          "output_type": "stream",
          "text": [
            "              precision    recall  f1-score   support\n",
            "\n",
            "           0       0.38      0.19      0.25        48\n",
            "           1       0.47      0.70      0.56        50\n",
            "\n",
            "    accuracy                           0.45        98\n",
            "   macro avg       0.42      0.44      0.41        98\n",
            "weighted avg       0.42      0.45      0.41        98\n",
            "\n"
          ]
        }
      ],
      "source": [
        "class myCallback(tf.keras.callbacks.Callback):\n",
        "      def on_epoch_end(self, epoch, logs={}):\n",
        "        if(logs.get('val_accuracy')> 0.6 and logs.get('accuracy')> 0.6):\n",
        "              print(\"\\nAlcanzado el 85% de precisión, se cancela el entrenamiento!!\")\n",
        "              self.model.stop_training = True\n",
        "callbacks4 =myCallback()\n",
        "# history = model.fit(X_train.astype(np.float32), y_train_cat, epochs=10, validation_data=(X_val.astype(np.float32), y_val_cat), verbose=1, callbacks=[callbacks4])\n",
        "history = model.fit(X_train, y_train_cat, epochs=10, validation_data=(X_val, y_val_cat), verbose=1, callbacks=[callbacks4])\n",
        "\n",
        "# history = model.fit(X_train, y_train_cat, epochs=10, verbose=1, callbacks=[callbacks3])\n",
        "\n",
        "\n",
        "y_pred2 = [np.argmax(i) for i in model.predict(X_val)]\n",
        "show_results(y_val,y_pred2)\n",
        "\n",
        "y_test_pred2 = [np.argmax(i) for i in model.predict(x_test)]\n",
        "show_results(y_test,y_test_pred2)"
      ]
    },
    {
      "cell_type": "code",
      "execution_count": null,
      "id": "c7718133-f71d-4401-906a-c603055ceb1c",
      "metadata": {
        "colab": {
          "base_uri": "https://localhost:8080/"
        },
        "id": "c7718133-f71d-4401-906a-c603055ceb1c",
        "outputId": "9907660d-0822-4e0f-cba5-e4866e6ecd32"
      },
      "outputs": [
        {
          "output_type": "stream",
          "name": "stdout",
          "text": [
            "(1000, 1)\n",
            "Model: \"sequential\"\n",
            "_________________________________________________________________\n",
            " Layer (type)                Output Shape              Param #   \n",
            "=================================================================\n",
            " lstm (LSTM)                 (None, 64)                16896     \n",
            "                                                                 \n",
            " batch_normalization (Batch  (None, 64)                256       \n",
            " Normalization)                                                  \n",
            "                                                                 \n",
            " dense (Dense)               (None, 64)                4160      \n",
            "                                                                 \n",
            " batch_normalization_1 (Bat  (None, 64)                256       \n",
            " chNormalization)                                                \n",
            "                                                                 \n",
            " dense_1 (Dense)             (None, 2)                 130       \n",
            "                                                                 \n",
            "=================================================================\n",
            "Total params: 21698 (84.76 KB)\n",
            "Trainable params: 21442 (83.76 KB)\n",
            "Non-trainable params: 256 (1.00 KB)\n",
            "_________________________________________________________________\n"
          ]
        }
      ],
      "source": [
        "tf.keras.backend.clear_session()\n",
        "tf.random.set_seed(51)\n",
        "np.random.seed(51)\n",
        "input_shape=(X_train.shape[1],X_train.shape[2])\n",
        "\n",
        "print(input_shape)\n",
        "\n",
        "model = keras.Sequential()\n",
        "\n",
        "model.add(LSTM(64, activation='tanh',  return_sequences=False,input_shape=(input_shape)))\n",
        "\n",
        "model.add(keras.layers.BatchNormalization())\n",
        "\n",
        "model.add(Dense(64, activation='tanh'))\n",
        "model.add(keras.layers.BatchNormalization())\n",
        "\n",
        "model.add(keras.layers.Dense(2, activation=\"sigmoid\"))\n",
        "model.summary()\n",
        "\n",
        "model.compile(loss='categorical_crossentropy', optimizer='adam', metrics=['accuracy'])\n"
      ]
    },
    {
      "cell_type": "code",
      "execution_count": null,
      "id": "08270120-4508-46f7-9160-de8bdeddc9b7",
      "metadata": {
        "colab": {
          "base_uri": "https://localhost:8080/",
          "height": 1000
        },
        "id": "08270120-4508-46f7-9160-de8bdeddc9b7",
        "outputId": "c74c131e-439b-49a8-84bc-176752addbb1"
      },
      "outputs": [
        {
          "output_type": "stream",
          "name": "stdout",
          "text": [
            "Epoch 1/20\n",
            "5/5 [==============================] - ETA: 0s - loss: 0.3118 - accuracy: 0.8889\n",
            "Alcanzado el 85% de precisión, se cancela el entrenamiento!!\n",
            "5/5 [==============================] - 2s 321ms/step - loss: 0.3118 - accuracy: 0.8889 - val_loss: 0.7247 - val_accuracy: 0.6000\n",
            "2/2 [==============================] - 0s 65ms/step\n",
            "calc accuracy : 0.521255060728745\n",
            "Epoch 1/20\n",
            "5/5 [==============================] - ETA: 0s - loss: 0.2985 - accuracy: 0.8889\n",
            "Alcanzado el 85% de precisión, se cancela el entrenamiento!!\n",
            "5/5 [==============================] - 2s 354ms/step - loss: 0.2985 - accuracy: 0.8889 - val_loss: 0.7260 - val_accuracy: 0.6222\n",
            "2/2 [==============================] - 0s 66ms/step\n",
            "calc accuracy : 0.5020242914979757\n",
            "Epoch 1/20\n",
            "5/5 [==============================] - 2s 316ms/step - loss: 0.2861 - accuracy: 0.8889 - val_loss: 0.7235 - val_accuracy: 0.5778\n",
            "Epoch 2/20\n",
            "5/5 [==============================] - ETA: 0s - loss: 0.3052 - accuracy: 0.8667\n",
            "Alcanzado el 85% de precisión, se cancela el entrenamiento!!\n",
            "5/5 [==============================] - 2s 342ms/step - loss: 0.3052 - accuracy: 0.8667 - val_loss: 0.7539 - val_accuracy: 0.6000\n",
            "2/2 [==============================] - 0s 67ms/step\n",
            "calc accuracy : 0.5020242914979757\n",
            "Epoch 1/20\n",
            "5/5 [==============================] - 3s 558ms/step - loss: 0.2686 - accuracy: 0.9037 - val_loss: 0.7369 - val_accuracy: 0.5778\n",
            "Epoch 2/20\n",
            "5/5 [==============================] - 2s 344ms/step - loss: 0.2886 - accuracy: 0.8593 - val_loss: 0.7677 - val_accuracy: 0.5778\n",
            "Epoch 3/20\n",
            "5/5 [==============================] - 2s 345ms/step - loss: 0.3220 - accuracy: 0.8667 - val_loss: 0.7292 - val_accuracy: 0.5556\n",
            "Epoch 4/20\n",
            "5/5 [==============================] - ETA: 0s - loss: 0.3140 - accuracy: 0.8519\n",
            "Alcanzado el 85% de precisión, se cancela el entrenamiento!!\n",
            "5/5 [==============================] - 1s 306ms/step - loss: 0.3140 - accuracy: 0.8519 - val_loss: 0.8382 - val_accuracy: 0.6000\n",
            "2/2 [==============================] - 0s 65ms/step\n",
            "calc accuracy : 0.4949392712550607\n",
            "Epoch 1/20\n",
            "5/5 [==============================] - 2s 314ms/step - loss: 0.2592 - accuracy: 0.8815 - val_loss: 0.7924 - val_accuracy: 0.5556\n",
            "Epoch 2/20\n",
            "5/5 [==============================] - 2s 399ms/step - loss: 0.2645 - accuracy: 0.8741 - val_loss: 0.8115 - val_accuracy: 0.5778\n",
            "Epoch 3/20\n",
            "5/5 [==============================] - 3s 519ms/step - loss: 0.2689 - accuracy: 0.8889 - val_loss: 0.7720 - val_accuracy: 0.5111\n",
            "Epoch 4/20\n",
            "5/5 [==============================] - 2s 345ms/step - loss: 0.2817 - accuracy: 0.8667 - val_loss: 0.8821 - val_accuracy: 0.5333\n",
            "Epoch 5/20\n",
            "5/5 [==============================] - 2s 347ms/step - loss: 0.3986 - accuracy: 0.8074 - val_loss: 0.8435 - val_accuracy: 0.4889\n",
            "Epoch 6/20\n",
            "5/5 [==============================] - 1s 305ms/step - loss: 0.3228 - accuracy: 0.8593 - val_loss: 0.9313 - val_accuracy: 0.4889\n",
            "Epoch 7/20\n",
            "5/5 [==============================] - 2s 305ms/step - loss: 0.3367 - accuracy: 0.8593 - val_loss: 0.9152 - val_accuracy: 0.4222\n",
            "Epoch 8/20\n",
            "5/5 [==============================] - 2s 306ms/step - loss: 0.3123 - accuracy: 0.8667 - val_loss: 0.9650 - val_accuracy: 0.5556\n",
            "Epoch 9/20\n",
            "5/5 [==============================] - 2s 305ms/step - loss: 0.3344 - accuracy: 0.8370 - val_loss: 0.8485 - val_accuracy: 0.4222\n",
            "Epoch 10/20\n",
            "5/5 [==============================] - 2s 510ms/step - loss: 0.3341 - accuracy: 0.8444 - val_loss: 0.8232 - val_accuracy: 0.5333\n",
            "Epoch 11/20\n",
            "5/5 [==============================] - 2s 399ms/step - loss: 0.3051 - accuracy: 0.8741 - val_loss: 0.9345 - val_accuracy: 0.5556\n",
            "Epoch 12/20\n",
            "5/5 [==============================] - 2s 309ms/step - loss: 0.3208 - accuracy: 0.8444 - val_loss: 0.9609 - val_accuracy: 0.5333\n",
            "Epoch 13/20\n",
            "5/5 [==============================] - 2s 341ms/step - loss: 0.2903 - accuracy: 0.8519 - val_loss: 0.8921 - val_accuracy: 0.4889\n",
            "Epoch 14/20\n",
            "5/5 [==============================] - 2s 345ms/step - loss: 0.3432 - accuracy: 0.8519 - val_loss: 1.0509 - val_accuracy: 0.4444\n",
            "Epoch 15/20\n",
            "5/5 [==============================] - 2s 308ms/step - loss: 0.3302 - accuracy: 0.8444 - val_loss: 1.0891 - val_accuracy: 0.4889\n",
            "Epoch 16/20\n",
            "5/5 [==============================] - 2s 309ms/step - loss: 0.3449 - accuracy: 0.8667 - val_loss: 1.0917 - val_accuracy: 0.4000\n",
            "Epoch 17/20\n",
            "5/5 [==============================] - 2s 349ms/step - loss: 0.2947 - accuracy: 0.8741 - val_loss: 1.0717 - val_accuracy: 0.4222\n",
            "Epoch 18/20\n",
            "5/5 [==============================] - 3s 525ms/step - loss: 0.3280 - accuracy: 0.8593 - val_loss: 1.0701 - val_accuracy: 0.4667\n",
            "Epoch 19/20\n",
            "5/5 [==============================] - 2s 306ms/step - loss: 0.3102 - accuracy: 0.8815 - val_loss: 1.0505 - val_accuracy: 0.4222\n",
            "Epoch 20/20\n",
            "5/5 [==============================] - 2s 306ms/step - loss: 0.2600 - accuracy: 0.8815 - val_loss: 1.0118 - val_accuracy: 0.4444\n",
            "2/2 [==============================] - 0s 66ms/step\n",
            "calc accuracy : 0.5222672064777327\n",
            "Epoch 1/20\n",
            "5/5 [==============================] - 2s 447ms/step - loss: 0.2098 - accuracy: 0.9111 - val_loss: 1.0230 - val_accuracy: 0.4444\n",
            "Epoch 2/20\n",
            "5/5 [==============================] - 2s 471ms/step - loss: 0.2094 - accuracy: 0.9111 - val_loss: 1.0800 - val_accuracy: 0.4222\n",
            "Epoch 3/20\n",
            "5/5 [==============================] - 2s 340ms/step - loss: 0.2041 - accuracy: 0.9185 - val_loss: 1.1308 - val_accuracy: 0.4444\n",
            "Epoch 4/20\n",
            "5/5 [==============================] - 2s 305ms/step - loss: 0.2023 - accuracy: 0.9111 - val_loss: 1.0847 - val_accuracy: 0.4667\n",
            "Epoch 5/20\n",
            "5/5 [==============================] - 2s 307ms/step - loss: 0.2653 - accuracy: 0.8815 - val_loss: 1.1650 - val_accuracy: 0.4444\n",
            "Epoch 6/20\n",
            "5/5 [==============================] - 2s 343ms/step - loss: 0.2215 - accuracy: 0.8963 - val_loss: 1.2245 - val_accuracy: 0.4222\n",
            "Epoch 7/20\n",
            "5/5 [==============================] - 2s 307ms/step - loss: 0.2015 - accuracy: 0.9333 - val_loss: 1.3732 - val_accuracy: 0.3778\n",
            "Epoch 8/20\n",
            "5/5 [==============================] - 2s 343ms/step - loss: 0.2198 - accuracy: 0.9185 - val_loss: 1.3386 - val_accuracy: 0.4000\n",
            "Epoch 9/20\n",
            "5/5 [==============================] - 3s 548ms/step - loss: 0.2058 - accuracy: 0.9259 - val_loss: 1.3064 - val_accuracy: 0.4889\n",
            "Epoch 10/20\n",
            "5/5 [==============================] - 2s 341ms/step - loss: 0.2028 - accuracy: 0.9111 - val_loss: 1.2219 - val_accuracy: 0.4889\n",
            "Epoch 11/20\n",
            "5/5 [==============================] - 1s 302ms/step - loss: 0.1685 - accuracy: 0.9481 - val_loss: 1.2151 - val_accuracy: 0.4667\n",
            "Epoch 12/20\n",
            "5/5 [==============================] - 2s 307ms/step - loss: 0.1753 - accuracy: 0.9259 - val_loss: 1.2327 - val_accuracy: 0.4889\n",
            "Epoch 13/20\n",
            "5/5 [==============================] - 2s 308ms/step - loss: 0.1466 - accuracy: 0.9556 - val_loss: 1.2796 - val_accuracy: 0.4444\n",
            "Epoch 14/20\n",
            "5/5 [==============================] - 2s 309ms/step - loss: 0.2072 - accuracy: 0.9185 - val_loss: 1.4095 - val_accuracy: 0.4444\n",
            "Epoch 15/20\n",
            "5/5 [==============================] - 2s 303ms/step - loss: 0.1962 - accuracy: 0.9259 - val_loss: 1.3916 - val_accuracy: 0.4889\n",
            "Epoch 16/20\n",
            "5/5 [==============================] - 2s 314ms/step - loss: 0.2169 - accuracy: 0.9037 - val_loss: 1.4152 - val_accuracy: 0.4444\n",
            "Epoch 17/20\n",
            "5/5 [==============================] - 3s 532ms/step - loss: 0.1810 - accuracy: 0.9259 - val_loss: 1.5226 - val_accuracy: 0.4000\n",
            "Epoch 18/20\n",
            "5/5 [==============================] - 2s 315ms/step - loss: 0.1974 - accuracy: 0.9037 - val_loss: 1.5608 - val_accuracy: 0.4222\n",
            "Epoch 19/20\n",
            "5/5 [==============================] - 2s 343ms/step - loss: 0.2355 - accuracy: 0.8889 - val_loss: 1.3700 - val_accuracy: 0.5333\n",
            "Epoch 20/20\n",
            "5/5 [==============================] - 2s 307ms/step - loss: 0.1417 - accuracy: 0.9630 - val_loss: 1.3550 - val_accuracy: 0.4889\n",
            "2/2 [==============================] - 0s 66ms/step\n",
            "calc accuracy : 0.5253036437246963\n",
            "Epoch 1/20\n",
            "5/5 [==============================] - 2s 317ms/step - loss: 0.1244 - accuracy: 0.9630 - val_loss: 1.5158 - val_accuracy: 0.4889\n",
            "Epoch 2/20\n",
            "5/5 [==============================] - 2s 341ms/step - loss: 0.1135 - accuracy: 0.9630 - val_loss: 1.5717 - val_accuracy: 0.4889\n",
            "Epoch 3/20\n",
            "5/5 [==============================] - 2s 307ms/step - loss: 0.1129 - accuracy: 0.9778 - val_loss: 1.5084 - val_accuracy: 0.5111\n",
            "Epoch 4/20\n",
            "5/5 [==============================] - 2s 479ms/step - loss: 0.1157 - accuracy: 0.9630 - val_loss: 1.5156 - val_accuracy: 0.5111\n",
            "Epoch 5/20\n",
            "5/5 [==============================] - 2s 445ms/step - loss: 0.1344 - accuracy: 0.9407 - val_loss: 1.6604 - val_accuracy: 0.4222\n",
            "Epoch 6/20\n",
            "5/5 [==============================] - 1s 304ms/step - loss: 0.1319 - accuracy: 0.9407 - val_loss: 1.8265 - val_accuracy: 0.4222\n",
            "Epoch 7/20\n",
            "5/5 [==============================] - 2s 306ms/step - loss: 0.1136 - accuracy: 0.9778 - val_loss: 2.1100 - val_accuracy: 0.3556\n",
            "Epoch 8/20\n",
            "5/5 [==============================] - 2s 306ms/step - loss: 0.1487 - accuracy: 0.9259 - val_loss: 1.9118 - val_accuracy: 0.4667\n",
            "Epoch 9/20\n",
            "5/5 [==============================] - 2s 314ms/step - loss: 0.1482 - accuracy: 0.9333 - val_loss: 1.7569 - val_accuracy: 0.5111\n",
            "Epoch 10/20\n",
            "5/5 [==============================] - 2s 342ms/step - loss: 0.1295 - accuracy: 0.9630 - val_loss: 1.8178 - val_accuracy: 0.4444\n",
            "Epoch 11/20\n",
            "5/5 [==============================] - 2s 304ms/step - loss: 0.0974 - accuracy: 0.9704 - val_loss: 1.9195 - val_accuracy: 0.4667\n",
            "Epoch 12/20\n",
            "5/5 [==============================] - 2s 548ms/step - loss: 0.0902 - accuracy: 0.9778 - val_loss: 1.7630 - val_accuracy: 0.5333\n",
            "Epoch 13/20\n",
            "5/5 [==============================] - 2s 366ms/step - loss: 0.0803 - accuracy: 0.9630 - val_loss: 1.9124 - val_accuracy: 0.4444\n",
            "Epoch 14/20\n",
            "5/5 [==============================] - 2s 344ms/step - loss: 0.1489 - accuracy: 0.9333 - val_loss: 2.0184 - val_accuracy: 0.4667\n",
            "Epoch 15/20\n",
            "5/5 [==============================] - 2s 340ms/step - loss: 0.0962 - accuracy: 0.9778 - val_loss: 1.7478 - val_accuracy: 0.4667\n",
            "Epoch 16/20\n",
            "5/5 [==============================] - 2s 306ms/step - loss: 0.1056 - accuracy: 0.9556 - val_loss: 2.0207 - val_accuracy: 0.4444\n",
            "Epoch 17/20\n",
            "5/5 [==============================] - 2s 306ms/step - loss: 0.1091 - accuracy: 0.9556 - val_loss: 2.0218 - val_accuracy: 0.4667\n",
            "Epoch 18/20\n",
            "5/5 [==============================] - 2s 308ms/step - loss: 0.1306 - accuracy: 0.9259 - val_loss: 2.0783 - val_accuracy: 0.4889\n",
            "Epoch 19/20\n",
            "5/5 [==============================] - 2s 368ms/step - loss: 0.1398 - accuracy: 0.9407 - val_loss: 1.9682 - val_accuracy: 0.4889\n",
            "Epoch 20/20\n",
            "5/5 [==============================] - 3s 552ms/step - loss: 0.0669 - accuracy: 0.9778 - val_loss: 1.8009 - val_accuracy: 0.4667\n",
            "2/2 [==============================] - 0s 66ms/step\n",
            "calc accuracy : 0.5323886639676113\n"
          ]
        },
        {
          "output_type": "display_data",
          "data": {
            "text/plain": [
              "<Figure size 200x200 with 2 Axes>"
            ],
            "image/png": "[encoded data removed]"
          },
          "metadata": {}
        },
        {
          "output_type": "stream",
          "name": "stdout",
          "text": [
            "[[14 12]\n",
            " [ 9 10]]\n",
            "              precision    recall  f1-score   support\n",
            "\n",
            "           0       0.61      0.54      0.57        26\n",
            "           1       0.45      0.53      0.49        19\n",
            "\n",
            "    accuracy                           0.53        45\n",
            "   macro avg       0.53      0.53      0.53        45\n",
            "weighted avg       0.54      0.53      0.54        45\n",
            "\n"
          ]
        }
      ],
      "source": [
        "from keras.callbacks import CSVLogger\n",
        "\n",
        "class myCallback(tf.keras.callbacks.Callback):\n",
        "      def on_epoch_end(self, epoch, logs={}):\n",
        "        if(logs.get('val_accuracy')> 0.58 and logs.get('accuracy')> 0.67):\n",
        "              print(\"\\nAlcanzado el 85% de precisión, se cancela el entrenamiento!!\")\n",
        "              self.model.stop_training = True\n",
        "callbacks5 =myCallback()\n",
        "csv_logger = CSVLogger('training.log', separator=',', append=False)\n",
        "\n",
        "\n",
        "\n",
        "\n",
        "\n",
        "j=0\n",
        "acc=0\n",
        "while j<10 and acc<0.53:\n",
        "    j=j+1\n",
        "    # history = model.fit(X_train.astype(np.float32), y_train_cat, epochs=10, validation_data=(X_val.astype(np.float32), y_val_cat), verbose=1, callbacks=[callbacks4])\n",
        "    history = model.fit(X_train, y_train_cat, epochs=20, validation_data=(X_val, y_val_cat), verbose=1, callbacks=[callbacks5,csv_logger])\n",
        "\n",
        "    # y_pred2 = [np.argmax(i) for i in model.predict(X_val)]\n",
        "    # show_results(y_val,y_pred2)\n",
        "\n",
        "\n",
        "    y_test_pred2 = [np.argmax(i) for i in model.predict(X_test)]\n",
        "    acc = get_accuraccy(y_test,y_test_pred2)\n",
        "\n",
        "show_results(y_test,y_test_pred2)\n"
      ]
    },
    {
      "cell_type": "code",
      "execution_count": null,
      "id": "03c04888-fc51-494f-bf1a-fa5c356180f1",
      "metadata": {
        "id": "03c04888-fc51-494f-bf1a-fa5c356180f1"
      },
      "outputs": [],
      "source": []
    },
    {
      "cell_type": "code",
      "execution_count": null,
      "id": "d2f8b686-4787-441b-9f64-358530267ac5",
      "metadata": {
        "id": "d2f8b686-4787-441b-9f64-358530267ac5"
      },
      "outputs": [],
      "source": [
        "# model.save('model_silvia_raw_11_model5_1000m_1000len_acc84_val60_alltestbal67.keras')\n",
        "# model = keras.models.load_model('model_javier_raw_03_.keras')\n",
        "model.save('model_javier_raw_20_model5_mixtesttrain_60.keras')"
      ]
    },
    {
      "cell_type": "code",
      "execution_count": null,
      "id": "5cd01030-a036-450d-8dd0-c2175733fe64",
      "metadata": {
        "id": "5cd01030-a036-450d-8dd0-c2175733fe64",
        "outputId": "6835ab77-33ef-41bb-e784-7414aaad7911"
      },
      "outputs": [
        {
          "name": "stdout",
          "output_type": "stream",
          "text": [
            "1/1 [==============================] - 1s 629ms/step\n"
          ]
        }
      ],
      "source": []
    },
    {
      "cell_type": "code",
      "execution_count": null,
      "id": "30418b70-1c35-42c4-89a1-1aac472a7866",
      "metadata": {
        "id": "30418b70-1c35-42c4-89a1-1aac472a7866"
      },
      "outputs": [],
      "source": [
        "y_pred = model.predict(X_val)\n",
        "y_pred2 = [np.argmax(i) for i in y_pred]\n",
        "# y_val2=  [np.argmax(i) for i in y_val_cat]\n",
        "show_results(y_val,y_pred2)"
      ]
    },
    {
      "cell_type": "code",
      "execution_count": null,
      "id": "c2cc8cbc-e898-4660-9d1d-0aa69c77a7c5",
      "metadata": {
        "id": "c2cc8cbc-e898-4660-9d1d-0aa69c77a7c5"
      },
      "outputs": [],
      "source": []
    },
    {
      "cell_type": "code",
      "execution_count": null,
      "id": "062af493-6a8c-4634-9f28-17a1080ed9f8",
      "metadata": {
        "id": "062af493-6a8c-4634-9f28-17a1080ed9f8"
      },
      "outputs": [],
      "source": [
        "\n"
      ]
    },
    {
      "cell_type": "code",
      "execution_count": null,
      "id": "99e6d21b-1628-46d4-bec9-1c6c701018ec",
      "metadata": {
        "id": "99e6d21b-1628-46d4-bec9-1c6c701018ec"
      },
      "outputs": [],
      "source": []
    },
    {
      "cell_type": "code",
      "execution_count": null,
      "id": "c1053def-4127-41a1-bdd8-8089c2679b55",
      "metadata": {
        "id": "c1053def-4127-41a1-bdd8-8089c2679b55",
        "outputId": "f5b34e32-2464-4acc-d59f-faaa784cb106"
      },
      "outputs": [
        {
          "name": "stdout",
          "output_type": "stream",
          "text": [
            "Epoch 1/10\n",
            "6/6 [==============================] - 5s 768ms/step - loss: 0.0861 - accuracy: 0.9885 - val_loss: 0.7630 - val_accuracy: 0.6552\n",
            "Epoch 2/10\n",
            "6/6 [==============================] - 4s 756ms/step - loss: 0.0886 - accuracy: 0.9885 - val_loss: 0.8939 - val_accuracy: 0.6207\n",
            "Epoch 3/10\n",
            "6/6 [==============================] - ETA: 0s - loss: 0.0675 - accuracy: 0.9885\n",
            "Alcanzado el 85% de precisión, se cancela el entrenamiento!!\n",
            "6/6 [==============================] - 6s 1s/step - loss: 0.0675 - accuracy: 0.9885 - val_loss: 0.8050 - val_accuracy: 0.6897\n"
          ]
        }
      ],
      "source": [
        "history = model.fit(X_train, y_train_cat, epochs=10, batch_size=16, validation_data=(X_val, y_val_cat), shuffle=True, callbacks=[callbacks])\n"
      ]
    },
    {
      "cell_type": "code",
      "execution_count": null,
      "id": "5820476a-bbc8-47de-8c93-9fc2fd7dab10",
      "metadata": {
        "id": "5820476a-bbc8-47de-8c93-9fc2fd7dab10"
      },
      "outputs": [],
      "source": [
        " # model.save('model_javier_raw_05_7train_acc93_val756_alltest60.keras')\n",
        "model = keras.models.load_model('model_javier_raw_05_7train_acc93_val75_alltest62.keras') # 750 muestras\n",
        "# model = keras.models.load_model('model_javier_raw_03_4train_acc85_val85_test62.keras')\n",
        "# model = keras.models.load_model('model_javier_raw_04_7train_acc86_val56_alltest60.keras')"
      ]
    },
    {
      "cell_type": "code",
      "execution_count": null,
      "id": "8d73ca6d-d7bb-49e0-9ac1-375f34a2e8cd",
      "metadata": {
        "id": "8d73ca6d-d7bb-49e0-9ac1-375f34a2e8cd",
        "outputId": "f06f2e61-48e0-4e4f-e6eb-698a31b77425"
      },
      "outputs": [
        {
          "name": "stdout",
          "output_type": "stream",
          "text": [
            "(None, 350, 1) <dtype: 'float32'>\n",
            "(None, 2) <dtype: 'float32'>\n",
            "lstm (None, 350, 1) float32\n",
            "lstm_1 (None, 350, 32) float32\n",
            "lstm_2 (None, 350, 32) float32\n",
            "batch_normalization (None, 32) float32\n",
            "dense (None, 32) float32\n",
            "batch_normalization_1 (None, 64) float32\n",
            "dense_1 (None, 64) float32\n",
            "batch_normalization_2 (None, 64) float32\n",
            "dense_2 (None, 64) float32\n"
          ]
        },
        {
          "data": {
            "text/plain": [
              "[None, None, None, None, None, None, None, None, None]"
            ]
          },
          "execution_count": 45,
          "metadata": {},
          "output_type": "execute_result"
        }
      ],
      "source": [
        "[print(i.shape, i.dtype) for i in model.inputs]\n",
        "[print(o.shape, o.dtype) for o in model.outputs]\n",
        "[print(l.name, l.input_shape, l.dtype) for l in model.layers]"
      ]
    },
    {
      "cell_type": "code",
      "execution_count": null,
      "id": "dc02a427-e16b-4326-80ec-86d785a8789a",
      "metadata": {
        "id": "dc02a427-e16b-4326-80ec-86d785a8789a",
        "outputId": "5908b52a-a525-4a4c-a415-aef38bd9fc29"
      },
      "outputs": [
        {
          "ename": "ValueError",
          "evalue": "in user code:\n\n    File \"C:\\Users\\javis\\anaconda3\\lib\\site-packages\\keras\\src\\engine\\training.py\", line 2416, in predict_function  *\n        return step_function(self, iterator)\n    File \"C:\\Users\\javis\\anaconda3\\lib\\site-packages\\keras\\src\\engine\\training.py\", line 2401, in step_function  **\n        outputs = model.distribute_strategy.run(run_step, args=(data,))\n    File \"C:\\Users\\javis\\anaconda3\\lib\\site-packages\\keras\\src\\engine\\training.py\", line 2389, in run_step  **\n        outputs = model.predict_step(data)\n    File \"C:\\Users\\javis\\anaconda3\\lib\\site-packages\\keras\\src\\engine\\training.py\", line 2357, in predict_step\n        return self(x, training=False)\n    File \"C:\\Users\\javis\\anaconda3\\lib\\site-packages\\keras\\src\\utils\\traceback_utils.py\", line 70, in error_handler\n        raise e.with_traceback(filtered_tb) from None\n    File \"C:\\Users\\javis\\anaconda3\\lib\\site-packages\\keras\\src\\engine\\input_spec.py\", line 298, in assert_input_compatibility\n        raise ValueError(\n\n    ValueError: Input 0 of layer \"sequential\" is incompatible with the layer: expected shape=(None, 350, 1), found shape=(None, 1000, 1)\n",
          "output_type": "error",
          "traceback": [
            "\u001b[1;31m---------------------------------------------------------------------------\u001b[0m",
            "\u001b[1;31mValueError\u001b[0m                                Traceback (most recent call last)",
            "\u001b[1;32m~\\AppData\\Local\\Temp\\ipykernel_13424\\2494243885.py\u001b[0m in \u001b[0;36m<module>\u001b[1;34m\u001b[0m\n\u001b[0;32m      8\u001b[0m \u001b[1;33m\u001b[0m\u001b[0m\n\u001b[0;32m      9\u001b[0m \u001b[1;31m# model = history.model\u001b[0m\u001b[1;33m\u001b[0m\u001b[1;33m\u001b[0m\u001b[0m\n\u001b[1;32m---> 10\u001b[1;33m \u001b[0my_test_pred\u001b[0m \u001b[1;33m=\u001b[0m \u001b[0mmodel\u001b[0m\u001b[1;33m.\u001b[0m\u001b[0mpredict\u001b[0m\u001b[1;33m(\u001b[0m\u001b[0mx_test\u001b[0m\u001b[1;33m)\u001b[0m\u001b[1;33m\u001b[0m\u001b[1;33m\u001b[0m\u001b[0m\n\u001b[0m\u001b[0;32m     11\u001b[0m \u001b[0my_test_pred2\u001b[0m \u001b[1;33m=\u001b[0m \u001b[1;33m[\u001b[0m\u001b[0mnp\u001b[0m\u001b[1;33m.\u001b[0m\u001b[0margmax\u001b[0m\u001b[1;33m(\u001b[0m\u001b[0mi\u001b[0m\u001b[1;33m)\u001b[0m \u001b[1;32mfor\u001b[0m \u001b[0mi\u001b[0m \u001b[1;32min\u001b[0m \u001b[0my_test_pred\u001b[0m\u001b[1;33m]\u001b[0m\u001b[1;33m\u001b[0m\u001b[1;33m\u001b[0m\u001b[0m\n\u001b[0;32m     12\u001b[0m \u001b[0mshow_results\u001b[0m\u001b[1;33m(\u001b[0m\u001b[0my_test\u001b[0m\u001b[1;33m,\u001b[0m\u001b[0my_test_pred2\u001b[0m\u001b[1;33m)\u001b[0m\u001b[1;33m\u001b[0m\u001b[1;33m\u001b[0m\u001b[0m\n",
            "\u001b[1;32m~\\anaconda3\\lib\\site-packages\\keras\\src\\utils\\traceback_utils.py\u001b[0m in \u001b[0;36merror_handler\u001b[1;34m(*args, **kwargs)\u001b[0m\n\u001b[0;32m     68\u001b[0m             \u001b[1;31m# To get the full stack trace, call:\u001b[0m\u001b[1;33m\u001b[0m\u001b[1;33m\u001b[0m\u001b[0m\n\u001b[0;32m     69\u001b[0m             \u001b[1;31m# `tf.debugging.disable_traceback_filtering()`\u001b[0m\u001b[1;33m\u001b[0m\u001b[1;33m\u001b[0m\u001b[0m\n\u001b[1;32m---> 70\u001b[1;33m             \u001b[1;32mraise\u001b[0m \u001b[0me\u001b[0m\u001b[1;33m.\u001b[0m\u001b[0mwith_traceback\u001b[0m\u001b[1;33m(\u001b[0m\u001b[0mfiltered_tb\u001b[0m\u001b[1;33m)\u001b[0m \u001b[1;32mfrom\u001b[0m \u001b[1;32mNone\u001b[0m\u001b[1;33m\u001b[0m\u001b[1;33m\u001b[0m\u001b[0m\n\u001b[0m\u001b[0;32m     71\u001b[0m         \u001b[1;32mfinally\u001b[0m\u001b[1;33m:\u001b[0m\u001b[1;33m\u001b[0m\u001b[1;33m\u001b[0m\u001b[0m\n\u001b[0;32m     72\u001b[0m             \u001b[1;32mdel\u001b[0m \u001b[0mfiltered_tb\u001b[0m\u001b[1;33m\u001b[0m\u001b[1;33m\u001b[0m\u001b[0m\n",
            "\u001b[1;32m~\\anaconda3\\lib\\site-packages\\keras\\src\\engine\\training.py\u001b[0m in \u001b[0;36mtf__predict_function\u001b[1;34m(iterator)\u001b[0m\n\u001b[0;32m     13\u001b[0m                 \u001b[1;32mtry\u001b[0m\u001b[1;33m:\u001b[0m\u001b[1;33m\u001b[0m\u001b[1;33m\u001b[0m\u001b[0m\n\u001b[0;32m     14\u001b[0m                     \u001b[0mdo_return\u001b[0m \u001b[1;33m=\u001b[0m \u001b[1;32mTrue\u001b[0m\u001b[1;33m\u001b[0m\u001b[1;33m\u001b[0m\u001b[0m\n\u001b[1;32m---> 15\u001b[1;33m                     \u001b[0mretval_\u001b[0m \u001b[1;33m=\u001b[0m \u001b[0mag__\u001b[0m\u001b[1;33m.\u001b[0m\u001b[0mconverted_call\u001b[0m\u001b[1;33m(\u001b[0m\u001b[0mag__\u001b[0m\u001b[1;33m.\u001b[0m\u001b[0mld\u001b[0m\u001b[1;33m(\u001b[0m\u001b[0mstep_function\u001b[0m\u001b[1;33m)\u001b[0m\u001b[1;33m,\u001b[0m \u001b[1;33m(\u001b[0m\u001b[0mag__\u001b[0m\u001b[1;33m.\u001b[0m\u001b[0mld\u001b[0m\u001b[1;33m(\u001b[0m\u001b[0mself\u001b[0m\u001b[1;33m)\u001b[0m\u001b[1;33m,\u001b[0m \u001b[0mag__\u001b[0m\u001b[1;33m.\u001b[0m\u001b[0mld\u001b[0m\u001b[1;33m(\u001b[0m\u001b[0miterator\u001b[0m\u001b[1;33m)\u001b[0m\u001b[1;33m)\u001b[0m\u001b[1;33m,\u001b[0m \u001b[1;32mNone\u001b[0m\u001b[1;33m,\u001b[0m \u001b[0mfscope\u001b[0m\u001b[1;33m)\u001b[0m\u001b[1;33m\u001b[0m\u001b[1;33m\u001b[0m\u001b[0m\n\u001b[0m\u001b[0;32m     16\u001b[0m                 \u001b[1;32mexcept\u001b[0m\u001b[1;33m:\u001b[0m\u001b[1;33m\u001b[0m\u001b[1;33m\u001b[0m\u001b[0m\n\u001b[0;32m     17\u001b[0m                     \u001b[0mdo_return\u001b[0m \u001b[1;33m=\u001b[0m \u001b[1;32mFalse\u001b[0m\u001b[1;33m\u001b[0m\u001b[1;33m\u001b[0m\u001b[0m\n",
            "\u001b[1;31mValueError\u001b[0m: in user code:\n\n    File \"C:\\Users\\javis\\anaconda3\\lib\\site-packages\\keras\\src\\engine\\training.py\", line 2416, in predict_function  *\n        return step_function(self, iterator)\n    File \"C:\\Users\\javis\\anaconda3\\lib\\site-packages\\keras\\src\\engine\\training.py\", line 2401, in step_function  **\n        outputs = model.distribute_strategy.run(run_step, args=(data,))\n    File \"C:\\Users\\javis\\anaconda3\\lib\\site-packages\\keras\\src\\engine\\training.py\", line 2389, in run_step  **\n        outputs = model.predict_step(data)\n    File \"C:\\Users\\javis\\anaconda3\\lib\\site-packages\\keras\\src\\engine\\training.py\", line 2357, in predict_step\n        return self(x, training=False)\n    File \"C:\\Users\\javis\\anaconda3\\lib\\site-packages\\keras\\src\\utils\\traceback_utils.py\", line 70, in error_handler\n        raise e.with_traceback(filtered_tb) from None\n    File \"C:\\Users\\javis\\anaconda3\\lib\\site-packages\\keras\\src\\engine\\input_spec.py\", line 298, in assert_input_compatibility\n        raise ValueError(\n\n    ValueError: Input 0 of layer \"sequential\" is incompatible with the layer: expected shape=(None, 350, 1), found shape=(None, 1000, 1)\n"
          ]
        }
      ],
      "source": [
        " # model.save('model_javier_raw_05_7train_acc93_val756_alltest60.keras')\n",
        "# model = keras.models.load_model('model_javier_raw_19_model5_1000m_acc100_val40_alltest58.keras')\n",
        "model = keras.models.load_model('model_silvia_raw_05_model5_1050m_acc98_val60_alltest58.keras')\n",
        "\n",
        "# model = keras.models.load_model('model_javier_raw_03_4train_acc85_val85_test62.keras')\n",
        "# model = keras.models.load_model('model_javier_raw_04_7train_acc86_val56_alltest60.keras') #57\n",
        "# model = keras.models.load_model('model_javier_raw_06_alltest51.keras')\n",
        "\n",
        "# model = history.model\n",
        "y_test_pred = model.predict(x_test)\n",
        "y_test_pred2 = [np.argmax(i) for i in y_test_pred]\n",
        "show_results(y_test,y_test_pred2)\n",
        "print(model.metrics_names)\n",
        "model.summary()\n",
        "model.to_json()"
      ]
    },
    {
      "cell_type": "code",
      "execution_count": null,
      "id": "cdf1db8f-14a1-41dd-bd58-f98a34e72cf3",
      "metadata": {
        "id": "cdf1db8f-14a1-41dd-bd58-f98a34e72cf3"
      },
      "outputs": [],
      "source": [
        "# y_test_pred\n",
        "# y_val2=  [np.argmax(i) for i in y_val_cat]\n",
        "# y_test_pred2\n",
        "# y_test,y_test_raw\n",
        "# [np.argmax(i) for i in y_test_raw]\n",
        "\n",
        "# y_test\n",
        "# y_test_pred2"
      ]
    },
    {
      "cell_type": "code",
      "execution_count": null,
      "id": "7bf687b1-34bf-4e24-830f-0bf7fff5db72",
      "metadata": {
        "id": "7bf687b1-34bf-4e24-830f-0bf7fff5db72"
      },
      "outputs": [],
      "source": []
    },
    {
      "cell_type": "code",
      "execution_count": null,
      "id": "a8c07b63-15d4-420a-bb14-2f84c1d21479",
      "metadata": {
        "id": "a8c07b63-15d4-420a-bb14-2f84c1d21479"
      },
      "outputs": [],
      "source": [
        "# y_test"
      ]
    },
    {
      "cell_type": "code",
      "execution_count": null,
      "id": "65167283-310e-4724-bfd9-089ab1d37764",
      "metadata": {
        "id": "65167283-310e-4724-bfd9-089ab1d37764"
      },
      "outputs": [],
      "source": []
    }
  ],
  "metadata": {
    "kernelspec": {
      "display_name": "Python 3",
      "name": "python3"
    },
    "language_info": {
      "codemirror_mode": {
        "name": "ipython",
        "version": 3
      },
      "file_extension": ".py",
      "mimetype": "text/x-python",
      "name": "python",
      "nbconvert_exporter": "python",
      "pygments_lexer": "ipython3",
      "version": "3.9.13"
    },
    "colab": {
      "provenance": [],
      "gpuType": "T4"
    },
    "accelerator": "GPU"
  },
  "nbformat": 4,
  "nbformat_minor": 5
}