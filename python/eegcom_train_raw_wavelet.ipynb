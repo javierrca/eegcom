{
  "cells": [
    {
      "cell_type": "code",
      "execution_count": 1,
      "id": "de275c24-3b61-45b0-a807-3d4a8b8fa233",
      "metadata": {
        "id": "de275c24-3b61-45b0-a807-3d4a8b8fa233"
      },
      "outputs": [],
      "source": [
        "import pandas as pd\n",
        "import keras as keras\n",
        "import os\n",
        "import librosa\n",
        "import librosa.display\n",
        "import matplotlib.pyplot as plt\n",
        "from sklearn.model_selection import train_test_split\n",
        "from sklearn.preprocessing import normalize\n",
        "import warnings\n",
        "warnings.filterwarnings('ignore')\n",
        "from sklearn.model_selection import train_test_split\n",
        "import tensorflow\n",
        "from tensorflow.keras.layers import LSTM, Dense\n",
        "import tensorflow as tf\n",
        "import glob\n",
        "import numpy as np\n",
        "import matplotlib.pyplot as plt\n",
        "import csv\n",
        "import seaborn as sns\n",
        "import matplotlib.pyplot as plt\n",
        "import numpy as np\n",
        "from scipy import signal"
      ]
    },
    {
      "cell_type": "code",
      "source": [
        "prefix=''"
      ],
      "metadata": {
        "id": "_B3W7ft6JWud"
      },
      "id": "_B3W7ft6JWud",
      "execution_count": null,
      "outputs": []
    },
    {
      "cell_type": "code",
      "source": [
        "from google.colab import drive\n",
        "drive.mount('/content/drive')\n",
        "!cd '/content/drive/MyDrive/OKN/Master IA/Master IA/TFM/mindwave/FASE3' && pwd\n",
        "prefix= '/drive/MyDrive/OKN/Master IA/Master IA/TFM/mindwave/FASE3'\n"
      ],
      "metadata": {
        "colab": {
          "base_uri": "https://localhost:8080/"
        },
        "id": "K-B5pDrxHd1k",
        "outputId": "c4b95165-9a53-4128-e246-df774d06ff76"
      },
      "id": "K-B5pDrxHd1k",
      "execution_count": 2,
      "outputs": [
        {
          "output_type": "stream",
          "name": "stdout",
          "text": [
            "Mounted at /content/drive\n",
            "/content/drive/MyDrive/OKN/Master IA/Master IA/TFM/mindwave/FASE3\n"
          ]
        }
      ]
    },
    {
      "cell_type": "code",
      "source": [],
      "metadata": {
        "id": "lDEKRGfCZtvq"
      },
      "id": "lDEKRGfCZtvq",
      "execution_count": 30,
      "outputs": []
    },
    {
      "cell_type": "code",
      "source": [
        "import glob\n",
        "!git clone https://github.com/javierrca/eegcom.git\n",
        "ds_path = \"/content/eegcom/dataset\"\n",
        "person_code = \"01\"\n",
        "base_path = ds_path + \"/\" + person_code\n",
        "print('\\nNamed with wildcard *:')\n",
        "paths=[]\n",
        "for name in glob.glob(base_path+'/*',recursive = True):\n",
        "  paths.append(name+\"/\")\n",
        "\n",
        "print(paths)\n",
        "\n",
        "!cd paths[0] && ls -l"
      ],
      "metadata": {
        "colab": {
          "base_uri": "https://localhost:8080/"
        },
        "id": "-DKKatpgaWKW",
        "outputId": "3d95d7ce-6060-465a-85d1-8a5ec76756fc"
      },
      "id": "-DKKatpgaWKW",
      "execution_count": 32,
      "outputs": [
        {
          "output_type": "stream",
          "name": "stdout",
          "text": [
            "Cloning into 'eegcom'...\n",
            "remote: Enumerating objects: 1572, done.\u001b[K\n",
            "remote: Counting objects: 100% (1572/1572), done.\u001b[K\n",
            "remote: Compressing objects: 100% (1482/1482), done.\u001b[K\n",
            "remote: Total 1572 (delta 74), reused 1569 (delta 74), pack-reused 0\u001b[K\n",
            "Receiving objects: 100% (1572/1572), 10.08 MiB | 12.90 MiB/s, done.\n",
            "Resolving deltas: 100% (74/74), done.\n",
            "\n",
            "Named with wildcard *:\n",
            "['/content/eegcom/dataset/01/ses18/', '/content/eegcom/dataset/01/ses06/', '/content/eegcom/dataset/01/ses09/', '/content/eegcom/dataset/01/ses13/', '/content/eegcom/dataset/01/ses04/', '/content/eegcom/dataset/01/ses10/', '/content/eegcom/dataset/01/ses05/', '/content/eegcom/dataset/01/ses12/', '/content/eegcom/dataset/01/ses17/', '/content/eegcom/dataset/01/ses21/', '/content/eegcom/dataset/01/ses20/', '/content/eegcom/dataset/01/ses01/', '/content/eegcom/dataset/01/ses02/', '/content/eegcom/dataset/01/ses07/', '/content/eegcom/dataset/01/ses15/', '/content/eegcom/dataset/01/ses19/', '/content/eegcom/dataset/01/ses16/', '/content/eegcom/dataset/01/ses23/', '/content/eegcom/dataset/01/ses22/', '/content/eegcom/dataset/01/ses14/', '/content/eegcom/dataset/01/ses08/', '/content/eegcom/dataset/01/ses11/', '/content/eegcom/dataset/01/ses03/']\n",
            "/bin/bash: line 1: cd: paths[0]: No such file or directory\n"
          ]
        }
      ]
    },
    {
      "cell_type": "code",
      "source": [
        "! cd /content/eegcom/dataset/01/ses18/ && ls -l"
      ],
      "metadata": {
        "colab": {
          "base_uri": "https://localhost:8080/"
        },
        "id": "Yq-RE0NRdg78",
        "outputId": "21afc3ed-1b70-4968-b44e-ccdb939f4b80"
      },
      "id": "Yq-RE0NRdg78",
      "execution_count": 20,
      "outputs": [
        {
          "output_type": "stream",
          "name": "stdout",
          "text": [
            "total 300\n",
            "-rw-r--r-- 1 root root   740 Feb  2 10:39 01_01_EEGPOW_100.csv\n",
            "-rw-r--r-- 1 root root 66252 Feb  2 10:39 01_01_EEGRAW_101.csv\n",
            "-rw-r--r-- 1 root root   729 Feb  2 10:39 01_02_EEGPOW_102.csv\n",
            "-rw-r--r-- 1 root root 59374 Feb  2 10:39 01_02_EEGRAW_103.csv\n",
            "-rw-r--r-- 1 root root   568 Feb  2 10:39 01_03_EEGPOW_104.csv\n",
            "-rw-r--r-- 1 root root 42642 Feb  2 10:39 01_03_EEGRAW_105.csv\n",
            "-rw-r--r-- 1 root root   667 Feb  2 10:39 01_04_EEGPOW_106.csv\n",
            "-rw-r--r-- 1 root root 41856 Feb  2 10:39 01_04_EEGRAW_107.csv\n",
            "-rw-r--r-- 1 root root   665 Feb  2 10:39 01_05_EEGPOW_108.csv\n",
            "-rw-r--r-- 1 root root 60604 Feb  2 10:39 01_05_EEGRAW_109.csv\n",
            "-rw-r--r-- 1 root root   358 Feb  2 10:39 head.csv\n"
          ]
        }
      ]
    },
    {
      "cell_type": "code",
      "source": [
        "paths = [\n",
        "\n",
        "           str(os.getcwd() +prefix +\"/pruebas/preguntas_01-50/javier/ses01/\"),\n",
        "               str(os.getcwd() +prefix+\"/pruebas/preguntas_01-50/javier/ses02/\"),\n",
        "             str(os.getcwd() +prefix+\"/pruebas/preguntas_01-50/javier/ses03/\") ,\n",
        "     str(os.getcwd() +prefix+\"/pruebas/preguntas_01-50/javier/ses04/\") ,\n",
        "     str(os.getcwd() +prefix+\"/pruebas/preguntas_01-50/javier/ses05/\") ,\n",
        "    str(os.getcwd() +prefix+\"/pruebas/preguntas_01-50/javier/ses06/\") ,\n",
        "    str(os.getcwd() +prefix+\"/pruebas/preguntas_01-50/javier/ses07/\") ,\n",
        "    str(os.getcwd() +prefix+\"/pruebas/fase1_si/javier/ses_test01/\") ,\n",
        "    str(os.getcwd() +prefix+\"/pruebas/fase1_si/javier/ses_test02/\") ,\n",
        "    str(os.getcwd() +prefix+\"/pruebas/fase1_si/javier/ses_test03/\") ,\n",
        "    str(os.getcwd() +prefix+\"/pruebas/fase1_si/javier/ses_train01/\") ,\n",
        "\n",
        "           str(os.getcwd() +prefix+\"/pruebas/test/javier/ses01/\"),  #90\n",
        "              str(os.getcwd() +prefix+\"/pruebas/test/javier/ses02/\"), #62\n",
        "           str(os.getcwd() +prefix+\"/pruebas/test/javier/ses03/\"),\n",
        "                str(os.getcwd() +prefix+\"/pruebas/test/javier/ses04/\"),\n",
        "                  str(os.getcwd() +prefix+\"/pruebas/test/javier/ses05/\"), #100\n",
        "                 str(os.getcwd() +prefix+\"/pruebas/test/javier/ses06/\"),\n",
        "             str(os.getcwd() +prefix+\"/pruebas/test/javier/ses07/\"),\n",
        "            str(os.getcwd() +prefix+\"/pruebas/test/javier/ses08/\"),      #60\n",
        "           str(os.getcwd()+prefix +\"/pruebas/test/javier/ses09/\")   ,\n",
        "                 str(os.getcwd()+prefix +\"/pruebas/test/javier/ses10/\")   ,\n",
        "                str(os.getcwd()+prefix +\"/pruebas/test/javier/ses11/\")   , #60\n",
        "                  str(os.getcwd() +prefix+\"/pruebas/test/javier/ses12/\")   ,\n",
        "\n",
        "\n",
        "\n",
        "    #  str(os.getcwd() +prefix+\"/pruebas/preguntas_01-50/silvia/ses01/\")     ,\n",
        "    #  str(os.getcwd() +prefix+\"/pruebas/preguntas_01-50/silvia/ses02/\")   ,\n",
        "    #         #  str(os.getcwd() +prefix+\"/pruebas/preguntas_01-50/silvia/ses03/\")     ,#pastillas\n",
        "    #      str(os.getcwd() +prefix+\"/pruebas/preguntas_01-50/silvia/ses04/\")  ,\n",
        "\n",
        "    # str(os.getcwd() +prefix+\"/pruebas/test/silvia/ses01/\")   ,\n",
        "    # str(os.getcwd() +prefix+\"/pruebas/test/silvia/ses02/\")      ,\n",
        "    # str(os.getcwd() +prefix+\"/pruebas/test/silvia/ses03/\")     ,\n",
        "    #  str(os.getcwd()+prefix +\"/pruebas/test/silvia/ses04/\")     , #pastillas\n",
        "    #     str(os.getcwd()+prefix +\"/pruebas/test/silvia/sesbal/\")     ,\n",
        "\n",
        "        ]"
      ],
      "metadata": {
        "id": "B-eX8fbQc1Gi"
      },
      "id": "B-eX8fbQc1Gi",
      "execution_count": 69,
      "outputs": []
    },
    {
      "cell_type": "code",
      "execution_count": 5,
      "id": "8526fc1b-74bd-41b6-b2f3-46c79d24040b",
      "metadata": {
        "colab": {
          "base_uri": "https://localhost:8080/"
        },
        "id": "8526fc1b-74bd-41b6-b2f3-46c79d24040b",
        "outputId": "39e49b38-8ef7-454b-8cff-72c9ca7266ca"
      },
      "outputs": [
        {
          "output_type": "stream",
          "name": "stdout",
          "text": [
            "['/content/drive/MyDrive/OKN/Master IA/Master IA/TFM/mindwave/FASE3/../FASE1/pruebas/preguntas_01-30/javier/ses03/']\n"
          ]
        },
        {
          "output_type": "execute_result",
          "data": {
            "text/plain": [
              "((40, 124, 1000), (40, 1))"
            ]
          },
          "metadata": {},
          "execution_count": 5
        }
      ],
      "source": [
        "\n",
        "\n",
        "\n",
        "\n",
        "\n",
        "def load_data(paths):\n",
        "    dfRaw = []\n",
        "    X_raw_train = []\n",
        "    y_raw_train =[]\n",
        "    filter=[]\n",
        "    filterLastRows = 1000\n",
        "    # filterLastRows = 1050\n",
        "    # filterLastRows = 750\n",
        "    #filterLastRows = 512\n",
        "    i=0\n",
        "    # print (paths)\n",
        "    for path in paths:\n",
        "        print(Path)\n",
        "        dfHead = pd.read_csv(path + 'head.csv')\n",
        "        all_raw_files = glob.glob(os.path.join(path , \"*EEGRAW*.csv\"))\n",
        "        # print(dfHead[dfHead['questionCode']==24].iloc[0]['response'])\n",
        "        print(\"weweweww\" + all_raw_files)\n",
        "        for filename in all_raw_files:\n",
        "            dfRaw = pd.read_csv(filename, index_col=None, header=0)\n",
        "            # np.array(dfRaw)\n",
        "\n",
        "\n",
        "\n",
        "\n",
        "            # a = len(dfRaw)\n",
        "            # print (\"filename:\"+ filename + \" \" + str(a))\n",
        "            if len(dfRaw)>filterLastRows:\n",
        "                qCode = dfRaw['questionCode'].iloc[[0]][0]\n",
        "                # print(qCode)\n",
        "                X = np.array(dfRaw.tail(filterLastRows)['rawEeg'])\n",
        "#ini\n",
        "                # X_raw_train.append([])\n",
        "                samples = list()\n",
        "                # length = 350\n",
        "                length = 1000\n",
        "                # length = 350\n",
        "                #length = 512\n",
        "                # step over the 5,000 in jumps of 200\n",
        "                for j in range(0,filterLastRows,length):\n",
        "                 # grab from i to i + 200\n",
        "                    sample = X[j:j+length]\n",
        "                    samples.append(sample)\n",
        "                # print(len(samples))\n",
        "                # X=samples\n",
        "\n",
        "                for ids, X in enumerate(samples):\n",
        "                    X_raw_train.append([])\n",
        "#fin\n",
        "                    for idx, it in enumerate(X):\n",
        "                        X_raw_train[i].append([])\n",
        "                        X_raw_train[i][idx].append([])\n",
        "                        X_raw_train[i][idx][0] = X[idx]\n",
        "\n",
        "                    y_raw_train.append([])\n",
        "                    y_raw_train[i].append([])\n",
        "                    y_raw_train[i][0] = dfHead[dfHead['questionCode']==qCode].iloc[0]['response']\n",
        "                    i=i+1\n",
        "\n",
        "    return X_raw_train,y_raw_train\n",
        "\n",
        "\n",
        "def get_wavelets_ricken(X):\n",
        "\n",
        "    # rnd = np.random.RandomState(12345)\n",
        "    # brain_signal = np.sin(np.linspace(0, 1000, N)) + rnd.uniform(0, 1, N)\n",
        "    brain_signal =X\n",
        "    N = len(brain_signal)\n",
        "    # widths = np.arange(1, N//8)\n",
        "    widths = np.arange(1, N//8)\n",
        "\n",
        "    # widths = np.arange(1, 32)\n",
        "    # widths = 250\n",
        "    # print(brain_signal.shape)\n",
        "    cwtmatr = signal.cwt(brain_signal, signal.ricker, widths)\n",
        "    # signal.morlet(M, w=5.0, s=1.0, complete=True)[source]\n",
        "\n",
        "    # cwtmatr = signal.cwt(brain_signal, signal.daub(8), widths)\n",
        "    return cwtmatr\n",
        "\n",
        "def get_wavelets_morlet2(X):\n",
        "\n",
        "    # rnd = np.random.RandomState(12345)\n",
        "    # brain_signal = np.sin(np.linspace(0, 1000, N)) + rnd.uniform(0, 1, N)\n",
        "    brain_signal =X\n",
        "    N = len(brain_signal)\n",
        "    # widths = np.arange(1, N//8)\n",
        "    widths = np.arange(1, N//8)\n",
        "\n",
        "    # widths = np.arange(1, 32)\n",
        "    # widths = 250\n",
        "    # print(brain_signal.shape)\n",
        "    w = 6.\n",
        "    cwtmatr =  signal.cwt(brain_signal, signal.morlet2, widths, w=w)\n",
        "    # signal.morlet(M, w=5.0, s=1.0, complete=True)[source]\n",
        "\n",
        "    # cwtmatr = signal.cwt(brain_signal, signal.daub(8), widths)\n",
        "    return cwtmatr\n",
        "\n",
        "def load_data_wavelets(paths):\n",
        "    dfRaw = []\n",
        "    X_raw_train = []\n",
        "    y_raw_train =[]\n",
        "    filter=[]\n",
        "    filterLastRows = 1000\n",
        "    # filterLastRows = 1050\n",
        "    # filterLastRows = 750\n",
        "    #filterLastRows = 512\n",
        "    i=0\n",
        "    # print (paths)\n",
        "    for path in paths:\n",
        "        dfHead = pd.read_csv(path + 'head.csv')\n",
        "        # all_raw_files = glob.glob(os.path.join(path , \"*EEGRAW*.csv\"))\n",
        "        all_raw_files = glob.glob(os.path.join(path , \"*raw*.csv\"))\n",
        "\n",
        "        # print(dfHead[dfHead['questionCode']==24].iloc[0]['response'])\n",
        "\n",
        "        for filename in all_raw_files:\n",
        "            dfRaw = pd.read_csv(filename, index_col=None, header=0)\n",
        "            # np.array(dfRaw)\n",
        "\n",
        "\n",
        "\n",
        "\n",
        "            # a = len(dfRaw)\n",
        "            # print (\"filename:\"+ filename + \" \" + str(a))\n",
        "            if len(dfRaw)>filterLastRows:\n",
        "                qCode = dfRaw['questionCode'].iloc[[0]][0]\n",
        "                # print(qCode)\n",
        "                X = np.array(dfRaw.tail(filterLastRows)['rawEeg'])\n",
        "#ini\n",
        "                # X_raw_train.append([])\n",
        "                samples = list()\n",
        "                # length = 350\n",
        "                length = 1000\n",
        "                # length = 350\n",
        "                #length = 512\n",
        "                # step over the 5,000 in jumps of 200\n",
        "                for j in range(0,filterLastRows,length):\n",
        "                 # grab from i to i + 200\n",
        "                    sample = X[j:j+length]\n",
        "                    samples.append(sample)\n",
        "                # print(len(samples))\n",
        "                # X=samples\n",
        "\n",
        "                for ids, X in enumerate(samples):\n",
        "                    X_raw_train.append([])\n",
        "#fin\n",
        "                    for idx, it in enumerate(X):\n",
        "                        X_raw_train[i].append([])\n",
        "                        X_raw_train[i][idx].append([])\n",
        "                        X_raw_train[i][idx][0] = X[idx]\n",
        "                    # print(np.array(X_raw_train[i]).shape)\n",
        "                    # X_raw_train[i] = get_wavelets_morlet2(np.array(X_raw_train[i]).flatten())\n",
        "                    X_raw_train[i] = get_wavelets_ricken(np.array(X_raw_train[i]).flatten())\n",
        "                    # X_raw_train = get_wavelets(X_raw_train.flatten())\n",
        "                    y_raw_train.append([])\n",
        "                    y_raw_train[i].append([])\n",
        "                    y_raw_train[i][0] = dfHead[dfHead['questionCode']==qCode].iloc[0]['response']\n",
        "                    i=i+1\n",
        "\n",
        "    return X_raw_train,y_raw_train\n",
        "\n",
        "X_raw_train = []\n",
        "\n",
        "\n",
        "\n",
        "y_raw_train =[]\n",
        "# X_raw_train,y_raw_train= load_data(paths)\n",
        "print(paths)\n",
        "X_raw_train,y_raw_train= load_data_wavelets(paths)\n",
        "X = np.array(X_raw_train)\n",
        "y = np.array(y_raw_train)\n",
        "X.shape, y.shape\n"
      ]
    },
    {
      "cell_type": "code",
      "execution_count": null,
      "id": "03f53d71-f147-4a63-94af-d5a2c6f7a88a",
      "metadata": {
        "colab": {
          "base_uri": "https://localhost:8080/"
        },
        "id": "03f53d71-f147-4a63-94af-d5a2c6f7a88a",
        "outputId": "37da07b7-a035-4fd1-c5ff-e75fb99b14ec"
      },
      "outputs": [
        {
          "output_type": "execute_result",
          "data": {
            "text/plain": [
              "(36, 124, 1000)"
            ]
          },
          "metadata": {},
          "execution_count": 181
        }
      ],
      "source": [
        "# 3,4,9 funcionan bien\n",
        "paths_test = [\n",
        "          #  str(os.getcwd() +prefix+\"/pruebas/test/javier/ses01/\"),  #90\n",
        "          #     str(os.getcwd() +prefix+\"/pruebas/test/javier/ses02/\"), #62\n",
        "          #  str(os.getcwd() +prefix+\"/pruebas/test/javier/ses03/\"),\n",
        "          #       str(os.getcwd() +prefix+\"/pruebas/test/javier/ses04/\"),\n",
        "          #         str(os.getcwd() +prefix+\"/pruebas/test/javier/ses05/\"), #100\n",
        "          #        str(os.getcwd() +prefix+\"/pruebas/test/javier/ses06/\"),\n",
        "          #    str(os.getcwd() +prefix+\"/pruebas/test/javier/ses07/\"),\n",
        "          #   str(os.getcwd() +prefix+\"/pruebas/test/javier/ses08/\"),      #60\n",
        "          #  str(os.getcwd()+prefix +\"/pruebas/test/javier/ses09/\")   ,\n",
        "          #        str(os.getcwd()+prefix +\"/pruebas/test/javier/ses10/\")   ,\n",
        "          #       str(os.getcwd()+prefix +\"/pruebas/test/javier/ses11/\")   , #60\n",
        "          #         str(os.getcwd() +prefix+\"/pruebas/test/javier/ses12/\")   ,\n",
        "\n",
        "\n",
        "    str(os.getcwd() +prefix+\"/pruebas/test/silvia/ses01/\")   ,\n",
        "    str(os.getcwd() +prefix+\"/pruebas/test/silvia/ses02/\")      ,\n",
        "    str(os.getcwd() +prefix+\"/pruebas/test/silvia/ses03/\")     ,\n",
        "     str(os.getcwd()+prefix +\"/pruebas/test/silvia/ses04/\")     ,\n",
        "        str(os.getcwd()+prefix +\"/pruebas/test/silvia/sesbal/\")     ,\n",
        "]\n",
        "\n",
        "\n",
        "x_test_raw, y_test_raw = load_data_wavelets(paths_test)\n",
        "\n",
        "x_test = np.array(x_test_raw)\n",
        "y_test = np.array(y_test_raw)\n",
        "x_test.shape"
      ]
    },
    {
      "cell_type": "code",
      "execution_count": null,
      "id": "a4e45cf8-ba0d-4af6-9c4e-f72dc1917f0c",
      "metadata": {
        "id": "a4e45cf8-ba0d-4af6-9c4e-f72dc1917f0c"
      },
      "outputs": [],
      "source": []
    },
    {
      "cell_type": "code",
      "execution_count": 7,
      "id": "732b308b-1e3c-40d2-a5eb-5d046854e382",
      "metadata": {
        "id": "732b308b-1e3c-40d2-a5eb-5d046854e382"
      },
      "outputs": [],
      "source": [
        "from sklearn.metrics import confusion_matrix, classification_report\n",
        "import seaborn as sns\n",
        "\n",
        "def get_accuraccy(y_test, pred_y):\n",
        "    conf_matrix = confusion_matrix(y_test,pred_y)\n",
        "    a = conf_matrix[0][0] / (conf_matrix[0][0] + conf_matrix[0][1])\n",
        "    b = conf_matrix[1][1] / (conf_matrix[1][0] + conf_matrix[1][1])\n",
        "    acc = (a + b)/2\n",
        "    print (\"calc accuracy : \" + str(acc))\n",
        "    return acc\n",
        "\n",
        "def show_results(y_test, pred_y):\n",
        "    conf_matrix = confusion_matrix(y_test,pred_y)\n",
        "    plt.figure(figsize=(2,2))\n",
        "    labels = ['0: No', '1: Si']\n",
        "    sns.heatmap(conf_matrix, xticklabels=labels, yticklabels=labels, annot=True, fmt='d')\n",
        "    plt.title('Confusion matrix')\n",
        "    plt.ylabel('True class')\n",
        "    plt.xlabel('Predicted class')\n",
        "    plt.show()\n",
        "    print(conf_matrix)\n",
        "    print(classification_report(y_test,pred_y))\n",
        "    return\n"
      ]
    },
    {
      "cell_type": "code",
      "source": [
        "X.shape, y.shape"
      ],
      "metadata": {
        "colab": {
          "base_uri": "https://localhost:8080/"
        },
        "id": "gfp-i1-p1mxe",
        "outputId": "cdbd8b95-f64d-42d8-f390-f0b38f9382a3"
      },
      "id": "gfp-i1-p1mxe",
      "execution_count": null,
      "outputs": [
        {
          "output_type": "execute_result",
          "data": {
            "text/plain": [
              "((142, 124, 1000), (142, 1))"
            ]
          },
          "metadata": {},
          "execution_count": 7
        }
      ]
    },
    {
      "cell_type": "code",
      "execution_count": 72,
      "id": "8176e63e-bc31-46ca-9add-1b7944df3840",
      "metadata": {
        "colab": {
          "base_uri": "https://localhost:8080/"
        },
        "id": "8176e63e-bc31-46ca-9add-1b7944df3840",
        "outputId": "42358425-4023-47f3-a888-a9c59268e01e"
      },
      "outputs": [
        {
          "output_type": "execute_result",
          "data": {
            "text/plain": [
              "((135, 124, 1000),\n",
              " (135, 1),\n",
              " (45, 124, 1000),\n",
              " (45, 1),\n",
              " (45, 124, 1000),\n",
              " (45, 1))"
            ]
          },
          "metadata": {},
          "execution_count": 72
        }
      ],
      "source": [
        "\n",
        "#Split twice to get the validation set\n",
        "# X_train_all, X_test, y_train_all, y_test = train_test_split(X, y, test_size=0.25, random_state=123, stratify=y)\n",
        "# X_train, X_val, y_train, y_val = train_test_split(X_train_all, y_train_all, test_size=0.25, random_state=123, stratify=y)\n",
        "\n",
        "# X_train, X_test, y_train, y_test = train_test_split(X, y, test_size=0.2, random_state=14)\n",
        "# X_train, X_val, y_train, y_val  = train_test_split(X_train, y_train, test_size=0.25, random_state=234) # 0.25 x 0.8 = 0.2\n",
        "\n",
        "X_train, X_test, y_train, y_test = train_test_split(X, y, test_size=0.2)\n",
        "X_train, X_val, y_train, y_val  = train_test_split(X_train, y_train, test_size=0.25) # 0.25 x 0.8 = 0.2\n",
        "\n",
        "\n",
        "# X_train, X_val, y_train, y_val = train_test_split(X, y, test_size=0.25, shuffle=True, stratify=y)\n",
        "#Print the shapes\n",
        "# X_train.shape,  y_train.shape, X_test.shape, X_val.shape, y_val.shape, len(y_train), len(y_test), len(y_val)\n",
        "\n",
        "y_val_cat =keras.utils.to_categorical(y_val,2)\n",
        "y_train_cat =keras.utils.to_categorical(y_train,2)\n",
        "y_test_cat =keras.utils.to_categorical(y_test,2)\n",
        "\n",
        "# X_train.shape,  y_train.shape, X_val.shape, y_val.shape, len(y_train),  y_val_cat\n",
        "# y_val_cat, y_val, y_train, y_train_cat\n",
        "\n",
        "# y_train_all\n",
        "X_train.shape, y_train.shape,X_test.shape,y_test.shape,X_val.shape, y_val.shape"
      ]
    },
    {
      "cell_type": "code",
      "source": [
        "# y_test"
      ],
      "metadata": {
        "id": "Cmh2lslLY6Mn",
        "colab": {
          "base_uri": "https://localhost:8080/"
        },
        "outputId": "cb042d79-0024-4fd9-e0a9-29ac001ac649"
      },
      "id": "Cmh2lslLY6Mn",
      "execution_count": null,
      "outputs": [
        {
          "output_type": "execute_result",
          "data": {
            "text/plain": [
              "array([[1],\n",
              "       [0],\n",
              "       [1],\n",
              "       [0],\n",
              "       [0],\n",
              "       [1],\n",
              "       [0],\n",
              "       [1],\n",
              "       [1],\n",
              "       [0],\n",
              "       [0],\n",
              "       [0],\n",
              "       [0],\n",
              "       [1],\n",
              "       [0],\n",
              "       [0],\n",
              "       [0],\n",
              "       [1],\n",
              "       [1],\n",
              "       [1],\n",
              "       [0],\n",
              "       [1],\n",
              "       [1],\n",
              "       [0],\n",
              "       [0],\n",
              "       [1],\n",
              "       [0],\n",
              "       [1],\n",
              "       [1]])"
            ]
          },
          "metadata": {},
          "execution_count": 14
        }
      ]
    },
    {
      "cell_type": "code",
      "execution_count": null,
      "id": "08cc5d74-009c-48d3-be95-838322af4a48",
      "metadata": {
        "id": "08cc5d74-009c-48d3-be95-838322af4a48"
      },
      "outputs": [],
      "source": [
        "# model = keras.models.load_model('model_javier_raw_02.keras')\n",
        "keras.backend.clear_session()\n",
        "tf.random.set_seed(51)\n",
        "np.random.seed(51)"
      ]
    },
    {
      "cell_type": "code",
      "execution_count": null,
      "id": "2015bb0e-bbfb-4702-aee2-3bdd545e40a8",
      "metadata": {
        "id": "2015bb0e-bbfb-4702-aee2-3bdd545e40a8",
        "outputId": "ed8c51b4-d559-48f9-f2c6-1a44817241ef",
        "colab": {
          "base_uri": "https://localhost:8080/"
        }
      },
      "outputs": [
        {
          "output_type": "execute_result",
          "data": {
            "text/plain": [
              "(142, 124, 1000)"
            ]
          },
          "metadata": {},
          "execution_count": 7
        }
      ],
      "source": [
        "# show_results(y_test,y_test_pred2)\n",
        "\n",
        "# brain_signal1 = np.sin(np.linspace(0, 1000, N)) + rnd.uniform(0, 1, N)\n",
        "# brain_signal = X_train[0].flatten()\n",
        "# print(np.sin(np.linspace(0, 1000, N)).shape)\n",
        "# print(brain_signal.shape)\n",
        "# print(brain_signal1)\n",
        "X.shape"
      ]
    },
    {
      "cell_type": "code",
      "execution_count": null,
      "id": "fde8a889",
      "metadata": {
        "id": "fde8a889"
      },
      "outputs": [],
      "source": [
        "# y"
      ]
    },
    {
      "cell_type": "code",
      "source": [],
      "metadata": {
        "id": "urKwhf9MI449"
      },
      "id": "urKwhf9MI449",
      "execution_count": null,
      "outputs": []
    },
    {
      "cell_type": "code",
      "execution_count": null,
      "id": "6a1104f4-5324-44e7-9241-ea05ebb49dda",
      "metadata": {
        "colab": {
          "base_uri": "https://localhost:8080/",
          "height": 642
        },
        "id": "6a1104f4-5324-44e7-9241-ea05ebb49dda",
        "outputId": "5fb2e914-4d3e-4677-a1b8-38ac986812f3"
      },
      "outputs": [
        {
          "output_type": "stream",
          "name": "stdout",
          "text": [
            "[0]\n",
            "(124, 1000)\n"
          ]
        },
        {
          "output_type": "display_data",
          "data": {
            "text/plain": [
              "<Figure size 1000x600 with 3 Axes>"
            ],
            "image/png": "[encoded data removed]"
          },
          "metadata": {}
        }
      ],
      "source": [
        "#ricken\n",
        "N = 1000\n",
        "# wvl_x = X[0].flatten()\n",
        "# cwtmatr = get_wavelets(wvl_x)\n",
        "i =1\n",
        "\n",
        "print(y[i])\n",
        "cwtmatr = X[i]\n",
        "print(cwtmatr.shape)\n",
        "# print(cwtmatr)\n",
        "# print(np.abs(cwtmatr))\n",
        "fig, ax = plt.subplots(nrows=2, ncols=1, figsize=(10, 6))\n",
        "axes = ax.flatten()\n",
        "\n",
        "# sns.lineplot(np.linspace(0, 1000, N), wvl_x, ax=axes[0], lw=2)\n",
        "# sns.heatmap(cwtmatr, cmap='Spectral', ax=axes[1]);\n",
        "sns.heatmap( np.abs(cwtmatr), cmap='Spectral', ax=axes[1]);\n",
        "\n",
        "axes[0].set_title('Brain signal')\n",
        "axes[1].set_title('CWT of brain signal')\n",
        "\n",
        "plt.tight_layout()\n",
        "\n"
      ]
    },
    {
      "cell_type": "code",
      "execution_count": null,
      "id": "6c7cdef0-fa98-442b-a9b9-4a72edf17762",
      "metadata": {
        "id": "6c7cdef0-fa98-442b-a9b9-4a72edf17762"
      },
      "outputs": [],
      "source": [
        "\n",
        "# #Split twice to get the validation set\n",
        "# # X_train, X_test, y_train, y_test = train_test_split(X, y, test_size=0.25, random_state=123, stratify=y)\n",
        "\n",
        "# X_train, X_val, y_train, y_val = train_test_split(X, y, test_size=0.25)\n",
        "\n",
        "# y_val_cat = y_train_cat =keras.utils.to_categorical(y_val,2)\n",
        "# y_train_cat =keras.utils.to_categorical(y_train,2)\n",
        "\n",
        "\n",
        "# X_train.shape,  y_train.shape, X_val.shape, y_val.shape, len(y_train),  len(y_val)\n",
        "# #\n",
        "# y_val_cat"
      ]
    },
    {
      "cell_type": "code",
      "execution_count": null,
      "id": "06951209-adc3-4885-a9b0-0eebb6167323",
      "metadata": {
        "id": "06951209-adc3-4885-a9b0-0eebb6167323",
        "outputId": "d0740e28-2ec4-4dcc-f941-f4c2fa334c00"
      },
      "outputs": [
        {
          "name": "stdout",
          "output_type": "stream",
          "text": [
            "(124, 1000, 1)\n",
            "Model: \"sequential\"\n",
            "_________________________________________________________________\n",
            " Layer (type)                Output Shape              Param #   \n",
            "=================================================================\n",
            " conv2d (Conv2D)             (None, 123, 999, 32)      160       \n",
            "                                                                 \n",
            " conv2d_1 (Conv2D)           (None, 122, 998, 48)      6192      \n",
            "                                                                 \n",
            " conv2d_2 (Conv2D)           (None, 121, 997, 120)     23160     \n",
            "                                                                 \n",
            " max_pooling2d (MaxPooling2  (None, 61, 499, 120)      0         \n",
            " D)                                                              \n",
            "                                                                 \n",
            " dropout (Dropout)           (None, 61, 499, 120)      0         \n",
            "                                                                 \n",
            " flatten (Flatten)           (None, 3652680)           0         \n",
            "                                                                 \n",
            " dense (Dense)               (None, 128)               467543168 \n",
            "                                                                 \n",
            " dropout_1 (Dropout)         (None, 128)               0         \n",
            "                                                                 \n",
            " dense_1 (Dense)             (None, 64)                8256      \n",
            "                                                                 \n",
            " dropout_2 (Dropout)         (None, 64)                0         \n",
            "                                                                 \n",
            " dense_2 (Dense)             (None, 2)                 130       \n",
            "                                                                 \n",
            "=================================================================\n",
            "Total params: 467581066 (1.74 GB)\n",
            "Trainable params: 467581066 (1.74 GB)\n",
            "Non-trainable params: 0 (0.00 Byte)\n",
            "_________________________________________________________________\n"
          ]
        }
      ],
      "source": [
        "#CONSERVAR 68 EN TEST\n",
        "keras.backend.clear_session()\n",
        "tf.random.set_seed(51)\n",
        "np.random.seed(51)\n",
        "\n",
        "input_shape=(X_train.shape[1],X_train.shape[2],1)\n",
        "print(input_shape)\n",
        "\n",
        "model = keras.Sequential()\n",
        "\n",
        "model.add(keras.layers.Conv2D(32, kernel_size=(2, 2), activation='relu', input_shape=(input_shape)))\n",
        "model.add(keras.layers.Conv2D(48, kernel_size=(2, 2), activation='relu'))\n",
        "model.add(keras.layers.Conv2D(120, kernel_size=(2, 2), activation='relu'))\n",
        "model.add(keras.layers.MaxPooling2D(pool_size=(2, 2), padding='same'))\n",
        "model.add(keras.layers.Dropout(0.25))\n",
        "model.add(keras.layers.Flatten())\n",
        "model.add(Dense(128, activation='relu'))\n",
        "model.add(keras.layers.Dropout(0.25))\n",
        "\n",
        "model.add(Dense(64, activation='relu'))\n",
        "model.add(keras.layers.Dropout(0.4))\n",
        "# model.add(Dense(num_classes, activation='softmax'))\n",
        "model.add(keras.layers.Dense(2, activation=\"sigmoid\"))\n",
        "\n",
        "\n",
        "model.compile(loss='categorical_crossentropy', optimizer='adam', metrics=['accuracy'])\n",
        "#Adam, an algorithm for first-order gradient-based optimization of stochastic objective functions, based on adaptive estimates of lower-order moments.\n",
        "model.summary()"
      ]
    },
    {
      "cell_type": "code",
      "execution_count": 73,
      "id": "34d5654b",
      "metadata": {
        "colab": {
          "base_uri": "https://localhost:8080/"
        },
        "id": "34d5654b",
        "outputId": "40905a42-9a04-4ca5-a955-0992e8754664"
      },
      "outputs": [
        {
          "output_type": "stream",
          "name": "stdout",
          "text": [
            "(124, 1000, 1)\n",
            "Model: \"sequential\"\n",
            "_________________________________________________________________\n",
            " Layer (type)                Output Shape              Param #   \n",
            "=================================================================\n",
            " conv2d (Conv2D)             (None, 122, 998, 16)      160       \n",
            "                                                                 \n",
            " batch_normalization (Batch  (None, 122, 998, 16)      64        \n",
            " Normalization)                                                  \n",
            "                                                                 \n",
            " max_pooling2d (MaxPooling2  (None, 61, 499, 16)       0         \n",
            " D)                                                              \n",
            "                                                                 \n",
            " conv2d_1 (Conv2D)           (None, 59, 497, 32)       4640      \n",
            "                                                                 \n",
            " batch_normalization_1 (Bat  (None, 59, 497, 32)       128       \n",
            " chNormalization)                                                \n",
            "                                                                 \n",
            " max_pooling2d_1 (MaxPoolin  (None, 29, 248, 32)       0         \n",
            " g2D)                                                            \n",
            "                                                                 \n",
            " dropout (Dropout)           (None, 29, 248, 32)       0         \n",
            "                                                                 \n",
            " flatten (Flatten)           (None, 230144)            0         \n",
            "                                                                 \n",
            " dense (Dense)               (None, 128)               29458560  \n",
            "                                                                 \n",
            " dropout_1 (Dropout)         (None, 128)               0         \n",
            "                                                                 \n",
            " dense_1 (Dense)             (None, 64)                8256      \n",
            "                                                                 \n",
            " dropout_2 (Dropout)         (None, 64)                0         \n",
            "                                                                 \n",
            " dense_2 (Dense)             (None, 2)                 130       \n",
            "                                                                 \n",
            "=================================================================\n",
            "Total params: 29471938 (112.43 MB)\n",
            "Trainable params: 29471842 (112.43 MB)\n",
            "Non-trainable params: 96 (384.00 Byte)\n",
            "_________________________________________________________________\n"
          ]
        }
      ],
      "source": [
        "#model-2\n",
        "\n",
        "from keras.layers import Conv2D, LeakyReLU\n",
        "\n",
        "keras.backend.clear_session()\n",
        "tf.random.set_seed(51)\n",
        "np.random.seed(51)\n",
        "\n",
        "input_shape=(X_train.shape[1],X_train.shape[2],1)\n",
        "print(input_shape)\n",
        "\n",
        "model = keras.Sequential()\n",
        "\n",
        "# LeakyReLU()\n",
        "# model.add(keras.layers.Conv2D(16, kernel_size=(2, 2), activation='relu', input_shape=(input_shape)))\n",
        "model.add(keras.layers.Conv2D(16, kernel_size=(3, 3), activation=LeakyReLU(), input_shape=(input_shape)))\n",
        "\n",
        "model.add(keras.layers.BatchNormalization())\n",
        "model.add(keras.layers.MaxPooling2D(pool_size=(2, 2)))\n",
        "# model.add(keras.layers.Dropout(0.2))\n",
        "\n",
        "# model.add(keras.layers.Conv2D(32, kernel_size=(2, 2), activation='relu', input_shape=(input_shape)))\n",
        "model.add(keras.layers.Conv2D(32, kernel_size=(3, 3), activation=LeakyReLU()))\n",
        "model.add(keras.layers.BatchNormalization())\n",
        "model.add(keras.layers.MaxPooling2D(pool_size=(2, 2)))\n",
        "\n",
        "# model.add(keras.layers.Dropout(0.2))\n",
        "\n",
        "# model.add(keras.layers.Conv2D(64, kernel_size=(2, 2), activation='relu', input_shape=(input_shape)))\n",
        "# model.add(keras.layers.Conv2D(16, kernel_size=(2, 2), activation=LeakyReLU()))\n",
        "# model.add(keras.layers.BatchNormalization())\n",
        "# model.add(keras.layers.MaxPooling2D(pool_size=(2, 2)))\n",
        "\n",
        "model.add(keras.layers.Dropout(0.2))\n",
        "model.add(keras.layers.Flatten())\n",
        "# model.add(Dense(128, activation='relu'))\n",
        "# model.add(keras.layers.Dropout(0.25))\n",
        "\n",
        "# model.add(Dense(128, activation='relu'))\n",
        "model.add(Dense(128, activation=LeakyReLU()))\n",
        "model.add(keras.layers.Dropout(0.2))\n",
        "\n",
        "# model.add(Dense(64, activation='relu'))\n",
        "model.add(Dense(64, activation=LeakyReLU()))\n",
        "model.add(keras.layers.Dropout(0.2))\n",
        "# model.add(keras.layers.Flatten())\n",
        "\n",
        "# model.add(Dense(num_classes, activation='softmax'))\n",
        "model.add(keras.layers.Dense(2, activation=\"sigmoid\"))\n",
        "\n",
        "# model.compile(loss='categorical_crossentropy', optimizer='adam', metrics=['accuracy'])\n",
        "opt = keras.optimizers.Adam()\n",
        "# opt = keras.optimizers.Adam(learning_rate=0.01)\n",
        "# opt = keras.optimizers.SGD(learning_rate=0.01)\n",
        "model.compile(loss='categorical_crossentropy', optimizer=opt, metrics=['accuracy'])\n",
        "\n",
        "#Adam, an algorithm for first-order gradient-based optimization of stochastic objective functions, based on adaptive estimates of lower-order moments.\n",
        "model.summary()\n"
      ]
    },
    {
      "cell_type": "code",
      "execution_count": null,
      "id": "f251cd40-134d-44cc-9b8d-cbb18bd7bb0a",
      "metadata": {
        "id": "f251cd40-134d-44cc-9b8d-cbb18bd7bb0a",
        "outputId": "fb032866-a5aa-4d81-d68b-282568782b80",
        "colab": {
          "base_uri": "https://localhost:8080/"
        }
      },
      "outputs": [
        {
          "output_type": "stream",
          "name": "stdout",
          "text": [
            "(124, 1000, 1)\n",
            "Model: \"sequential\"\n",
            "_________________________________________________________________\n",
            " Layer (type)                Output Shape              Param #   \n",
            "=================================================================\n",
            " conv2d (Conv2D)             (None, 120, 996, 16)      416       \n",
            "                                                                 \n",
            " batch_normalization (Batch  (None, 120, 996, 16)      64        \n",
            " Normalization)                                                  \n",
            "                                                                 \n",
            " max_pooling2d (MaxPooling2  (None, 60, 498, 16)       0         \n",
            " D)                                                              \n",
            "                                                                 \n",
            " dropout (Dropout)           (None, 60, 498, 16)       0         \n",
            "                                                                 \n",
            " conv2d_1 (Conv2D)           (None, 56, 494, 32)       12832     \n",
            "                                                                 \n",
            " batch_normalization_1 (Bat  (None, 56, 494, 32)       128       \n",
            " chNormalization)                                                \n",
            "                                                                 \n",
            " max_pooling2d_1 (MaxPoolin  (None, 28, 247, 32)       0         \n",
            " g2D)                                                            \n",
            "                                                                 \n",
            " dropout_1 (Dropout)         (None, 28, 247, 32)       0         \n",
            "                                                                 \n",
            " conv2d_2 (Conv2D)           (None, 26, 245, 64)       18496     \n",
            "                                                                 \n",
            " batch_normalization_2 (Bat  (None, 26, 245, 64)       256       \n",
            " chNormalization)                                                \n",
            "                                                                 \n",
            " max_pooling2d_2 (MaxPoolin  (None, 13, 122, 64)       0         \n",
            " g2D)                                                            \n",
            "                                                                 \n",
            " dropout_2 (Dropout)         (None, 13, 122, 64)       0         \n",
            "                                                                 \n",
            " flatten (Flatten)           (None, 101504)            0         \n",
            "                                                                 \n",
            " dense (Dense)               (None, 128)               12992640  \n",
            "                                                                 \n",
            " dropout_3 (Dropout)         (None, 128)               0         \n",
            "                                                                 \n",
            " dense_1 (Dense)             (None, 64)                8256      \n",
            "                                                                 \n",
            " dropout_4 (Dropout)         (None, 64)                0         \n",
            "                                                                 \n",
            " dense_2 (Dense)             (None, 2)                 130       \n",
            "                                                                 \n",
            "=================================================================\n",
            "Total params: 13033218 (49.72 MB)\n",
            "Trainable params: 13032994 (49.72 MB)\n",
            "Non-trainable params: 224 (896.00 Byte)\n",
            "_________________________________________________________________\n"
          ]
        }
      ],
      "source": [
        "#model-3\n",
        "\n",
        "from keras.layers import Conv2D, LeakyReLU\n",
        "\n",
        "keras.backend.clear_session()\n",
        "tf.random.set_seed(51)\n",
        "np.random.seed(51)\n",
        "\n",
        "input_shape=(X_train.shape[1],X_train.shape[2],1)\n",
        "print(input_shape)\n",
        "\n",
        "model = keras.Sequential()\n",
        "\n",
        "# LeakyReLU()\n",
        "# model.add(keras.layers.Conv2D(16, kernel_size=(2, 2), activation='relu', input_shape=(input_shape)))\n",
        "model.add(keras.layers.Conv2D(16, kernel_size=(5, 5), activation=LeakyReLU(), input_shape=(input_shape)))\n",
        "\n",
        "model.add(keras.layers.BatchNormalization())\n",
        "model.add(keras.layers.MaxPooling2D(pool_size=(2, 2)))\n",
        "model.add(keras.layers.Dropout(0.2))\n",
        "\n",
        "# model.add(keras.layers.Conv2D(32, kernel_size=(2, 2), activation='relu', input_shape=(input_shape)))\n",
        "model.add(keras.layers.Conv2D(32, kernel_size=(5, 5), activation=LeakyReLU()))\n",
        "model.add(keras.layers.BatchNormalization())\n",
        "model.add(keras.layers.MaxPooling2D(pool_size=(2, 2)))\n",
        "\n",
        "model.add(keras.layers.Dropout(0.2))\n",
        "\n",
        "model.add(keras.layers.Conv2D(64, kernel_size=(3, 3), activation='relu', input_shape=(input_shape)))\n",
        "# model.add(keras.layers.Conv2D(16, kernel_size=(2, 2), activation=LeakyReLU()))\n",
        "model.add(keras.layers.BatchNormalization())\n",
        "model.add(keras.layers.MaxPooling2D(pool_size=(2, 2)))\n",
        "\n",
        "model.add(keras.layers.Dropout(0.2))\n",
        "model.add(keras.layers.Flatten())\n",
        "# model.add(Dense(128, activation='relu'))\n",
        "# model.add(keras.layers.Dropout(0.25))\n",
        "\n",
        "# model.add(Dense(128, activation='relu'))\n",
        "model.add(Dense(128, activation=LeakyReLU()))\n",
        "model.add(keras.layers.Dropout(0.2))\n",
        "\n",
        "# model.add(Dense(64, activation='relu'))\n",
        "model.add(Dense(64, activation=LeakyReLU()))\n",
        "model.add(keras.layers.Dropout(0.2))\n",
        "# model.add(keras.layers.Flatten())\n",
        "\n",
        "# model.add(Dense(num_classes, activation='softmax'))\n",
        "model.add(keras.layers.Dense(2, activation=\"sigmoid\"))\n",
        "\n",
        "# model.compile(loss='categorical_crossentropy', optimizer='adam', metrics=['accuracy'])\n",
        "opt = keras.optimizers.Adam()\n",
        "# opt = keras.optimizers.Adam(learning_rate=0.01)\n",
        "# opt = keras.optimizers.SGD(learning_rate=0.01)\n",
        "model.compile(loss='categorical_crossentropy', optimizer=opt, metrics=['accuracy'])\n",
        "\n",
        "#Adam, an algorithm for first-order gradient-based optimization of stochastic objective functions, based on adaptive estimates of lower-order moments.\n",
        "model.summary()"
      ]
    },
    {
      "cell_type": "code",
      "execution_count": 81,
      "id": "b0e55bdc-e398-45eb-bd6f-009fab7da3a0",
      "metadata": {
        "colab": {
          "base_uri": "https://localhost:8080/",
          "height": 1000
        },
        "id": "b0e55bdc-e398-45eb-bd6f-009fab7da3a0",
        "outputId": "b86641b7-5f05-47cb-d2a7-d8aa97f90d34"
      },
      "outputs": [
        {
          "output_type": "stream",
          "name": "stdout",
          "text": [
            "Epoch 1/50\n",
            "5/5 [==============================] - 1s 169ms/step - loss: 1.1370 - accuracy: 0.9630 - val_loss: 90.8734 - val_accuracy: 0.5778\n",
            "Epoch 2/50\n",
            "5/5 [==============================] - 1s 143ms/step - loss: 4.5718e-06 - accuracy: 1.0000 - val_loss: 96.1287 - val_accuracy: 0.5111\n",
            "Epoch 3/50\n",
            "5/5 [==============================] - 1s 142ms/step - loss: 1.1230 - accuracy: 0.9852 - val_loss: 99.2485 - val_accuracy: 0.5111\n",
            "Epoch 4/50\n",
            "5/5 [==============================] - 1s 144ms/step - loss: 0.0374 - accuracy: 0.9926 - val_loss: 100.6570 - val_accuracy: 0.4667\n",
            "Epoch 5/50\n",
            "5/5 [==============================] - 1s 144ms/step - loss: 0.9940 - accuracy: 0.9704 - val_loss: 96.8660 - val_accuracy: 0.4889\n",
            "Epoch 6/50\n",
            "5/5 [==============================] - 1s 143ms/step - loss: 1.1461 - accuracy: 0.9630 - val_loss: 112.2340 - val_accuracy: 0.5111\n",
            "Epoch 7/50\n",
            "5/5 [==============================] - 1s 147ms/step - loss: 0.6602 - accuracy: 0.9704 - val_loss: 138.2453 - val_accuracy: 0.4889\n",
            "Epoch 8/50\n",
            "5/5 [==============================] - 1s 148ms/step - loss: 0.5242 - accuracy: 0.9778 - val_loss: 162.0466 - val_accuracy: 0.4667\n",
            "Epoch 9/50\n",
            "5/5 [==============================] - 1s 147ms/step - loss: 1.6638 - accuracy: 0.9778 - val_loss: 161.3262 - val_accuracy: 0.4889\n",
            "Epoch 10/50\n",
            "5/5 [==============================] - 1s 147ms/step - loss: 0.8755 - accuracy: 0.9778 - val_loss: 154.4563 - val_accuracy: 0.5333\n",
            "Epoch 11/50\n",
            "5/5 [==============================] - 1s 142ms/step - loss: 0.2436 - accuracy: 0.9852 - val_loss: 149.0093 - val_accuracy: 0.4889\n",
            "Epoch 12/50\n",
            "5/5 [==============================] - 1s 149ms/step - loss: 0.5212 - accuracy: 0.9926 - val_loss: 146.3504 - val_accuracy: 0.4667\n",
            "Epoch 13/50\n",
            "5/5 [==============================] - 1s 152ms/step - loss: 1.3586 - accuracy: 0.9778 - val_loss: 145.5193 - val_accuracy: 0.4889\n",
            "Epoch 14/50\n",
            "5/5 [==============================] - 1s 151ms/step - loss: 0.3768 - accuracy: 0.9778 - val_loss: 150.3011 - val_accuracy: 0.4667\n",
            "Epoch 15/50\n",
            "5/5 [==============================] - 1s 149ms/step - loss: 0.2228 - accuracy: 0.9852 - val_loss: 184.9753 - val_accuracy: 0.4000\n",
            "Epoch 16/50\n",
            "5/5 [==============================] - 1s 144ms/step - loss: 2.7589 - accuracy: 0.9556 - val_loss: 182.9620 - val_accuracy: 0.4444\n",
            "Epoch 17/50\n",
            "5/5 [==============================] - 1s 145ms/step - loss: 4.3131 - accuracy: 0.9407 - val_loss: 152.1840 - val_accuracy: 0.4222\n",
            "Epoch 18/50\n",
            "5/5 [==============================] - 1s 145ms/step - loss: 0.7648 - accuracy: 0.9481 - val_loss: 117.1286 - val_accuracy: 0.4667\n",
            "Epoch 19/50\n",
            "5/5 [==============================] - 1s 143ms/step - loss: 0.9312 - accuracy: 0.9630 - val_loss: 111.1874 - val_accuracy: 0.4667\n",
            "Epoch 20/50\n",
            "5/5 [==============================] - 1s 146ms/step - loss: 1.1204 - accuracy: 0.9630 - val_loss: 102.1416 - val_accuracy: 0.5333\n",
            "Epoch 21/50\n",
            "5/5 [==============================] - 1s 147ms/step - loss: 1.4530 - accuracy: 0.9630 - val_loss: 98.0724 - val_accuracy: 0.5111\n",
            "Epoch 22/50\n",
            "5/5 [==============================] - 1s 146ms/step - loss: 2.3687 - accuracy: 0.9556 - val_loss: 154.9874 - val_accuracy: 0.4000\n",
            "Epoch 23/50\n",
            "5/5 [==============================] - 1s 147ms/step - loss: 1.2610 - accuracy: 0.9556 - val_loss: 222.0235 - val_accuracy: 0.4000\n",
            "Epoch 24/50\n",
            "5/5 [==============================] - 1s 143ms/step - loss: 2.5089 - accuracy: 0.9185 - val_loss: 212.0258 - val_accuracy: 0.4000\n",
            "Epoch 25/50\n",
            "5/5 [==============================] - 1s 146ms/step - loss: 0.3942 - accuracy: 0.9926 - val_loss: 208.4473 - val_accuracy: 0.5556\n",
            "Epoch 26/50\n",
            "5/5 [==============================] - 1s 144ms/step - loss: 1.8527 - accuracy: 0.9407 - val_loss: 213.2715 - val_accuracy: 0.4667\n",
            "Epoch 27/50\n",
            "5/5 [==============================] - 1s 150ms/step - loss: 4.6964 - accuracy: 0.9556 - val_loss: 236.9170 - val_accuracy: 0.4222\n",
            "Epoch 28/50\n",
            "5/5 [==============================] - 1s 143ms/step - loss: 5.6544 - accuracy: 0.8889 - val_loss: 200.1493 - val_accuracy: 0.5333\n",
            "Epoch 29/50\n",
            "5/5 [==============================] - 1s 149ms/step - loss: 0.9898 - accuracy: 0.9556 - val_loss: 201.0370 - val_accuracy: 0.5333\n",
            "Epoch 30/50\n",
            "5/5 [==============================] - 1s 154ms/step - loss: 0.5851 - accuracy: 0.9704 - val_loss: 197.1839 - val_accuracy: 0.4444\n",
            "Epoch 31/50\n",
            "5/5 [==============================] - 1s 149ms/step - loss: 1.8924 - accuracy: 0.9778 - val_loss: 189.9623 - val_accuracy: 0.4667\n",
            "Epoch 32/50\n",
            "5/5 [==============================] - 1s 149ms/step - loss: 4.2208e-07 - accuracy: 1.0000 - val_loss: 193.1162 - val_accuracy: 0.4667\n",
            "Epoch 33/50\n",
            "5/5 [==============================] - 1s 151ms/step - loss: 0.1981 - accuracy: 0.9778 - val_loss: 199.3976 - val_accuracy: 0.4889\n",
            "Epoch 34/50\n",
            "5/5 [==============================] - 1s 146ms/step - loss: 3.2671e-07 - accuracy: 1.0000 - val_loss: 203.7699 - val_accuracy: 0.5333\n",
            "Epoch 35/50\n",
            "5/5 [==============================] - 1s 148ms/step - loss: 1.8945 - accuracy: 0.9481 - val_loss: 197.9373 - val_accuracy: 0.4889\n",
            "Epoch 36/50\n",
            "5/5 [==============================] - 1s 146ms/step - loss: 0.6701 - accuracy: 0.9852 - val_loss: 188.4089 - val_accuracy: 0.4444\n",
            "Epoch 37/50\n",
            "5/5 [==============================] - 1s 142ms/step - loss: 0.8502 - accuracy: 0.9481 - val_loss: 181.4378 - val_accuracy: 0.4222\n",
            "Epoch 38/50\n",
            "5/5 [==============================] - 1s 146ms/step - loss: 0.1505 - accuracy: 0.9852 - val_loss: 173.6801 - val_accuracy: 0.4222\n",
            "Epoch 39/50\n",
            "5/5 [==============================] - 1s 142ms/step - loss: 1.0806 - accuracy: 0.9704 - val_loss: 176.8851 - val_accuracy: 0.4667\n",
            "Epoch 40/50\n",
            "5/5 [==============================] - 1s 144ms/step - loss: 0.3425 - accuracy: 0.9778 - val_loss: 182.8079 - val_accuracy: 0.4222\n",
            "Epoch 41/50\n",
            "5/5 [==============================] - 1s 147ms/step - loss: 0.4981 - accuracy: 0.9778 - val_loss: 186.3281 - val_accuracy: 0.4000\n",
            "Epoch 42/50\n",
            "5/5 [==============================] - 1s 147ms/step - loss: 2.5346 - accuracy: 0.9185 - val_loss: 186.5797 - val_accuracy: 0.3778\n",
            "Epoch 43/50\n",
            "5/5 [==============================] - 1s 145ms/step - loss: 0.5086 - accuracy: 0.9852 - val_loss: 199.7724 - val_accuracy: 0.5556\n",
            "Epoch 44/50\n",
            "5/5 [==============================] - 1s 146ms/step - loss: 0.6803 - accuracy: 0.9630 - val_loss: 217.9808 - val_accuracy: 0.5111\n",
            "Epoch 45/50\n",
            "5/5 [==============================] - 1s 147ms/step - loss: 0.2271 - accuracy: 0.9778 - val_loss: 242.6423 - val_accuracy: 0.4000\n",
            "Epoch 46/50\n",
            "5/5 [==============================] - 1s 142ms/step - loss: 0.4223 - accuracy: 0.9852 - val_loss: 255.1745 - val_accuracy: 0.4000\n",
            "Epoch 47/50\n",
            "5/5 [==============================] - 1s 151ms/step - loss: 0.1404 - accuracy: 0.9926 - val_loss: 254.9579 - val_accuracy: 0.3778\n",
            "Epoch 48/50\n",
            "5/5 [==============================] - 1s 155ms/step - loss: 0.0000e+00 - accuracy: 1.0000 - val_loss: 252.4012 - val_accuracy: 0.3778\n",
            "Epoch 49/50\n",
            "5/5 [==============================] - 1s 152ms/step - loss: 0.0361 - accuracy: 0.9926 - val_loss: 252.2718 - val_accuracy: 0.4000\n",
            "Epoch 50/50\n",
            "5/5 [==============================] - 1s 151ms/step - loss: 3.2133e-04 - accuracy: 1.0000 - val_loss: 252.3869 - val_accuracy: 0.4000\n",
            "2/2 [==============================] - 0s 25ms/step\n",
            "2/2 [==============================] - 0s 26ms/step\n"
          ]
        },
        {
          "output_type": "display_data",
          "data": {
            "text/plain": [
              "<Figure size 200x200 with 2 Axes>"
            ],
            "image/png": "[encoded data removed]"
          },
          "metadata": {}
        },
        {
          "output_type": "stream",
          "name": "stdout",
          "text": [
            "[[14  8]\n",
            " [15  8]]\n",
            "              precision    recall  f1-score   support\n",
            "\n",
            "           0       0.48      0.64      0.55        22\n",
            "           1       0.50      0.35      0.41        23\n",
            "\n",
            "    accuracy                           0.49        45\n",
            "   macro avg       0.49      0.49      0.48        45\n",
            "weighted avg       0.49      0.49      0.48        45\n",
            "\n"
          ]
        }
      ],
      "source": [
        "\n",
        "class myCallback(tf.keras.callbacks.Callback):\n",
        "      def on_epoch_end(self, epoch, logs={}):\n",
        "        if(logs.get('val_accuracy')> 0.6 and logs.get('accuracy')> 0.78 ):\n",
        "        # if( logs.get('accuracy')> 0.87 ):\n",
        "              print(\"\\nAlcanzado el 85% de precisión, se cancela el entrenamiento!!\")\n",
        "              self.model.stop_training = True\n",
        "callbacks2 =myCallback()\n",
        "\n",
        "\n",
        "history = model.fit(X_train, y_train_cat, epochs=50, batch_size=32, validation_data=(X_val, y_val_cat), shuffle=True, callbacks=[callbacks2])\n",
        "# history = model.fit(X_train, y_train_cat, epochs=50, batch_size=64, validation_data=(X_val, y_val_cat), shuffle=True, callbacks=[callbacks2])\n",
        "# history = model.fit(X_train, y_train_cat, epochs=50, validation_data=(X_val, y_val_cat), shuffle=True, callbacks=[callbacks2])\n",
        "# validation_split:0.2\n",
        "# history = model.fit(X_train, y_train_cat, epochs=100, batch_size=16, shuffle=True, callbacks=[callbacks2])\n",
        "\n",
        "\n",
        "y_pred = model.predict(X_val)\n",
        "y_pred2 = [np.argmax(i) for i in y_pred]\n",
        "y_val2=  [np.argmax(i) for i in y_val_cat]\n",
        "# show_results(y_val,y_pred2)\n",
        "\n",
        "\n",
        "# x_test = np.array(x_test_raw)\n",
        "# y_test = np.array(y_test_raw)\n",
        "\n",
        "y_test_pred = model.predict(X_test)\n",
        "y_test_pred2 = [np.argmax(i) for i in y_test_pred]\n",
        "show_results(y_test,y_test_pred2)3d"
      ]
    },
    {
      "cell_type": "code",
      "source": [
        "\n",
        "y_test_pred = model.predict(X_test)\n",
        "y_test_pred2 = [np.argmax(i) for i in y_test_pred]\n",
        "show_results(y_test,y_test_pred2)"
      ],
      "metadata": {
        "colab": {
          "base_uri": "https://localhost:8080/",
          "height": 464
        },
        "id": "FifQS4Em__sv",
        "outputId": "e282e97b-3ca0-430a-9209-532019dc2034"
      },
      "id": "FifQS4Em__sv",
      "execution_count": null,
      "outputs": [
        {
          "output_type": "stream",
          "name": "stdout",
          "text": [
            "1/1 [==============================] - 0s 27ms/step\n"
          ]
        },
        {
          "output_type": "display_data",
          "data": {
            "text/plain": [
              "<Figure size 200x200 with 2 Axes>"
            ],
            "image/png": "[encoded data removed]"
          },
          "metadata": {}
        },
        {
          "output_type": "stream",
          "name": "stdout",
          "text": [
            "[[15  0]\n",
            " [ 5  9]]\n",
            "              precision    recall  f1-score   support\n",
            "\n",
            "           0       0.75      1.00      0.86        15\n",
            "           1       1.00      0.64      0.78        14\n",
            "\n",
            "    accuracy                           0.83        29\n",
            "   macro avg       0.88      0.82      0.82        29\n",
            "weighted avg       0.87      0.83      0.82        29\n",
            "\n"
          ]
        }
      ]
    },
    {
      "cell_type": "code",
      "source": [
        "file = str(os.getcwd() +prefix+ '/model_javier_raw_wavelet_03_alltest63.keras')\n",
        "# new_model = tf.keras.models.load_model('model_javier_raw_wavelet_03_alltest63.keras', compile=False)\n",
        "new_model = tf.keras.models.load_model(file, compile=False)"
      ],
      "metadata": {
        "id": "jrhjDnUWGVfD"
      },
      "id": "jrhjDnUWGVfD",
      "execution_count": 3,
      "outputs": []
    },
    {
      "cell_type": "code",
      "source": [
        "# from keras.utils.vis_utils import plot_model\n",
        "\n",
        "paths = [\n",
        "\n",
        "           str(os.getcwd() +prefix +\"/pruebas/preguntas_01-50/javier/ses01/remove_some_negative/\"),\n",
        "                      str(os.getcwd() +prefix +\"/pruebas/preguntas_01-50/javier/ses03/remove_some_negative/\"),\n",
        "str(os.getcwd() +prefix +\"/pruebas/preguntas_01-50/javier/ses04/remove_some_negative/\"),\n",
        "           str(os.getcwd() +prefix +\"/pruebas/preguntas_01-50/javier/ses05/remove_some_negative/\"),\n",
        "str(os.getcwd() +prefix +\"/../FASE1/pruebas/preguntas_01-30/javier/ses01/\"),\n",
        "str(os.getcwd() +prefix +\"/../FASE1/pruebas/preguntas_01-30/javier/ses02/\"),\n",
        " str(os.getcwd() +prefix +\"/../FASE1/pruebas/preguntas_01-30/javier/ses03/\"),\n",
        "\n",
        "\t\t]\n",
        "\n",
        "\n",
        "X_raw_mytest,y_raw_mytest= load_data_wavelets(paths)\n",
        "X_mytest = np.array(X_raw_mytest)\n",
        "y_mytest = np.array(y_raw_mytest)\n",
        "\n",
        "\n",
        "y_test_pred = new_model.predict(X_mytest)\n",
        "y_test_pred2 = [np.argmax(i) for i in y_test_pred]\n",
        "show_results(y_mytest,y_test_pred2)\n",
        "# X_test\n",
        "new_model.summary()\n",
        "\n",
        "# plot_model(new_model, to_file='model_plot.png', show_shapes=True, show_layer_names=True)\n"
      ],
      "metadata": {
        "colab": {
          "base_uri": "https://localhost:8080/",
          "height": 1000
        },
        "id": "a3cCGnWZ_CyM",
        "outputId": "3c247137-16d4-493b-e4d5-f8cb03d45f49"
      },
      "id": "a3cCGnWZ_CyM",
      "execution_count": 9,
      "outputs": [
        {
          "output_type": "stream",
          "name": "stdout",
          "text": [
            "4/4 [==============================] - 0s 146ms/step\n"
          ]
        },
        {
          "output_type": "display_data",
          "data": {
            "text/plain": [
              "<Figure size 200x200 with 2 Axes>"
            ],
            "image/png": "[encoded data removed]"
          },
          "metadata": {}
        },
        {
          "output_type": "stream",
          "name": "stdout",
          "text": [
            "[[81 15]\n",
            " [15  7]]\n",
            "              precision    recall  f1-score   support\n",
            "\n",
            "           0       0.84      0.84      0.84        96\n",
            "           1       0.32      0.32      0.32        22\n",
            "\n",
            "    accuracy                           0.75       118\n",
            "   macro avg       0.58      0.58      0.58       118\n",
            "weighted avg       0.75      0.75      0.75       118\n",
            "\n",
            "Model: \"sequential\"\n",
            "_________________________________________________________________\n",
            " Layer (type)                Output Shape              Param #   \n",
            "=================================================================\n",
            " conv2d (Conv2D)             (None, 122, 998, 16)      160       \n",
            "                                                                 \n",
            " batch_normalization (Batch  (None, 122, 998, 16)      64        \n",
            " Normalization)                                                  \n",
            "                                                                 \n",
            " max_pooling2d (MaxPooling2  (None, 61, 499, 16)       0         \n",
            " D)                                                              \n",
            "                                                                 \n",
            " conv2d_1 (Conv2D)           (None, 59, 497, 32)       4640      \n",
            "                                                                 \n",
            " batch_normalization_1 (Bat  (None, 59, 497, 32)       128       \n",
            " chNormalization)                                                \n",
            "                                                                 \n",
            " max_pooling2d_1 (MaxPoolin  (None, 29, 248, 32)       0         \n",
            " g2D)                                                            \n",
            "                                                                 \n",
            " dropout (Dropout)           (None, 29, 248, 32)       0         \n",
            "                                                                 \n",
            " flatten (Flatten)           (None, 230144)            0         \n",
            "                                                                 \n",
            " dense (Dense)               (None, 128)               29458560  \n",
            "                                                                 \n",
            " dropout_1 (Dropout)         (None, 128)               0         \n",
            "                                                                 \n",
            " dense_1 (Dense)             (None, 64)                8256      \n",
            "                                                                 \n",
            " dropout_2 (Dropout)         (None, 64)                0         \n",
            "                                                                 \n",
            " dense_2 (Dense)             (None, 2)                 130       \n",
            "                                                                 \n",
            "=================================================================\n",
            "Total params: 29471938 (112.43 MB)\n",
            "Trainable params: 29471842 (112.43 MB)\n",
            "Non-trainable params: 96 (384.00 Byte)\n",
            "_________________________________________________________________\n"
          ]
        }
      ]
    },
    {
      "cell_type": "code",
      "source": [],
      "metadata": {
        "id": "3Aoz4GVQGS4U"
      },
      "id": "3Aoz4GVQGS4U",
      "execution_count": null,
      "outputs": []
    },
    {
      "cell_type": "code",
      "execution_count": null,
      "id": "4b95147a-b0bb-4056-91f0-7e7e9617be90",
      "metadata": {
        "id": "4b95147a-b0bb-4056-91f0-7e7e9617be90"
      },
      "outputs": [],
      "source": [
        "# model.save('model_silvia_raw_wavelet_05_morlet2_mixalltraintest_remove_pastillas_66.keras')\n",
        "# model.save('model_javier_raw_wavelet_04_model2_mixallalltest69.keras')\n"
      ]
    },
    {
      "cell_type": "code",
      "source": [
        "!pwd"
      ],
      "metadata": {
        "colab": {
          "base_uri": "https://localhost:8080/"
        },
        "id": "IIWFcRgthEo3",
        "outputId": "8626e479-8296-4c9a-9389-9493782feab0"
      },
      "id": "IIWFcRgthEo3",
      "execution_count": null,
      "outputs": [
        {
          "output_type": "stream",
          "name": "stdout",
          "text": [
            "/content\n"
          ]
        }
      ]
    },
    {
      "cell_type": "code",
      "execution_count": null,
      "id": "49659871-9400-4b66-98e0-4b7baf1a99e2",
      "metadata": {
        "id": "49659871-9400-4b66-98e0-4b7baf1a99e2",
        "outputId": "abfd473c-91e4-4d56-adcd-40bbf1286eeb"
      },
      "outputs": [
        {
          "name": "stdout",
          "output_type": "stream",
          "text": [
            "(1000, 1, 1)\n"
          ]
        },
        {
          "ename": "ValueError",
          "evalue": "Exception encountered when calling layer \"lambda\" (type Lambda).\n\nDimension must be 3 but is 1 for '{{node lambda/RGBToHSV}} = RGBToHSV[T=DT_FLOAT](Placeholder)' with input shapes: [?,1000,1,1].\n\nCall arguments received by layer \"lambda\" (type Lambda):\n  • inputs=tf.Tensor(shape=(None, 1000, 1, 1), dtype=float32)\n  • mask=None\n  • training=None",
          "output_type": "error",
          "traceback": [
            "\u001b[1;31m---------------------------------------------------------------------------\u001b[0m",
            "\u001b[1;31mValueError\u001b[0m                                Traceback (most recent call last)",
            "\u001b[1;32m~\\AppData\\Local\\Temp\\ipykernel_13424\\2367443170.py\u001b[0m in \u001b[0;36m<module>\u001b[1;34m\u001b[0m\n\u001b[0;32m     98\u001b[0m \u001b[0mprint\u001b[0m\u001b[1;33m(\u001b[0m\u001b[0minput_shape\u001b[0m\u001b[1;33m)\u001b[0m\u001b[1;33m\u001b[0m\u001b[1;33m\u001b[0m\u001b[0m\n\u001b[0;32m     99\u001b[0m \u001b[1;33m\u001b[0m\u001b[0m\n\u001b[1;32m--> 100\u001b[1;33m \u001b[0mmodel\u001b[0m \u001b[1;33m=\u001b[0m \u001b[0mwavelet_cnn\u001b[0m\u001b[1;33m(\u001b[0m\u001b[0minput_shape\u001b[0m\u001b[1;33m)\u001b[0m\u001b[1;33m\u001b[0m\u001b[1;33m\u001b[0m\u001b[0m\n\u001b[0m\u001b[0;32m    101\u001b[0m \u001b[1;33m\u001b[0m\u001b[0m\n\u001b[0;32m    102\u001b[0m \u001b[0mprint\u001b[0m\u001b[1;33m(\u001b[0m\u001b[0mmodel\u001b[0m\u001b[1;33m.\u001b[0m\u001b[0msummary\u001b[0m\u001b[1;33m(\u001b[0m\u001b[1;33m)\u001b[0m\u001b[1;33m)\u001b[0m\u001b[1;33m\u001b[0m\u001b[1;33m\u001b[0m\u001b[0m\n",
            "\u001b[1;32m~\\AppData\\Local\\Temp\\ipykernel_13424\\2367443170.py\u001b[0m in \u001b[0;36mwavelet_cnn\u001b[1;34m(input_shape, ks, baselev, wavelet, wave_kern, hsv, convrep, num_classes)\u001b[0m\n\u001b[0;32m     35\u001b[0m         \u001b[1;31m# convert RGB to HSV?\u001b[0m\u001b[1;33m\u001b[0m\u001b[1;33m\u001b[0m\u001b[0m\n\u001b[0;32m     36\u001b[0m         \u001b[1;32mif\u001b[0m \u001b[0mhsv\u001b[0m\u001b[1;33m:\u001b[0m\u001b[1;33m\u001b[0m\u001b[1;33m\u001b[0m\u001b[0m\n\u001b[1;32m---> 37\u001b[1;33m             \u001b[0mwave0\u001b[0m \u001b[1;33m=\u001b[0m \u001b[0mLambda\u001b[0m\u001b[1;33m(\u001b[0m\u001b[1;32mlambda\u001b[0m \u001b[0mx\u001b[0m\u001b[1;33m:\u001b[0m \u001b[0mtf\u001b[0m\u001b[1;33m.\u001b[0m\u001b[0mimage\u001b[0m\u001b[1;33m.\u001b[0m\u001b[0mrgb_to_hsv\u001b[0m\u001b[1;33m(\u001b[0m\u001b[0mx\u001b[0m\u001b[1;33m)\u001b[0m\u001b[1;33m)\u001b[0m\u001b[1;33m(\u001b[0m\u001b[0minputs\u001b[0m\u001b[1;33m)\u001b[0m\u001b[1;33m\u001b[0m\u001b[1;33m\u001b[0m\u001b[0m\n\u001b[0m\u001b[0;32m     38\u001b[0m         \u001b[1;32melse\u001b[0m\u001b[1;33m:\u001b[0m\u001b[1;33m\u001b[0m\u001b[1;33m\u001b[0m\u001b[0m\n\u001b[0;32m     39\u001b[0m             \u001b[0mwave0\u001b[0m \u001b[1;33m=\u001b[0m \u001b[0minputs\u001b[0m\u001b[1;33m\u001b[0m\u001b[1;33m\u001b[0m\u001b[0m\n",
            "\u001b[1;32m~\\anaconda3\\lib\\site-packages\\keras\\src\\utils\\traceback_utils.py\u001b[0m in \u001b[0;36merror_handler\u001b[1;34m(*args, **kwargs)\u001b[0m\n\u001b[0;32m     68\u001b[0m             \u001b[1;31m# To get the full stack trace, call:\u001b[0m\u001b[1;33m\u001b[0m\u001b[1;33m\u001b[0m\u001b[0m\n\u001b[0;32m     69\u001b[0m             \u001b[1;31m# `tf.debugging.disable_traceback_filtering()`\u001b[0m\u001b[1;33m\u001b[0m\u001b[1;33m\u001b[0m\u001b[0m\n\u001b[1;32m---> 70\u001b[1;33m             \u001b[1;32mraise\u001b[0m \u001b[0me\u001b[0m\u001b[1;33m.\u001b[0m\u001b[0mwith_traceback\u001b[0m\u001b[1;33m(\u001b[0m\u001b[0mfiltered_tb\u001b[0m\u001b[1;33m)\u001b[0m \u001b[1;32mfrom\u001b[0m \u001b[1;32mNone\u001b[0m\u001b[1;33m\u001b[0m\u001b[1;33m\u001b[0m\u001b[0m\n\u001b[0m\u001b[0;32m     71\u001b[0m         \u001b[1;32mfinally\u001b[0m\u001b[1;33m:\u001b[0m\u001b[1;33m\u001b[0m\u001b[1;33m\u001b[0m\u001b[0m\n\u001b[0;32m     72\u001b[0m             \u001b[1;32mdel\u001b[0m \u001b[0mfiltered_tb\u001b[0m\u001b[1;33m\u001b[0m\u001b[1;33m\u001b[0m\u001b[0m\n",
            "\u001b[1;32m~\\AppData\\Local\\Temp\\ipykernel_13424\\2367443170.py\u001b[0m in \u001b[0;36m<lambda>\u001b[1;34m(x)\u001b[0m\n\u001b[0;32m     35\u001b[0m         \u001b[1;31m# convert RGB to HSV?\u001b[0m\u001b[1;33m\u001b[0m\u001b[1;33m\u001b[0m\u001b[0m\n\u001b[0;32m     36\u001b[0m         \u001b[1;32mif\u001b[0m \u001b[0mhsv\u001b[0m\u001b[1;33m:\u001b[0m\u001b[1;33m\u001b[0m\u001b[1;33m\u001b[0m\u001b[0m\n\u001b[1;32m---> 37\u001b[1;33m             \u001b[0mwave0\u001b[0m \u001b[1;33m=\u001b[0m \u001b[0mLambda\u001b[0m\u001b[1;33m(\u001b[0m\u001b[1;32mlambda\u001b[0m \u001b[0mx\u001b[0m\u001b[1;33m:\u001b[0m \u001b[0mtf\u001b[0m\u001b[1;33m.\u001b[0m\u001b[0mimage\u001b[0m\u001b[1;33m.\u001b[0m\u001b[0mrgb_to_hsv\u001b[0m\u001b[1;33m(\u001b[0m\u001b[0mx\u001b[0m\u001b[1;33m)\u001b[0m\u001b[1;33m)\u001b[0m\u001b[1;33m(\u001b[0m\u001b[0minputs\u001b[0m\u001b[1;33m)\u001b[0m\u001b[1;33m\u001b[0m\u001b[1;33m\u001b[0m\u001b[0m\n\u001b[0m\u001b[0;32m     38\u001b[0m         \u001b[1;32melse\u001b[0m\u001b[1;33m:\u001b[0m\u001b[1;33m\u001b[0m\u001b[1;33m\u001b[0m\u001b[0m\n\u001b[0;32m     39\u001b[0m             \u001b[0mwave0\u001b[0m \u001b[1;33m=\u001b[0m \u001b[0minputs\u001b[0m\u001b[1;33m\u001b[0m\u001b[1;33m\u001b[0m\u001b[0m\n",
            "\u001b[1;31mValueError\u001b[0m: Exception encountered when calling layer \"lambda\" (type Lambda).\n\nDimension must be 3 but is 1 for '{{node lambda/RGBToHSV}} = RGBToHSV[T=DT_FLOAT](Placeholder)' with input shapes: [?,1000,1,1].\n\nCall arguments received by layer \"lambda\" (type Lambda):\n  • inputs=tf.Tensor(shape=(None, 1000, 1, 1), dtype=float32)\n  • mask=None\n  • training=None"
          ]
        }
      ],
      "source": [
        "# import tensorflow as tf\n",
        "# from tensorflow import keras\n",
        "# from tensorflow.keras import backend as K\n",
        "# from tensorflow.keras import regularizers\n",
        "# from tensorflow.keras.layers import (\n",
        "#     Input,\n",
        "#     Conv2D,\n",
        "#     Concatenate,\n",
        "#     Dense,\n",
        "#     Lambda,\n",
        "#     BatchNormalization,\n",
        "#     GlobalAveragePooling2D,\n",
        "#     Activation,\n",
        "# )\n",
        "# from tensorflow.keras.models import Model\n",
        "# from wavetf import WaveTFFactory\n",
        "\n",
        "\n",
        "# def wavelet_cnn(\n",
        "#     input_shape,\n",
        "#     ks=3,\n",
        "#     baselev=4,\n",
        "#     wavelet=True,\n",
        "#     wave_kern=\"db2\",\n",
        "#     hsv=True,\n",
        "#     convrep=2,\n",
        "#     num_classes=2,\n",
        "# ):\n",
        "#     inputs = Input(input_shape)\n",
        "#     chans = input_shape[2]  # number of channels, e.g., 3 if RGB\n",
        "#     bl = baselev\n",
        "\n",
        "#     # wavelet computation\n",
        "#     if wavelet:\n",
        "#         # convert RGB to HSV?\n",
        "#         if hsv:\n",
        "#             wave0 = Lambda(lambda x: tf.image.rgb_to_hsv(x))(inputs)\n",
        "#         else:\n",
        "#             wave0 = inputs\n",
        "#         # compute 4 level of wavelet\n",
        "#         wave1 = WaveTFFactory.build(wave_kern)(wave0)\n",
        "#         # compute new wavelet features from LL componenents\n",
        "#         wave2 = WaveTFFactory.build(wave_kern)(wave1[:, :, :, :chans])\n",
        "#         wave3 = WaveTFFactory.build(wave_kern)(wave2[:, :, :, :chans])\n",
        "#         wave4 = WaveTFFactory.build(wave_kern)(wave3[:, :, :, :chans])\n",
        "#         # normalize\n",
        "#         waves = [wave1, wave2, wave3, wave4]\n",
        "#         for l in waves:\n",
        "#             l = BatchNormalization()(l)\n",
        "#     else:\n",
        "#         wave1 = wave2 = wave3 = wave4 = None\n",
        "\n",
        "#     kinit = \"glorot_normal\"  # 'he_normal'\n",
        "\n",
        "#     def rep_conv(cnn, scale=1):\n",
        "#         for i in range(convrep):\n",
        "#             cnn = Conv2D(\n",
        "#                 scale * bl,\n",
        "#                 ks,\n",
        "#                 activation=\"relu\",\n",
        "#                 padding=\"same\",\n",
        "#                 kernel_initializer=kinit,\n",
        "#             )(cnn)\n",
        "#         return cnn\n",
        "\n",
        "#     def pool_down(cnn, mul):\n",
        "#         cnn = Conv2D(\n",
        "#             mul * bl,\n",
        "#             ks,\n",
        "#             activation=\"relu\",\n",
        "#             padding=\"same\",\n",
        "#             kernel_initializer=kinit,\n",
        "#             strides=(2, 2),\n",
        "#         )(cnn)\n",
        "#         return cnn\n",
        "\n",
        "#     cnn = inputs\n",
        "#     cnn = rep_conv(cnn, 1)\n",
        "\n",
        "#     for l in range(4):\n",
        "#         cnn = pool_down(cnn, 2 ** (l + 1))\n",
        "#         cnn = rep_conv(cnn, 2 ** (l + 1))\n",
        "#         if wavelet:\n",
        "#             cnn = Concatenate(axis=3)([cnn, waves[l]])\n",
        "\n",
        "#     # output\n",
        "#     cnn = Conv2D(2048, ks)(cnn)\n",
        "#     cnn = Activation(\"relu\")(cnn)\n",
        "#     cnn = GlobalAveragePooling2D()(cnn)\n",
        "#     outputs = Dense(num_classes, activation=\"softmax\")(cnn)\n",
        "#     model = Model(inputs=inputs, outputs=outputs)\n",
        "#     return model\n",
        "\n",
        "\n",
        "# # model = wavelet_cnn([128, 128, 3])\n",
        "\n",
        "# input_shape=(X_train.shape[1],X_train.shape[2],1)\n",
        "# print(input_shape)\n",
        "\n",
        "# model = wavelet_cnn(input_shape)\n",
        "\n",
        "# print(model.summary())\n",
        "\n",
        "# # net2 = wavelet_cnn([128, 128, 3], wave_kern=\"haar\")\n",
        "# # print(net2.summary())\n",
        "\n",
        "# history = model.fit(X_train, y_train_cat, epochs=100, batch_size=16, validation_data=(X_val, y_val_cat), shuffle=True, callbacks=[callbacks3])\n",
        "\n",
        "\n",
        "# y_pred = model.predict(X_val)\n",
        "# y_pred2 = [np.argmax(i) for i in y_pred]\n",
        "# y_val2=  [np.argmax(i) for i in y_val_cat]\n",
        "# # show_results(y_val,y_pred2)\n",
        "\n",
        "\n",
        "# x_test = np.array(x_test_raw)\n",
        "# y_test = np.array(y_test_raw)\n",
        "# y_test_pred = model.predict(x_test)\n",
        "# y_test_pred2 = [np.argmax(i) for i in y_test_pred]\n",
        "# show_results(y_test,y_test_pred2)\n"
      ]
    }
  ],
  "metadata": {
    "kernelspec": {
      "display_name": "Python 3",
      "name": "python3"
    },
    "language_info": {
      "codemirror_mode": {
        "name": "ipython",
        "version": 3
      },
      "file_extension": ".py",
      "mimetype": "text/x-python",
      "name": "python",
      "nbconvert_exporter": "python",
      "pygments_lexer": "ipython3",
      "version": "3.9.13"
    },
    "colab": {
      "provenance": [],
      "gpuType": "T4"
    },
    "accelerator": "GPU"
  },
  "nbformat": 4,
  "nbformat_minor": 5
}